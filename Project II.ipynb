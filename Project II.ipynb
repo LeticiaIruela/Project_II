{
 "cells": [
  {
   "cell_type": "markdown",
   "id": "1b91e83f",
   "metadata": {},
   "source": [
    "# 0. Libraries"
   ]
  },
  {
   "cell_type": "code",
   "execution_count": 1,
   "id": "02b324eb",
   "metadata": {},
   "outputs": [],
   "source": [
    "import pandas as pd\n",
    "import numpy as np\n",
    "import seaborn as sns\n",
    "from IPython.display import display, HTML\n",
    "import matplotlib.pyplot as plt\n",
    "import os\n",
    "import requests\n",
    "from bs4 import BeautifulSoup # pip install beautifulsoup4\n",
    "import pandas as pd\n",
    "import re"
   ]
  },
  {
   "cell_type": "markdown",
   "id": "eab71ac8",
   "metadata": {},
   "source": [
    "# 1. Web Scrapping "
   ]
  },
  {
   "cell_type": "markdown",
   "id": "b85d259e",
   "metadata": {},
   "source": [
    "The main goal of web scrapping in this website is to get the 5 top viral recipes worldwide in TikTok and their ingredients. Therefore, it would be qualitative searching."
   ]
  },
  {
   "cell_type": "markdown",
   "id": "212ee1a0",
   "metadata": {},
   "source": [
    "We are going to scrapp the most popular website in Spain about recipes: : www.directoalpaladar.com"
   ]
  },
  {
   "cell_type": "code",
   "execution_count": 2,
   "id": "368921c7",
   "metadata": {},
   "outputs": [],
   "source": [
    "# URL from the website\n",
    "url = 'https://www.directoalpaladar.com/actualidad-1/estas-han-sido-diez-recetas-virales-tiktok-2022'\n",
    "\n",
    "response = requests.get(url)\n",
    "soup = BeautifulSoup(response.content, 'html.parser')"
   ]
  },
  {
   "cell_type": "code",
   "execution_count": 3,
   "id": "ee2cb686",
   "metadata": {},
   "outputs": [],
   "source": [
    "# We want to find the labels <h2>, as they are the ones with ores valuated information\"ingredients\" \n",
    "dict_recipes = {}\n",
    "for i in soup.find_all('h2'):\n",
    "    key = i.get_text().strip()\n",
    "    value = \"\"\n",
    "    next_node = i.next_sibling\n",
    "    while next_node and next_node.name != 'h2':\n",
    "        if next_node.name is not None:\n",
    "            value += next_node.get_text().strip() + \" \"\n",
    "        next_node = next_node.next_sibling\n",
    "    dict_recipes[key] = value.strip()\n"
   ]
  },
  {
   "cell_type": "markdown",
   "id": "3f8f0d51",
   "metadata": {},
   "source": [
    "1.1 Web scrapping to get the ingredients"
   ]
  },
  {
   "cell_type": "code",
   "execution_count": 4,
   "id": "b4613133",
   "metadata": {},
   "outputs": [],
   "source": [
    "#With the following loop we iterate \n",
    "new_dict = {}\n",
    "for key, value in dict_recipes.items(): \n",
    "    # Iterate where the word \"Ingredientes\" appears:\n",
    "    ingredients_index = value.find(\"Ingredientes\")\n",
    "    # if \"Ingredientes\" it's in the string, we proceed as follows:\n",
    "    if ingredients_index != -1:\n",
    "        # Find the index where \"Elaboración\" appears\n",
    "        elaboration_index = value.find(\"Elaboración\")\n",
    "        # If \"Elaboración\" it's present, we delete what is comming after (as we are not interested in get the recipe elaboration)\n",
    "        if elaboration_index != -1:\n",
    "            value = value[ingredients_index:elaboration_index]\n",
    "        # If not, we delete everything is after Ingredients.S\n",
    "        else:\n",
    "            value = value[ingredients_index:]\n",
    "    # If Ingredients it's not in the text, we eliminate everything\n",
    "    else:\n",
    "        value = dict_recipes[key]\n",
    "    new_dict[key] = value\n"
   ]
  },
  {
   "cell_type": "markdown",
   "id": "5da9c849",
   "metadata": {},
   "source": [
    "More cleaning...."
   ]
  },
  {
   "cell_type": "code",
   "execution_count": 5,
   "id": "05ece6a4",
   "metadata": {},
   "outputs": [
    {
     "name": "stdout",
     "output_type": "stream",
     "text": [
      "{'1. Pan nube': 'Ingredientes para unas 9 unidades. 3 huevos L, 100 g de queso crema, 1/4 cucharadita de bicarbonato sódico.\\n', '2. Avena horneada': 'Ingredientes.  100 g de copos de avena gruesos, 1 plátano grande o 2 medianos, 250 ml de leche o bebida vegetal, 1 cucharadita de canela, 1 cucharadita opcional de vainilla, 10 g de semillas de chía, una pizca de sal, 15 g de nueces picadas, 25 g de arándanos, ralladura de naranja opcional.\\n', '3. Tabla de charcutería': '', '4. Pasta chips': 'Ingredientes para 4 personas. 500 g de pasta corta seca, queso parmesano o grana padano rallado, sal, pimienta negra, ajo granulado, chile en copos o pimentón picante, orégano y aceite de oliva virgen extra.\\n', '5. Mug cake': 'Ingredientes para 1-2 unidades. 70 g de chocolate negro, 30 g de mantequilla, 1 huevo M, 10-20 g de azúcar, 20 g de harina de repostería.\\n', '6. Birria tacos': '', '7. Salsa rosa': '', '8. Rollos de canela': 'Ingredientes. 325 g de harina de fuerza, 2 g de sal, 125 ml de leche, 3,5 g de levadura seca de panadería, 35 g de azúcar, 1 huevo L, 65 g de mantequilla, 50 g de azúcar moreno, 10 g de canela molida, 75 g de azúcar glasé, agua.\\n', '9. Tablas de nachos': '', '10. Tablas de mantequilla': ''}\n"
     ]
    }
   ],
   "source": [
    "for key, value in dict_recipes.items():\n",
    "    ingredients_index = value.find(\"Ingredientes\")\n",
    "    if ingredients_index != -1:\n",
    "        dict_recipes[key] = value[ingredients_index:]\n",
    "    else:\n",
    "        dict_recipes[key] = \"\"\n",
    "    elaboracion_index = dict_recipes[key].find(\"Elaboración\")\n",
    "    if elaboracion_index != -1:\n",
    "        dict_recipes[key] = dict_recipes[key][:elaboracion_index]\n",
    "print(dict_recipes)"
   ]
  },
  {
   "cell_type": "markdown",
   "id": "1086b84e",
   "metadata": {},
   "source": [
    "Cleaning in order to have only the top 5. Therefore, we .pop:"
   ]
  },
  {
   "cell_type": "code",
   "execution_count": 6,
   "id": "3f3674e1",
   "metadata": {},
   "outputs": [
    {
     "data": {
      "text/plain": [
       "{'1. Pan nube': 'Ingredientes para unas 9 unidades. 3 huevos L, 100 g de queso crema, 1/4 cucharadita de bicarbonato sódico.\\n',\n",
       " '2. Avena horneada': 'Ingredientes.  100 g de copos de avena gruesos, 1 plátano grande o 2 medianos, 250 ml de leche o bebida vegetal, 1 cucharadita de canela, 1 cucharadita opcional de vainilla, 10 g de semillas de chía, una pizca de sal, 15 g de nueces picadas, 25 g de arándanos, ralladura de naranja opcional.\\n',\n",
       " '3. Tabla de charcutería': '',\n",
       " '4. Pasta chips': 'Ingredientes para 4 personas. 500 g de pasta corta seca, queso parmesano o grana padano rallado, sal, pimienta negra, ajo granulado, chile en copos o pimentón picante, orégano y aceite de oliva virgen extra.\\n',\n",
       " '5. Mug cake': 'Ingredientes para 1-2 unidades. 70 g de chocolate negro, 30 g de mantequilla, 1 huevo M, 10-20 g de azúcar, 20 g de harina de repostería.\\n'}"
      ]
     },
     "execution_count": 6,
     "metadata": {},
     "output_type": "execute_result"
    }
   ],
   "source": [
    "remove_recipes=['6. Birria tacos','7. Salsa rosa','8. Rollos de canela','9. Tablas de nachos','10. Tablas de mantequilla']\n",
    "[dict_recipes.pop(x,None) for x in remove_recipes]\n",
    "dict_recipes"
   ]
  },
  {
   "cell_type": "markdown",
   "id": "78d25332",
   "metadata": {},
   "source": [
    "We decided to cleaning, assigning a list of desired words:"
   ]
  },
  {
   "cell_type": "code",
   "execution_count": 7,
   "id": "965f7ca6",
   "metadata": {},
   "outputs": [
    {
     "data": {
      "text/plain": [
       "{'1. Pan nube': 'huevos queso bicarbonato',\n",
       " '2. Avena horneada': 'avena plátano canela vainilla chía sal nueces arándanos naranja',\n",
       " '3. Tabla de charcutería': '',\n",
       " '4. Pasta chips': 'pasta queso sal pimienta ajo chile orégano aceite',\n",
       " '5. Mug cake': 'chocolate mantequilla azúcar harina'}"
      ]
     },
     "execution_count": 7,
     "metadata": {},
     "output_type": "execute_result"
    }
   ],
   "source": [
    "desired_words = ['huevos', 'queso', 'bicarbonato', 'avena', 'canela', 'plátano', 'chía', 'sal', 'nueces', 'arándanos', 'naranja', 'pasta', 'queso parmesano', 'pimienta', 'ajo', 'chile', 'orégano', 'aceite', 'chocolate', 'mantequilla', 'azúcar', 'harina', 'levadura', 'canela', 'agua', 'vainilla']\n",
    "\n",
    "new_dict = {}\n",
    "for key, value in dict_recipes.items():\n",
    "    words = []\n",
    "    for word in value.split():\n",
    "        word = word.strip().strip(',.')\n",
    "        if word.lower() in desired_words:\n",
    "            words.append(word)\n",
    "    new_dict[key] = ' '.join(words)\n",
    "new_dict"
   ]
  },
  {
   "cell_type": "markdown",
   "id": "e039f003",
   "metadata": {},
   "source": [
    "Let's separate with commas and convert into UPPER to homogenize (because the data set on the consume is in Uppers)"
   ]
  },
  {
   "cell_type": "code",
   "execution_count": 8,
   "id": "6b7e23b8",
   "metadata": {},
   "outputs": [
    {
     "name": "stdout",
     "output_type": "stream",
     "text": [
      "{'1. Pan nube': 'HUEVOS, QUESO, BICARBONATO', '2. Avena horneada': 'AVENA, PLÁTANO, CANELA, VAINILLA, CHÍA, SAL, NUECES, ARÁNDANOS, NARANJA', '3. Tabla de charcutería': '', '4. Pasta chips': 'PASTA, QUESO, SAL, PIMIENTA, AJO, CHILE, ORÉGANO, ACEITE', '5. Mug cake': 'CHOCOLATE, MANTEQUILLA, AZÚCAR, HARINA'}\n"
     ]
    }
   ],
   "source": [
    "for key, value in new_dict.items():\n",
    "    words = value.upper().split()\n",
    "    words = \", \".join([word.upper() for word in words])\n",
    "    new_dict[key] = words\n",
    "print(new_dict)"
   ]
  },
  {
   "cell_type": "markdown",
   "id": "1a51e4d0",
   "metadata": {},
   "source": [
    "There are some missing values in the ingredients in our website, so we will try to find this data in other websites:"
   ]
  },
  {
   "cell_type": "code",
   "execution_count": 9,
   "id": "95fd5b35",
   "metadata": {},
   "outputs": [
    {
     "name": "stdout",
     "output_type": "stream",
     "text": [
      "3. Tabla de charcutería\n"
     ]
    }
   ],
   "source": [
    "for key, value in new_dict.items():\n",
    "    if value == '':\n",
    "        print(f'{key}')"
   ]
  },
  {
   "cell_type": "markdown",
   "id": "f425975b",
   "metadata": {},
   "source": [
    "#### Recipe top3 - Charcuterie Board\n"
   ]
  },
  {
   "cell_type": "markdown",
   "id": "d295f0f2",
   "metadata": {},
   "source": [
    "Web scrapping, cleaning and transformation from other website: 'https://www.spendwithpennies.com/how-to-make-a-charcuterie-board/"
   ]
  },
  {
   "cell_type": "code",
   "execution_count": 10,
   "id": "f11976d0",
   "metadata": {},
   "outputs": [],
   "source": [
    "url = 'https://www.spendwithpennies.com/how-to-make-a-charcuterie-board/'\n",
    "response = requests.get(url)\n",
    "soup2 = BeautifulSoup(response.content, 'html.parser')\n"
   ]
  },
  {
   "cell_type": "markdown",
   "id": "4dec55ca",
   "metadata": {},
   "source": [
    "Find the ingredients throught the class."
   ]
  },
  {
   "cell_type": "code",
   "execution_count": 11,
   "id": "67d482b5",
   "metadata": {},
   "outputs": [
    {
     "name": "stdout",
     "output_type": "stream",
     "text": [
      "['Meats', 'Cheese ', 'Bread &amp; Crackers', 'Fruit &amp; Nuts', 'Sweet', 'Pickles, Olives, &amp; Dips']\n"
     ]
    }
   ],
   "source": [
    "import re\n",
    "ingredient_charquterias = soup2.find_all(\"div\", attrs = {\"class\": \"is-layout-flow wp-block-group\"})\n",
    "list_ingredients_char=[]\n",
    "for div in ingredient_charquterias:\n",
    "    for p in div.find_all('p'):\n",
    "        ingredient=re.search('<strong><em>(.*?)<\\/em><\\/strong>', str(p))\n",
    "        if ingredient:\n",
    "            list_ingredients_char.append(ingredient.group(1))     \n",
    "print(list_ingredients_char)"
   ]
  },
  {
   "cell_type": "markdown",
   "id": "f88a63e8",
   "metadata": {},
   "source": [
    "Cleaning weird characters (&amp):"
   ]
  },
  {
   "cell_type": "code",
   "execution_count": 12,
   "id": "c529de2a",
   "metadata": {},
   "outputs": [
    {
     "name": "stdout",
     "output_type": "stream",
     "text": [
      "['Meats', 'Cheese ', 'Bread & Crackers', 'Fruit & Nuts', 'Sweet', 'Pickles, Olives, & Dips']\n"
     ]
    }
   ],
   "source": [
    "cleaned_ingredients = [i.replace('&amp;', '&') for i in list_ingredients_char]\n",
    "print(cleaned_ingredients)"
   ]
  },
  {
   "cell_type": "markdown",
   "id": "f099bba5",
   "metadata": {},
   "source": [
    "Homogenize: Translate word into spanish, as all the data is in Spanish. We will use a library googletrans"
   ]
  },
  {
   "cell_type": "code",
   "execution_count": 13,
   "id": "4468229d",
   "metadata": {},
   "outputs": [
    {
     "name": "stdout",
     "output_type": "stream",
     "text": [
      "['Carnes', 'Queso', 'Pan y galletas', 'Frutas y nueces', 'Dulce', 'Encurtidos, aceitunas y caídas']\n"
     ]
    }
   ],
   "source": [
    "from googletrans import Translator\n",
    "translator = Translator()\n",
    "cleaned_ingredients=['Meats', 'Cheese ', 'Bread & Crackers', 'Fruit & Nuts', 'Sweet', 'Pickles, Olives, & Dips']\n",
    "# Iterate each element of cleaned_ingredients\n",
    "translated_list = []\n",
    "for ingredient in cleaned_ingredients:\n",
    "    translated_text = translator.translate(ingredient, dest='es').text\n",
    "    translated_list.append(translated_text)\n",
    "print(translated_list)"
   ]
  },
  {
   "cell_type": "markdown",
   "id": "2b0a359e",
   "metadata": {},
   "source": [
    "Replace \"y\":"
   ]
  },
  {
   "cell_type": "code",
   "execution_count": 14,
   "id": "75a18455",
   "metadata": {},
   "outputs": [],
   "source": [
    "new_list = [item.replace(' y ', ', ') for item in translated_list]\n"
   ]
  },
  {
   "cell_type": "markdown",
   "id": "0099e67b",
   "metadata": {},
   "source": [
    "Convert into singular string each word and uppercase:"
   ]
  },
  {
   "cell_type": "code",
   "execution_count": 15,
   "id": "a1fa4d7a",
   "metadata": {},
   "outputs": [
    {
     "name": "stdout",
     "output_type": "stream",
     "text": [
      "['CARNES', 'QUESO', 'PAN', 'GALLETAS', 'FRUTAS', 'NUECES', 'DULCE', 'ENCURTIDOS', 'ACEITUNAS', 'CAÍDAS']\n"
     ]
    }
   ],
   "source": [
    "separated_list = []\n",
    "for item in new_list:\n",
    "    words = item.split(\",\")\n",
    "    for word in words:\n",
    "        separated_list.append(word.strip().upper())\n",
    "print(separated_list)"
   ]
  },
  {
   "cell_type": "code",
   "execution_count": 16,
   "id": "ed25e95f",
   "metadata": {},
   "outputs": [
    {
     "data": {
      "text/plain": [
       "list"
      ]
     },
     "execution_count": 16,
     "metadata": {},
     "output_type": "execute_result"
    }
   ],
   "source": [
    "type(separated_list)"
   ]
  },
  {
   "cell_type": "markdown",
   "id": "cd38a667",
   "metadata": {},
   "source": [
    "Now, once we have the ingredient from the recipe 3 \" Charquterie board\", we need to include them in our main dictionary with the rest of recipes and ingredients."
   ]
  },
  {
   "cell_type": "code",
   "execution_count": 17,
   "id": "b94763f3",
   "metadata": {},
   "outputs": [],
   "source": [
    "new_dict['3. Tabla de charcutería']='CARNES', 'QUESO', 'PAN', 'GALLETAS', 'FRUTAS', 'NUECES', 'DULCE', 'ENCURTIDOS', 'ACEITUNAS'\n"
   ]
  },
  {
   "cell_type": "code",
   "execution_count": 18,
   "id": "64eb29e3",
   "metadata": {},
   "outputs": [
    {
     "name": "stdout",
     "output_type": "stream",
     "text": [
      "{'1. Pan nube': 'HUEVOS, QUESO, BICARBONATO', '2. Avena horneada': 'AVENA, PLÁTANO, CANELA, VAINILLA, CHÍA, SAL, NUECES, ARÁNDANOS, NARANJA', '3. Tabla de charcutería': 'CARNES, QUESO, PAN, GALLETAS, FRUTAS, NUECES, DULCE, ENCURTIDOS, ACEITUNAS', '4. Pasta chips': 'PASTA, QUESO, SAL, PIMIENTA, AJO, CHILE, ORÉGANO, ACEITE', '5. Mug cake': 'CHOCOLATE, MANTEQUILLA, AZÚCAR, HARINA'}\n"
     ]
    }
   ],
   "source": [
    "for k, v in new_dict.items():\n",
    "    if isinstance(v, tuple):\n",
    "        new_dict[k] = \", \".join(list(v))\n",
    "\n",
    "print(new_dict)\n"
   ]
  },
  {
   "cell_type": "markdown",
   "id": "7089ed02",
   "metadata": {},
   "source": [
    "Create a final DF for the Recipes and their ingredients"
   ]
  },
  {
   "cell_type": "code",
   "execution_count": 19,
   "id": "57d5937d",
   "metadata": {},
   "outputs": [
    {
     "data": {
      "text/html": [
       "<div>\n",
       "<style scoped>\n",
       "    .dataframe tbody tr th:only-of-type {\n",
       "        vertical-align: middle;\n",
       "    }\n",
       "\n",
       "    .dataframe tbody tr th {\n",
       "        vertical-align: top;\n",
       "    }\n",
       "\n",
       "    .dataframe thead th {\n",
       "        text-align: right;\n",
       "    }\n",
       "</style>\n",
       "<table border=\"1\" class=\"dataframe\">\n",
       "  <thead>\n",
       "    <tr style=\"text-align: right;\">\n",
       "      <th></th>\n",
       "      <th>Recipe</th>\n",
       "      <th>Ingredient</th>\n",
       "    </tr>\n",
       "  </thead>\n",
       "  <tbody>\n",
       "    <tr>\n",
       "      <th>0</th>\n",
       "      <td>1. Pan nube</td>\n",
       "      <td>HUEVOS, QUESO, BICARBONATO</td>\n",
       "    </tr>\n",
       "    <tr>\n",
       "      <th>1</th>\n",
       "      <td>2. Avena horneada</td>\n",
       "      <td>AVENA, PLÁTANO, CANELA, VAINILLA, CHÍA, SAL, N...</td>\n",
       "    </tr>\n",
       "    <tr>\n",
       "      <th>2</th>\n",
       "      <td>3. Tabla de charcutería</td>\n",
       "      <td>CARNES, QUESO, PAN, GALLETAS, FRUTAS, NUECES, ...</td>\n",
       "    </tr>\n",
       "    <tr>\n",
       "      <th>3</th>\n",
       "      <td>4. Pasta chips</td>\n",
       "      <td>PASTA, QUESO, SAL, PIMIENTA, AJO, CHILE, ORÉGA...</td>\n",
       "    </tr>\n",
       "    <tr>\n",
       "      <th>4</th>\n",
       "      <td>5. Mug cake</td>\n",
       "      <td>CHOCOLATE, MANTEQUILLA, AZÚCAR, HARINA</td>\n",
       "    </tr>\n",
       "  </tbody>\n",
       "</table>\n",
       "</div>"
      ],
      "text/plain": [
       "                    Recipe                                         Ingredient\n",
       "0              1. Pan nube                         HUEVOS, QUESO, BICARBONATO\n",
       "1        2. Avena horneada  AVENA, PLÁTANO, CANELA, VAINILLA, CHÍA, SAL, N...\n",
       "2  3. Tabla de charcutería  CARNES, QUESO, PAN, GALLETAS, FRUTAS, NUECES, ...\n",
       "3           4. Pasta chips  PASTA, QUESO, SAL, PIMIENTA, AJO, CHILE, ORÉGA...\n",
       "4              5. Mug cake             CHOCOLATE, MANTEQUILLA, AZÚCAR, HARINA"
      ]
     },
     "execution_count": 19,
     "metadata": {},
     "output_type": "execute_result"
    }
   ],
   "source": [
    "import pandas as pd\n",
    "df_recipes = pd.DataFrame.from_dict(new_dict, orient='index')\n",
    "df_recipes = df_recipes.rename(columns={0: 'Ingredient'})\n",
    "df_recipes = df_recipes.reset_index().rename(columns={'index': 'Recipe'})\n",
    "df_recipes"
   ]
  },
  {
   "cell_type": "markdown",
   "id": "f932dc58",
   "metadata": {},
   "source": [
    "Split each ingredient of each recipe in the column Ingredients"
   ]
  },
  {
   "cell_type": "code",
   "execution_count": 20,
   "id": "5acc1ab9",
   "metadata": {},
   "outputs": [
    {
     "data": {
      "text/html": [
       "<div>\n",
       "<style scoped>\n",
       "    .dataframe tbody tr th:only-of-type {\n",
       "        vertical-align: middle;\n",
       "    }\n",
       "\n",
       "    .dataframe tbody tr th {\n",
       "        vertical-align: top;\n",
       "    }\n",
       "\n",
       "    .dataframe thead th {\n",
       "        text-align: right;\n",
       "    }\n",
       "</style>\n",
       "<table border=\"1\" class=\"dataframe\">\n",
       "  <thead>\n",
       "    <tr style=\"text-align: right;\">\n",
       "      <th></th>\n",
       "      <th>Recipe</th>\n",
       "      <th>Ingredients</th>\n",
       "    </tr>\n",
       "  </thead>\n",
       "  <tbody>\n",
       "    <tr>\n",
       "      <th>0</th>\n",
       "      <td>1. Pan nube</td>\n",
       "      <td>HUEVOS</td>\n",
       "    </tr>\n",
       "    <tr>\n",
       "      <th>1</th>\n",
       "      <td>1. Pan nube</td>\n",
       "      <td>QUESO</td>\n",
       "    </tr>\n",
       "    <tr>\n",
       "      <th>2</th>\n",
       "      <td>1. Pan nube</td>\n",
       "      <td>BICARBONATO</td>\n",
       "    </tr>\n",
       "    <tr>\n",
       "      <th>3</th>\n",
       "      <td>2. Avena horneada</td>\n",
       "      <td>AVENA</td>\n",
       "    </tr>\n",
       "    <tr>\n",
       "      <th>4</th>\n",
       "      <td>2. Avena horneada</td>\n",
       "      <td>PLÁTANO</td>\n",
       "    </tr>\n",
       "    <tr>\n",
       "      <th>5</th>\n",
       "      <td>2. Avena horneada</td>\n",
       "      <td>CANELA</td>\n",
       "    </tr>\n",
       "    <tr>\n",
       "      <th>6</th>\n",
       "      <td>2. Avena horneada</td>\n",
       "      <td>VAINILLA</td>\n",
       "    </tr>\n",
       "    <tr>\n",
       "      <th>7</th>\n",
       "      <td>2. Avena horneada</td>\n",
       "      <td>CHÍA</td>\n",
       "    </tr>\n",
       "    <tr>\n",
       "      <th>8</th>\n",
       "      <td>2. Avena horneada</td>\n",
       "      <td>SAL</td>\n",
       "    </tr>\n",
       "    <tr>\n",
       "      <th>9</th>\n",
       "      <td>2. Avena horneada</td>\n",
       "      <td>NUECES</td>\n",
       "    </tr>\n",
       "    <tr>\n",
       "      <th>10</th>\n",
       "      <td>2. Avena horneada</td>\n",
       "      <td>ARÁNDANOS</td>\n",
       "    </tr>\n",
       "    <tr>\n",
       "      <th>11</th>\n",
       "      <td>2. Avena horneada</td>\n",
       "      <td>NARANJA</td>\n",
       "    </tr>\n",
       "    <tr>\n",
       "      <th>12</th>\n",
       "      <td>3. Tabla de charcutería</td>\n",
       "      <td>CARNES</td>\n",
       "    </tr>\n",
       "    <tr>\n",
       "      <th>13</th>\n",
       "      <td>3. Tabla de charcutería</td>\n",
       "      <td>QUESO</td>\n",
       "    </tr>\n",
       "    <tr>\n",
       "      <th>14</th>\n",
       "      <td>3. Tabla de charcutería</td>\n",
       "      <td>PAN</td>\n",
       "    </tr>\n",
       "    <tr>\n",
       "      <th>15</th>\n",
       "      <td>3. Tabla de charcutería</td>\n",
       "      <td>GALLETAS</td>\n",
       "    </tr>\n",
       "    <tr>\n",
       "      <th>16</th>\n",
       "      <td>3. Tabla de charcutería</td>\n",
       "      <td>FRUTAS</td>\n",
       "    </tr>\n",
       "    <tr>\n",
       "      <th>17</th>\n",
       "      <td>3. Tabla de charcutería</td>\n",
       "      <td>NUECES</td>\n",
       "    </tr>\n",
       "    <tr>\n",
       "      <th>18</th>\n",
       "      <td>3. Tabla de charcutería</td>\n",
       "      <td>DULCE</td>\n",
       "    </tr>\n",
       "    <tr>\n",
       "      <th>19</th>\n",
       "      <td>3. Tabla de charcutería</td>\n",
       "      <td>ENCURTIDOS</td>\n",
       "    </tr>\n",
       "    <tr>\n",
       "      <th>20</th>\n",
       "      <td>3. Tabla de charcutería</td>\n",
       "      <td>ACEITUNAS</td>\n",
       "    </tr>\n",
       "    <tr>\n",
       "      <th>21</th>\n",
       "      <td>4. Pasta chips</td>\n",
       "      <td>PASTA</td>\n",
       "    </tr>\n",
       "    <tr>\n",
       "      <th>22</th>\n",
       "      <td>4. Pasta chips</td>\n",
       "      <td>QUESO</td>\n",
       "    </tr>\n",
       "    <tr>\n",
       "      <th>23</th>\n",
       "      <td>4. Pasta chips</td>\n",
       "      <td>SAL</td>\n",
       "    </tr>\n",
       "    <tr>\n",
       "      <th>24</th>\n",
       "      <td>4. Pasta chips</td>\n",
       "      <td>PIMIENTA</td>\n",
       "    </tr>\n",
       "    <tr>\n",
       "      <th>25</th>\n",
       "      <td>4. Pasta chips</td>\n",
       "      <td>AJO</td>\n",
       "    </tr>\n",
       "    <tr>\n",
       "      <th>26</th>\n",
       "      <td>4. Pasta chips</td>\n",
       "      <td>CHILE</td>\n",
       "    </tr>\n",
       "    <tr>\n",
       "      <th>27</th>\n",
       "      <td>4. Pasta chips</td>\n",
       "      <td>ORÉGANO</td>\n",
       "    </tr>\n",
       "    <tr>\n",
       "      <th>28</th>\n",
       "      <td>4. Pasta chips</td>\n",
       "      <td>ACEITE</td>\n",
       "    </tr>\n",
       "    <tr>\n",
       "      <th>29</th>\n",
       "      <td>5. Mug cake</td>\n",
       "      <td>CHOCOLATE</td>\n",
       "    </tr>\n",
       "    <tr>\n",
       "      <th>30</th>\n",
       "      <td>5. Mug cake</td>\n",
       "      <td>MANTEQUILLA</td>\n",
       "    </tr>\n",
       "    <tr>\n",
       "      <th>31</th>\n",
       "      <td>5. Mug cake</td>\n",
       "      <td>AZÚCAR</td>\n",
       "    </tr>\n",
       "    <tr>\n",
       "      <th>32</th>\n",
       "      <td>5. Mug cake</td>\n",
       "      <td>HARINA</td>\n",
       "    </tr>\n",
       "  </tbody>\n",
       "</table>\n",
       "</div>"
      ],
      "text/plain": [
       "                     Recipe  Ingredients\n",
       "0               1. Pan nube       HUEVOS\n",
       "1               1. Pan nube        QUESO\n",
       "2               1. Pan nube  BICARBONATO\n",
       "3         2. Avena horneada        AVENA\n",
       "4         2. Avena horneada      PLÁTANO\n",
       "5         2. Avena horneada       CANELA\n",
       "6         2. Avena horneada     VAINILLA\n",
       "7         2. Avena horneada         CHÍA\n",
       "8         2. Avena horneada          SAL\n",
       "9         2. Avena horneada       NUECES\n",
       "10        2. Avena horneada    ARÁNDANOS\n",
       "11        2. Avena horneada      NARANJA\n",
       "12  3. Tabla de charcutería       CARNES\n",
       "13  3. Tabla de charcutería        QUESO\n",
       "14  3. Tabla de charcutería          PAN\n",
       "15  3. Tabla de charcutería     GALLETAS\n",
       "16  3. Tabla de charcutería       FRUTAS\n",
       "17  3. Tabla de charcutería       NUECES\n",
       "18  3. Tabla de charcutería        DULCE\n",
       "19  3. Tabla de charcutería   ENCURTIDOS\n",
       "20  3. Tabla de charcutería    ACEITUNAS\n",
       "21           4. Pasta chips        PASTA\n",
       "22           4. Pasta chips        QUESO\n",
       "23           4. Pasta chips          SAL\n",
       "24           4. Pasta chips     PIMIENTA\n",
       "25           4. Pasta chips          AJO\n",
       "26           4. Pasta chips        CHILE\n",
       "27           4. Pasta chips      ORÉGANO\n",
       "28           4. Pasta chips       ACEITE\n",
       "29              5. Mug cake    CHOCOLATE\n",
       "30              5. Mug cake  MANTEQUILLA\n",
       "31              5. Mug cake       AZÚCAR\n",
       "32              5. Mug cake       HARINA"
      ]
     },
     "execution_count": 20,
     "metadata": {},
     "output_type": "execute_result"
    }
   ],
   "source": [
    "df_ingredientes = df_recipes['Ingredient'].str.split(', ', expand=True).stack().reset_index(level=1, drop=True).rename('Ingredients')\n",
    "df_recipes = df_recipes.drop('Ingredient', axis=1).join(df_ingredientes).reset_index(drop=True)\n",
    "df_recipes"
   ]
  },
  {
   "cell_type": "markdown",
   "id": "b1cd6d1f",
   "metadata": {},
   "source": [
    "# 2. Data set - Cleaning & transformation "
   ]
  },
  {
   "cell_type": "code",
   "execution_count": 29,
   "id": "36feaa7f",
   "metadata": {},
   "outputs": [],
   "source": [
    "import warnings\n",
    "warnings.filterwarnings(\"ignore\")"
   ]
  },
  {
   "cell_type": "markdown",
   "id": "5debd200",
   "metadata": {},
   "source": [
    "We take a official dataset from the Spainish Goverment with the consumtions, volumns, penetration , etc of the different aliment groups."
   ]
  },
  {
   "cell_type": "code",
   "execution_count": 30,
   "id": "ffbdd2cb",
   "metadata": {},
   "outputs": [],
   "source": [
    "df=pd.read_csv('data/TOTALS1.csv')"
   ]
  },
  {
   "cell_type": "code",
   "execution_count": 31,
   "id": "d287115e",
   "metadata": {},
   "outputs": [
    {
     "data": {
      "text/plain": [
       "Index(['CONSUMO EN HOGARES', 'Unnamed: 1', 'Unnamed: 2', 'Unnamed: 3',\n",
       "       'Unnamed: 4', 'Unnamed: 5', 'Unnamed: 6', 'Unnamed: 7', 'Unnamed: 8',\n",
       "       'Unnamed: 9',\n",
       "       ...\n",
       "       'Unnamed: 100', 'Unnamed: 101', 'Unnamed: 102', 'Unnamed: 103',\n",
       "       'Unnamed: 104', 'Unnamed: 105', 'Unnamed: 106', 'Unnamed: 107',\n",
       "       'Unnamed: 108', 'Unnamed: 109'],\n",
       "      dtype='object', length=110)"
      ]
     },
     "execution_count": 31,
     "metadata": {},
     "output_type": "execute_result"
    }
   ],
   "source": [
    "df.columns"
   ]
  },
  {
   "cell_type": "markdown",
   "id": "a5cd9417",
   "metadata": {},
   "source": [
    "Transformation of headers"
   ]
  },
  {
   "cell_type": "code",
   "execution_count": 32,
   "id": "e417daff",
   "metadata": {},
   "outputs": [
    {
     "data": {
      "text/html": [
       "<div>\n",
       "<style scoped>\n",
       "    .dataframe tbody tr th:only-of-type {\n",
       "        vertical-align: middle;\n",
       "    }\n",
       "\n",
       "    .dataframe tbody tr th {\n",
       "        vertical-align: top;\n",
       "    }\n",
       "\n",
       "    .dataframe thead th {\n",
       "        text-align: right;\n",
       "    }\n",
       "</style>\n",
       "<table border=\"1\" class=\"dataframe\">\n",
       "  <thead>\n",
       "    <tr style=\"text-align: right;\">\n",
       "      <th></th>\n",
       "      <th>ALIMENT_GROUP</th>\n",
       "      <th>MONTH</th>\n",
       "      <th>PER_CAPITA_CONSUMTION</th>\n",
       "      <th>EXPENDITURE_PER_CAPITA</th>\n",
       "      <th>PENETRATION(%)</th>\n",
       "      <th>AVG VOLUMN(Kg. or l.)</th>\n",
       "      <th>VALUE</th>\n",
       "      <th>VOLUME</th>\n",
       "      <th>Unnamed: 8</th>\n",
       "      <th>Unnamed: 9</th>\n",
       "      <th>...</th>\n",
       "      <th>Unnamed: 100</th>\n",
       "      <th>Unnamed: 101</th>\n",
       "      <th>Unnamed: 102</th>\n",
       "      <th>Unnamed: 103</th>\n",
       "      <th>Unnamed: 104</th>\n",
       "      <th>Unnamed: 105</th>\n",
       "      <th>Unnamed: 106</th>\n",
       "      <th>Unnamed: 107</th>\n",
       "      <th>Unnamed: 108</th>\n",
       "      <th>Unnamed: 109</th>\n",
       "    </tr>\n",
       "  </thead>\n",
       "  <tbody>\n",
       "    <tr>\n",
       "      <th>0</th>\n",
       "      <td>ENERO 22</td>\n",
       "      <td>NaN</td>\n",
       "      <td>T.ESPAÑA</td>\n",
       "      <td>NaN</td>\n",
       "      <td>NaN</td>\n",
       "      <td>NaN</td>\n",
       "      <td>NaN</td>\n",
       "      <td>NaN</td>\n",
       "      <td>CATALUÑA</td>\n",
       "      <td>NaN</td>\n",
       "      <td>...</td>\n",
       "      <td>NaN</td>\n",
       "      <td>NaN</td>\n",
       "      <td>NaN</td>\n",
       "      <td>NaN</td>\n",
       "      <td>CANARIAS</td>\n",
       "      <td>NaN</td>\n",
       "      <td>NaN</td>\n",
       "      <td>NaN</td>\n",
       "      <td>NaN</td>\n",
       "      <td>NaN</td>\n",
       "    </tr>\n",
       "    <tr>\n",
       "      <th>1</th>\n",
       "      <td>NaN</td>\n",
       "      <td>MONTH</td>\n",
       "      <td>CONSUMO X CAPITA</td>\n",
       "      <td>GASTO X CAPITA</td>\n",
       "      <td>PENETRACION (%)</td>\n",
       "      <td>PRECIO MEDIO kg ó litros</td>\n",
       "      <td>VALOR (Miles Euros)</td>\n",
       "      <td>VOLUMEN (Miles kg ó litros)</td>\n",
       "      <td>CONSUMO X CAPITA</td>\n",
       "      <td>GASTO X CAPITA</td>\n",
       "      <td>...</td>\n",
       "      <td>PENETRACION (%)</td>\n",
       "      <td>PRECIO MEDIO kg ó litros</td>\n",
       "      <td>VALOR (Miles Euros)</td>\n",
       "      <td>VOLUMEN (Miles kg ó litros)</td>\n",
       "      <td>CONSUMO X CAPITA</td>\n",
       "      <td>GASTO X CAPITA</td>\n",
       "      <td>PENETRACION (%)</td>\n",
       "      <td>PRECIO MEDIO kg ó litros</td>\n",
       "      <td>VALOR (Miles Euros)</td>\n",
       "      <td>VOLUMEN (Miles kg ó litros)</td>\n",
       "    </tr>\n",
       "    <tr>\n",
       "      <th>2</th>\n",
       "      <td>.TOTAL ALIMENTACION</td>\n",
       "      <td>JANUARY</td>\n",
       "      <td>48.70</td>\n",
       "      <td>126.97</td>\n",
       "      <td>100.00</td>\n",
       "      <td>2.61</td>\n",
       "      <td>5,894,707.73</td>\n",
       "      <td>2,260,917.72</td>\n",
       "      <td>53.22</td>\n",
       "      <td>147.49</td>\n",
       "      <td>...</td>\n",
       "      <td>100.00</td>\n",
       "      <td>2.82</td>\n",
       "      <td>83,852.55</td>\n",
       "      <td>29,691.12</td>\n",
       "      <td>51.53</td>\n",
       "      <td>111.74</td>\n",
       "      <td>100.00</td>\n",
       "      <td>2.17</td>\n",
       "      <td>250,363.94</td>\n",
       "      <td>115,458.47</td>\n",
       "    </tr>\n",
       "    <tr>\n",
       "      <th>3</th>\n",
       "      <td>T.HUEVOS KGS</td>\n",
       "      <td>JANUARY</td>\n",
       "      <td>0.67</td>\n",
       "      <td>1.71</td>\n",
       "      <td>78.13</td>\n",
       "      <td>2.55</td>\n",
       "      <td>79,487.84</td>\n",
       "      <td>31,212.11</td>\n",
       "      <td>0.67</td>\n",
       "      <td>1.85</td>\n",
       "      <td>...</td>\n",
       "      <td>77.64</td>\n",
       "      <td>2.49</td>\n",
       "      <td>1,298.70</td>\n",
       "      <td>520.96</td>\n",
       "      <td>0.65</td>\n",
       "      <td>1.84</td>\n",
       "      <td>71.82</td>\n",
       "      <td>2.85</td>\n",
       "      <td>4,126.16</td>\n",
       "      <td>1,449.23</td>\n",
       "    </tr>\n",
       "    <tr>\n",
       "      <th>4</th>\n",
       "      <td>T.HUEVOS UNDS.</td>\n",
       "      <td>JANUARY</td>\n",
       "      <td>10.79</td>\n",
       "      <td>1.71</td>\n",
       "      <td>78.13</td>\n",
       "      <td>0.16</td>\n",
       "      <td>79,487.84</td>\n",
       "      <td>500,797.09</td>\n",
       "      <td>10.91</td>\n",
       "      <td>1.85</td>\n",
       "      <td>...</td>\n",
       "      <td>77.64</td>\n",
       "      <td>0.16</td>\n",
       "      <td>1,298.70</td>\n",
       "      <td>8,257.16</td>\n",
       "      <td>10.13</td>\n",
       "      <td>1.84</td>\n",
       "      <td>71.82</td>\n",
       "      <td>0.18</td>\n",
       "      <td>4,126.16</td>\n",
       "      <td>22,705.62</td>\n",
       "    </tr>\n",
       "    <tr>\n",
       "      <th>...</th>\n",
       "      <td>...</td>\n",
       "      <td>...</td>\n",
       "      <td>...</td>\n",
       "      <td>...</td>\n",
       "      <td>...</td>\n",
       "      <td>...</td>\n",
       "      <td>...</td>\n",
       "      <td>...</td>\n",
       "      <td>...</td>\n",
       "      <td>...</td>\n",
       "      <td>...</td>\n",
       "      <td>...</td>\n",
       "      <td>...</td>\n",
       "      <td>...</td>\n",
       "      <td>...</td>\n",
       "      <td>...</td>\n",
       "      <td>...</td>\n",
       "      <td>...</td>\n",
       "      <td>...</td>\n",
       "      <td>...</td>\n",
       "      <td>...</td>\n",
       "    </tr>\n",
       "    <tr>\n",
       "      <th>7466</th>\n",
       "      <td>SALSAS SIN GLUTEN</td>\n",
       "      <td>NOVEMBER</td>\n",
       "      <td>0.05</td>\n",
       "      <td>0.18</td>\n",
       "      <td>18.07</td>\n",
       "      <td>3.84</td>\n",
       "      <td>8,238.62</td>\n",
       "      <td>2,148.16</td>\n",
       "      <td>0.03</td>\n",
       "      <td>0.12</td>\n",
       "      <td>...</td>\n",
       "      <td>12.50</td>\n",
       "      <td>3.88</td>\n",
       "      <td>69.33</td>\n",
       "      <td>17.85</td>\n",
       "      <td>0.05</td>\n",
       "      <td>0.19</td>\n",
       "      <td>18.26</td>\n",
       "      <td>3.90</td>\n",
       "      <td>424.88</td>\n",
       "      <td>108.81</td>\n",
       "    </tr>\n",
       "    <tr>\n",
       "      <th>7467</th>\n",
       "      <td>GASEOSAS&amp;BEBID.REF.SG</td>\n",
       "      <td>NOVEMBER</td>\n",
       "      <td>0.17</td>\n",
       "      <td>0.19</td>\n",
       "      <td>9.71</td>\n",
       "      <td>1.11</td>\n",
       "      <td>8,776.97</td>\n",
       "      <td>7,888.54</td>\n",
       "      <td>0.10</td>\n",
       "      <td>0.12</td>\n",
       "      <td>...</td>\n",
       "      <td>6.12</td>\n",
       "      <td>3.23</td>\n",
       "      <td>64.78</td>\n",
       "      <td>20.07</td>\n",
       "      <td>0.20</td>\n",
       "      <td>0.19</td>\n",
       "      <td>11.37</td>\n",
       "      <td>0.95</td>\n",
       "      <td>421.05</td>\n",
       "      <td>441.59</td>\n",
       "    </tr>\n",
       "    <tr>\n",
       "      <th>7468</th>\n",
       "      <td>BEBIDAS REFRESCAN.SG</td>\n",
       "      <td>NOVEMBER</td>\n",
       "      <td>0.17</td>\n",
       "      <td>0.19</td>\n",
       "      <td>9.71</td>\n",
       "      <td>1.11</td>\n",
       "      <td>8,776.97</td>\n",
       "      <td>7,888.54</td>\n",
       "      <td>0.10</td>\n",
       "      <td>0.12</td>\n",
       "      <td>...</td>\n",
       "      <td>6.12</td>\n",
       "      <td>3.23</td>\n",
       "      <td>64.78</td>\n",
       "      <td>20.07</td>\n",
       "      <td>0.20</td>\n",
       "      <td>0.19</td>\n",
       "      <td>11.37</td>\n",
       "      <td>0.95</td>\n",
       "      <td>421.05</td>\n",
       "      <td>441.59</td>\n",
       "    </tr>\n",
       "    <tr>\n",
       "      <th>7469</th>\n",
       "      <td>HARINAS Y SEMOLAS  SG</td>\n",
       "      <td>NOVEMBER</td>\n",
       "      <td>0.02</td>\n",
       "      <td>0.05</td>\n",
       "      <td>4.78</td>\n",
       "      <td>3.30</td>\n",
       "      <td>2,496.49</td>\n",
       "      <td>755.94</td>\n",
       "      <td>0.02</td>\n",
       "      <td>0.07</td>\n",
       "      <td>...</td>\n",
       "      <td>3.54</td>\n",
       "      <td>3.48</td>\n",
       "      <td>23.83</td>\n",
       "      <td>6.85</td>\n",
       "      <td>0.02</td>\n",
       "      <td>0.06</td>\n",
       "      <td>6.30</td>\n",
       "      <td>2.47</td>\n",
       "      <td>124.30</td>\n",
       "      <td>50.31</td>\n",
       "    </tr>\n",
       "    <tr>\n",
       "      <th>7470</th>\n",
       "      <td>RESTO PRODUCTOS SG</td>\n",
       "      <td>NOVEMBER</td>\n",
       "      <td>0.26</td>\n",
       "      <td>0.88</td>\n",
       "      <td>44.97</td>\n",
       "      <td>3.37</td>\n",
       "      <td>40,696.60</td>\n",
       "      <td>12,066.82</td>\n",
       "      <td>0.34</td>\n",
       "      <td>1.04</td>\n",
       "      <td>...</td>\n",
       "      <td>36.13</td>\n",
       "      <td>3.44</td>\n",
       "      <td>468.20</td>\n",
       "      <td>136.26</td>\n",
       "      <td>0.29</td>\n",
       "      <td>0.81</td>\n",
       "      <td>48.21</td>\n",
       "      <td>2.85</td>\n",
       "      <td>1,826.01</td>\n",
       "      <td>640.31</td>\n",
       "    </tr>\n",
       "  </tbody>\n",
       "</table>\n",
       "<p>7471 rows × 110 columns</p>\n",
       "</div>"
      ],
      "text/plain": [
       "              ALIMENT_GROUP     MONTH PER_CAPITA_CONSUMTION   \n",
       "0                  ENERO 22       NaN              T.ESPAÑA  \\\n",
       "1                       NaN     MONTH      CONSUMO X CAPITA   \n",
       "2       .TOTAL ALIMENTACION   JANUARY                 48.70   \n",
       "3              T.HUEVOS KGS   JANUARY                  0.67   \n",
       "4            T.HUEVOS UNDS.   JANUARY                 10.79   \n",
       "...                     ...       ...                   ...   \n",
       "7466      SALSAS SIN GLUTEN  NOVEMBER                  0.05   \n",
       "7467  GASEOSAS&BEBID.REF.SG  NOVEMBER                  0.17   \n",
       "7468   BEBIDAS REFRESCAN.SG  NOVEMBER                  0.17   \n",
       "7469  HARINAS Y SEMOLAS  SG  NOVEMBER                  0.02   \n",
       "7470     RESTO PRODUCTOS SG  NOVEMBER                  0.26   \n",
       "\n",
       "     EXPENDITURE_PER_CAPITA   PENETRATION(%)     AVG VOLUMN(Kg. or l.)   \n",
       "0                       NaN              NaN                       NaN  \\\n",
       "1            GASTO X CAPITA  PENETRACION (%)  PRECIO MEDIO kg ó litros   \n",
       "2                    126.97           100.00                      2.61   \n",
       "3                      1.71            78.13                      2.55   \n",
       "4                      1.71            78.13                      0.16   \n",
       "...                     ...              ...                       ...   \n",
       "7466                   0.18            18.07                      3.84   \n",
       "7467                   0.19             9.71                      1.11   \n",
       "7468                   0.19             9.71                      1.11   \n",
       "7469                   0.05             4.78                      3.30   \n",
       "7470                   0.88            44.97                      3.37   \n",
       "\n",
       "                    VALUE                       VOLUME        Unnamed: 8   \n",
       "0                     NaN                          NaN          CATALUÑA  \\\n",
       "1     VALOR (Miles Euros)  VOLUMEN (Miles kg ó litros)  CONSUMO X CAPITA   \n",
       "2            5,894,707.73                 2,260,917.72             53.22   \n",
       "3               79,487.84                    31,212.11              0.67   \n",
       "4               79,487.84                   500,797.09             10.91   \n",
       "...                   ...                          ...               ...   \n",
       "7466             8,238.62                     2,148.16              0.03   \n",
       "7467             8,776.97                     7,888.54              0.10   \n",
       "7468             8,776.97                     7,888.54              0.10   \n",
       "7469             2,496.49                       755.94              0.02   \n",
       "7470            40,696.60                    12,066.82              0.34   \n",
       "\n",
       "          Unnamed: 9  ...     Unnamed: 100              Unnamed: 101   \n",
       "0                NaN  ...              NaN                       NaN  \\\n",
       "1     GASTO X CAPITA  ...  PENETRACION (%)  PRECIO MEDIO kg ó litros   \n",
       "2             147.49  ...           100.00                      2.82   \n",
       "3               1.85  ...            77.64                      2.49   \n",
       "4               1.85  ...            77.64                      0.16   \n",
       "...              ...  ...              ...                       ...   \n",
       "7466            0.12  ...            12.50                      3.88   \n",
       "7467            0.12  ...             6.12                      3.23   \n",
       "7468            0.12  ...             6.12                      3.23   \n",
       "7469            0.07  ...             3.54                      3.48   \n",
       "7470            1.04  ...            36.13                      3.44   \n",
       "\n",
       "             Unnamed: 102                 Unnamed: 103      Unnamed: 104   \n",
       "0                     NaN                          NaN          CANARIAS  \\\n",
       "1     VALOR (Miles Euros)  VOLUMEN (Miles kg ó litros)  CONSUMO X CAPITA   \n",
       "2               83,852.55                    29,691.12             51.53   \n",
       "3                1,298.70                       520.96              0.65   \n",
       "4                1,298.70                     8,257.16             10.13   \n",
       "...                   ...                          ...               ...   \n",
       "7466                69.33                        17.85              0.05   \n",
       "7467                64.78                        20.07              0.20   \n",
       "7468                64.78                        20.07              0.20   \n",
       "7469                23.83                         6.85              0.02   \n",
       "7470               468.20                       136.26              0.29   \n",
       "\n",
       "        Unnamed: 105     Unnamed: 106              Unnamed: 107   \n",
       "0                NaN              NaN                       NaN  \\\n",
       "1     GASTO X CAPITA  PENETRACION (%)  PRECIO MEDIO kg ó litros   \n",
       "2             111.74           100.00                      2.17   \n",
       "3               1.84            71.82                      2.85   \n",
       "4               1.84            71.82                      0.18   \n",
       "...              ...              ...                       ...   \n",
       "7466            0.19            18.26                      3.90   \n",
       "7467            0.19            11.37                      0.95   \n",
       "7468            0.19            11.37                      0.95   \n",
       "7469            0.06             6.30                      2.47   \n",
       "7470            0.81            48.21                      2.85   \n",
       "\n",
       "             Unnamed: 108                 Unnamed: 109  \n",
       "0                     NaN                          NaN  \n",
       "1     VALOR (Miles Euros)  VOLUMEN (Miles kg ó litros)  \n",
       "2              250,363.94                   115,458.47  \n",
       "3                4,126.16                     1,449.23  \n",
       "4                4,126.16                    22,705.62  \n",
       "...                   ...                          ...  \n",
       "7466               424.88                       108.81  \n",
       "7467               421.05                       441.59  \n",
       "7468               421.05                       441.59  \n",
       "7469               124.30                        50.31  \n",
       "7470             1,826.01                       640.31  \n",
       "\n",
       "[7471 rows x 110 columns]"
      ]
     },
     "execution_count": 32,
     "metadata": {},
     "output_type": "execute_result"
    }
   ],
   "source": [
    "df= df.rename(columns={\n",
    "                        'CONSUMO EN HOGARES': 'ALIMENT_GROUP',\n",
    "                        'Unnamed: 1': 'MONTH',\n",
    "                        'Unnamed: 2': 'PER_CAPITA_CONSUMTION',\n",
    "                        'Unnamed: 3': 'EXPENDITURE_PER_CAPITA',\n",
    "                        'Unnamed: 4': 'PENETRATION(%)',\n",
    "                        'Unnamed: 5': 'AVG VOLUMN(Kg. or l.)',\n",
    "                        'Unnamed: 6': 'VALUE',\n",
    "                        'Unnamed: 7': 'VOLUME'})\n",
    "df"
   ]
  },
  {
   "cell_type": "code",
   "execution_count": 33,
   "id": "2079188e",
   "metadata": {},
   "outputs": [
    {
     "data": {
      "text/html": [
       "<div>\n",
       "<style scoped>\n",
       "    .dataframe tbody tr th:only-of-type {\n",
       "        vertical-align: middle;\n",
       "    }\n",
       "\n",
       "    .dataframe tbody tr th {\n",
       "        vertical-align: top;\n",
       "    }\n",
       "\n",
       "    .dataframe thead th {\n",
       "        text-align: right;\n",
       "    }\n",
       "</style>\n",
       "<table border=\"1\" class=\"dataframe\">\n",
       "  <thead>\n",
       "    <tr style=\"text-align: right;\">\n",
       "      <th></th>\n",
       "      <th>ALIMENT_GROUP</th>\n",
       "      <th>MONTH</th>\n",
       "      <th>PER_CAPITA_CONSUMTION</th>\n",
       "      <th>EXPENDITURE_PER_CAPITA</th>\n",
       "      <th>PENETRATION(%)</th>\n",
       "      <th>AVG VOLUMN(Kg. or l.)</th>\n",
       "      <th>VALUE</th>\n",
       "      <th>VOLUME</th>\n",
       "      <th>Unnamed: 8</th>\n",
       "      <th>Unnamed: 9</th>\n",
       "      <th>...</th>\n",
       "      <th>Unnamed: 100</th>\n",
       "      <th>Unnamed: 101</th>\n",
       "      <th>Unnamed: 102</th>\n",
       "      <th>Unnamed: 103</th>\n",
       "      <th>Unnamed: 104</th>\n",
       "      <th>Unnamed: 105</th>\n",
       "      <th>Unnamed: 106</th>\n",
       "      <th>Unnamed: 107</th>\n",
       "      <th>Unnamed: 108</th>\n",
       "      <th>Unnamed: 109</th>\n",
       "    </tr>\n",
       "  </thead>\n",
       "  <tbody>\n",
       "    <tr>\n",
       "      <th>2</th>\n",
       "      <td>.TOTAL ALIMENTACION</td>\n",
       "      <td>JANUARY</td>\n",
       "      <td>48.70</td>\n",
       "      <td>126.97</td>\n",
       "      <td>100.00</td>\n",
       "      <td>2.61</td>\n",
       "      <td>5,894,707.73</td>\n",
       "      <td>2,260,917.72</td>\n",
       "      <td>53.22</td>\n",
       "      <td>147.49</td>\n",
       "      <td>...</td>\n",
       "      <td>100.00</td>\n",
       "      <td>2.82</td>\n",
       "      <td>83,852.55</td>\n",
       "      <td>29,691.12</td>\n",
       "      <td>51.53</td>\n",
       "      <td>111.74</td>\n",
       "      <td>100.00</td>\n",
       "      <td>2.17</td>\n",
       "      <td>250,363.94</td>\n",
       "      <td>115,458.47</td>\n",
       "    </tr>\n",
       "    <tr>\n",
       "      <th>3</th>\n",
       "      <td>T.HUEVOS KGS</td>\n",
       "      <td>JANUARY</td>\n",
       "      <td>0.67</td>\n",
       "      <td>1.71</td>\n",
       "      <td>78.13</td>\n",
       "      <td>2.55</td>\n",
       "      <td>79,487.84</td>\n",
       "      <td>31,212.11</td>\n",
       "      <td>0.67</td>\n",
       "      <td>1.85</td>\n",
       "      <td>...</td>\n",
       "      <td>77.64</td>\n",
       "      <td>2.49</td>\n",
       "      <td>1,298.70</td>\n",
       "      <td>520.96</td>\n",
       "      <td>0.65</td>\n",
       "      <td>1.84</td>\n",
       "      <td>71.82</td>\n",
       "      <td>2.85</td>\n",
       "      <td>4,126.16</td>\n",
       "      <td>1,449.23</td>\n",
       "    </tr>\n",
       "    <tr>\n",
       "      <th>4</th>\n",
       "      <td>T.HUEVOS UNDS.</td>\n",
       "      <td>JANUARY</td>\n",
       "      <td>10.79</td>\n",
       "      <td>1.71</td>\n",
       "      <td>78.13</td>\n",
       "      <td>0.16</td>\n",
       "      <td>79,487.84</td>\n",
       "      <td>500,797.09</td>\n",
       "      <td>10.91</td>\n",
       "      <td>1.85</td>\n",
       "      <td>...</td>\n",
       "      <td>77.64</td>\n",
       "      <td>0.16</td>\n",
       "      <td>1,298.70</td>\n",
       "      <td>8,257.16</td>\n",
       "      <td>10.13</td>\n",
       "      <td>1.84</td>\n",
       "      <td>71.82</td>\n",
       "      <td>0.18</td>\n",
       "      <td>4,126.16</td>\n",
       "      <td>22,705.62</td>\n",
       "    </tr>\n",
       "    <tr>\n",
       "      <th>5</th>\n",
       "      <td>TOTAL HUEVOS GALLINA</td>\n",
       "      <td>JANUARY</td>\n",
       "      <td>10.45</td>\n",
       "      <td>1.68</td>\n",
       "      <td>77.84</td>\n",
       "      <td>0.16</td>\n",
       "      <td>78,214.53</td>\n",
       "      <td>485,261.80</td>\n",
       "      <td>10.45</td>\n",
       "      <td>1.82</td>\n",
       "      <td>...</td>\n",
       "      <td>77.66</td>\n",
       "      <td>0.16</td>\n",
       "      <td>1,286.42</td>\n",
       "      <td>8,118.24</td>\n",
       "      <td>10.10</td>\n",
       "      <td>1.84</td>\n",
       "      <td>71.57</td>\n",
       "      <td>0.18</td>\n",
       "      <td>4,120.13</td>\n",
       "      <td>22,632.92</td>\n",
       "    </tr>\n",
       "    <tr>\n",
       "      <th>6</th>\n",
       "      <td>OTRAS AVES</td>\n",
       "      <td>JANUARY</td>\n",
       "      <td>0.33</td>\n",
       "      <td>0.03</td>\n",
       "      <td>3.64</td>\n",
       "      <td>0.08</td>\n",
       "      <td>1,273.31</td>\n",
       "      <td>15,535.29</td>\n",
       "      <td>0.45</td>\n",
       "      <td>0.04</td>\n",
       "      <td>...</td>\n",
       "      <td>3.17</td>\n",
       "      <td>0.09</td>\n",
       "      <td>12.28</td>\n",
       "      <td>138.93</td>\n",
       "      <td>0.03</td>\n",
       "      <td>0.00</td>\n",
       "      <td>0.59</td>\n",
       "      <td>0.08</td>\n",
       "      <td>6.03</td>\n",
       "      <td>72.70</td>\n",
       "    </tr>\n",
       "    <tr>\n",
       "      <th>...</th>\n",
       "      <td>...</td>\n",
       "      <td>...</td>\n",
       "      <td>...</td>\n",
       "      <td>...</td>\n",
       "      <td>...</td>\n",
       "      <td>...</td>\n",
       "      <td>...</td>\n",
       "      <td>...</td>\n",
       "      <td>...</td>\n",
       "      <td>...</td>\n",
       "      <td>...</td>\n",
       "      <td>...</td>\n",
       "      <td>...</td>\n",
       "      <td>...</td>\n",
       "      <td>...</td>\n",
       "      <td>...</td>\n",
       "      <td>...</td>\n",
       "      <td>...</td>\n",
       "      <td>...</td>\n",
       "      <td>...</td>\n",
       "      <td>...</td>\n",
       "    </tr>\n",
       "    <tr>\n",
       "      <th>7466</th>\n",
       "      <td>SALSAS SIN GLUTEN</td>\n",
       "      <td>NOVEMBER</td>\n",
       "      <td>0.05</td>\n",
       "      <td>0.18</td>\n",
       "      <td>18.07</td>\n",
       "      <td>3.84</td>\n",
       "      <td>8,238.62</td>\n",
       "      <td>2,148.16</td>\n",
       "      <td>0.03</td>\n",
       "      <td>0.12</td>\n",
       "      <td>...</td>\n",
       "      <td>12.50</td>\n",
       "      <td>3.88</td>\n",
       "      <td>69.33</td>\n",
       "      <td>17.85</td>\n",
       "      <td>0.05</td>\n",
       "      <td>0.19</td>\n",
       "      <td>18.26</td>\n",
       "      <td>3.90</td>\n",
       "      <td>424.88</td>\n",
       "      <td>108.81</td>\n",
       "    </tr>\n",
       "    <tr>\n",
       "      <th>7467</th>\n",
       "      <td>GASEOSAS&amp;BEBID.REF.SG</td>\n",
       "      <td>NOVEMBER</td>\n",
       "      <td>0.17</td>\n",
       "      <td>0.19</td>\n",
       "      <td>9.71</td>\n",
       "      <td>1.11</td>\n",
       "      <td>8,776.97</td>\n",
       "      <td>7,888.54</td>\n",
       "      <td>0.10</td>\n",
       "      <td>0.12</td>\n",
       "      <td>...</td>\n",
       "      <td>6.12</td>\n",
       "      <td>3.23</td>\n",
       "      <td>64.78</td>\n",
       "      <td>20.07</td>\n",
       "      <td>0.20</td>\n",
       "      <td>0.19</td>\n",
       "      <td>11.37</td>\n",
       "      <td>0.95</td>\n",
       "      <td>421.05</td>\n",
       "      <td>441.59</td>\n",
       "    </tr>\n",
       "    <tr>\n",
       "      <th>7468</th>\n",
       "      <td>BEBIDAS REFRESCAN.SG</td>\n",
       "      <td>NOVEMBER</td>\n",
       "      <td>0.17</td>\n",
       "      <td>0.19</td>\n",
       "      <td>9.71</td>\n",
       "      <td>1.11</td>\n",
       "      <td>8,776.97</td>\n",
       "      <td>7,888.54</td>\n",
       "      <td>0.10</td>\n",
       "      <td>0.12</td>\n",
       "      <td>...</td>\n",
       "      <td>6.12</td>\n",
       "      <td>3.23</td>\n",
       "      <td>64.78</td>\n",
       "      <td>20.07</td>\n",
       "      <td>0.20</td>\n",
       "      <td>0.19</td>\n",
       "      <td>11.37</td>\n",
       "      <td>0.95</td>\n",
       "      <td>421.05</td>\n",
       "      <td>441.59</td>\n",
       "    </tr>\n",
       "    <tr>\n",
       "      <th>7469</th>\n",
       "      <td>HARINAS Y SEMOLAS  SG</td>\n",
       "      <td>NOVEMBER</td>\n",
       "      <td>0.02</td>\n",
       "      <td>0.05</td>\n",
       "      <td>4.78</td>\n",
       "      <td>3.30</td>\n",
       "      <td>2,496.49</td>\n",
       "      <td>755.94</td>\n",
       "      <td>0.02</td>\n",
       "      <td>0.07</td>\n",
       "      <td>...</td>\n",
       "      <td>3.54</td>\n",
       "      <td>3.48</td>\n",
       "      <td>23.83</td>\n",
       "      <td>6.85</td>\n",
       "      <td>0.02</td>\n",
       "      <td>0.06</td>\n",
       "      <td>6.30</td>\n",
       "      <td>2.47</td>\n",
       "      <td>124.30</td>\n",
       "      <td>50.31</td>\n",
       "    </tr>\n",
       "    <tr>\n",
       "      <th>7470</th>\n",
       "      <td>RESTO PRODUCTOS SG</td>\n",
       "      <td>NOVEMBER</td>\n",
       "      <td>0.26</td>\n",
       "      <td>0.88</td>\n",
       "      <td>44.97</td>\n",
       "      <td>3.37</td>\n",
       "      <td>40,696.60</td>\n",
       "      <td>12,066.82</td>\n",
       "      <td>0.34</td>\n",
       "      <td>1.04</td>\n",
       "      <td>...</td>\n",
       "      <td>36.13</td>\n",
       "      <td>3.44</td>\n",
       "      <td>468.20</td>\n",
       "      <td>136.26</td>\n",
       "      <td>0.29</td>\n",
       "      <td>0.81</td>\n",
       "      <td>48.21</td>\n",
       "      <td>2.85</td>\n",
       "      <td>1,826.01</td>\n",
       "      <td>640.31</td>\n",
       "    </tr>\n",
       "  </tbody>\n",
       "</table>\n",
       "<p>7469 rows × 110 columns</p>\n",
       "</div>"
      ],
      "text/plain": [
       "              ALIMENT_GROUP     MONTH PER_CAPITA_CONSUMTION   \n",
       "2       .TOTAL ALIMENTACION   JANUARY                 48.70  \\\n",
       "3              T.HUEVOS KGS   JANUARY                  0.67   \n",
       "4            T.HUEVOS UNDS.   JANUARY                 10.79   \n",
       "5      TOTAL HUEVOS GALLINA   JANUARY                 10.45   \n",
       "6                OTRAS AVES   JANUARY                  0.33   \n",
       "...                     ...       ...                   ...   \n",
       "7466      SALSAS SIN GLUTEN  NOVEMBER                  0.05   \n",
       "7467  GASEOSAS&BEBID.REF.SG  NOVEMBER                  0.17   \n",
       "7468   BEBIDAS REFRESCAN.SG  NOVEMBER                  0.17   \n",
       "7469  HARINAS Y SEMOLAS  SG  NOVEMBER                  0.02   \n",
       "7470     RESTO PRODUCTOS SG  NOVEMBER                  0.26   \n",
       "\n",
       "     EXPENDITURE_PER_CAPITA PENETRATION(%) AVG VOLUMN(Kg. or l.)   \n",
       "2                    126.97         100.00                  2.61  \\\n",
       "3                      1.71          78.13                  2.55   \n",
       "4                      1.71          78.13                  0.16   \n",
       "5                      1.68          77.84                  0.16   \n",
       "6                      0.03           3.64                  0.08   \n",
       "...                     ...            ...                   ...   \n",
       "7466                   0.18          18.07                  3.84   \n",
       "7467                   0.19           9.71                  1.11   \n",
       "7468                   0.19           9.71                  1.11   \n",
       "7469                   0.05           4.78                  3.30   \n",
       "7470                   0.88          44.97                  3.37   \n",
       "\n",
       "             VALUE        VOLUME Unnamed: 8 Unnamed: 9  ... Unnamed: 100   \n",
       "2     5,894,707.73  2,260,917.72      53.22     147.49  ...       100.00  \\\n",
       "3        79,487.84     31,212.11       0.67       1.85  ...        77.64   \n",
       "4        79,487.84    500,797.09      10.91       1.85  ...        77.64   \n",
       "5        78,214.53    485,261.80      10.45       1.82  ...        77.66   \n",
       "6         1,273.31     15,535.29       0.45       0.04  ...         3.17   \n",
       "...            ...           ...        ...        ...  ...          ...   \n",
       "7466      8,238.62      2,148.16       0.03       0.12  ...        12.50   \n",
       "7467      8,776.97      7,888.54       0.10       0.12  ...         6.12   \n",
       "7468      8,776.97      7,888.54       0.10       0.12  ...         6.12   \n",
       "7469      2,496.49        755.94       0.02       0.07  ...         3.54   \n",
       "7470     40,696.60     12,066.82       0.34       1.04  ...        36.13   \n",
       "\n",
       "     Unnamed: 101 Unnamed: 102 Unnamed: 103 Unnamed: 104 Unnamed: 105   \n",
       "2            2.82    83,852.55    29,691.12        51.53       111.74  \\\n",
       "3            2.49     1,298.70       520.96         0.65         1.84   \n",
       "4            0.16     1,298.70     8,257.16        10.13         1.84   \n",
       "5            0.16     1,286.42     8,118.24        10.10         1.84   \n",
       "6            0.09        12.28       138.93         0.03         0.00   \n",
       "...           ...          ...          ...          ...          ...   \n",
       "7466         3.88        69.33        17.85         0.05         0.19   \n",
       "7467         3.23        64.78        20.07         0.20         0.19   \n",
       "7468         3.23        64.78        20.07         0.20         0.19   \n",
       "7469         3.48        23.83         6.85         0.02         0.06   \n",
       "7470         3.44       468.20       136.26         0.29         0.81   \n",
       "\n",
       "     Unnamed: 106 Unnamed: 107 Unnamed: 108 Unnamed: 109  \n",
       "2          100.00         2.17   250,363.94   115,458.47  \n",
       "3           71.82         2.85     4,126.16     1,449.23  \n",
       "4           71.82         0.18     4,126.16    22,705.62  \n",
       "5           71.57         0.18     4,120.13    22,632.92  \n",
       "6            0.59         0.08         6.03        72.70  \n",
       "...           ...          ...          ...          ...  \n",
       "7466        18.26         3.90       424.88       108.81  \n",
       "7467        11.37         0.95       421.05       441.59  \n",
       "7468        11.37         0.95       421.05       441.59  \n",
       "7469         6.30         2.47       124.30        50.31  \n",
       "7470        48.21         2.85     1,826.01       640.31  \n",
       "\n",
       "[7469 rows x 110 columns]"
      ]
     },
     "execution_count": 33,
     "metadata": {},
     "output_type": "execute_result"
    }
   ],
   "source": [
    "df= df.drop([0,1])\n",
    "df\n"
   ]
  },
  {
   "cell_type": "markdown",
   "id": "0e80fc97",
   "metadata": {},
   "source": [
    "Concatenate the values from the web scrapping to the dataset in order to verify the aliment grous affected by the viral recipes"
   ]
  },
  {
   "cell_type": "code",
   "execution_count": 34,
   "id": "02ce4e67",
   "metadata": {},
   "outputs": [
    {
     "data": {
      "text/html": [
       "<div>\n",
       "<style scoped>\n",
       "    .dataframe tbody tr th:only-of-type {\n",
       "        vertical-align: middle;\n",
       "    }\n",
       "\n",
       "    .dataframe tbody tr th {\n",
       "        vertical-align: top;\n",
       "    }\n",
       "\n",
       "    .dataframe thead th {\n",
       "        text-align: right;\n",
       "    }\n",
       "</style>\n",
       "<table border=\"1\" class=\"dataframe\">\n",
       "  <thead>\n",
       "    <tr style=\"text-align: right;\">\n",
       "      <th></th>\n",
       "      <th>ALIMENT_GROUP</th>\n",
       "      <th>MONTH</th>\n",
       "      <th>PER_CAPITA_CONSUMTION</th>\n",
       "      <th>EXPENDITURE_PER_CAPITA</th>\n",
       "      <th>PENETRATION(%)</th>\n",
       "      <th>AVG VOLUMN(Kg. or l.)</th>\n",
       "      <th>VALUE</th>\n",
       "      <th>VOLUME</th>\n",
       "      <th>Recipe</th>\n",
       "      <th>Ingredients</th>\n",
       "    </tr>\n",
       "  </thead>\n",
       "  <tbody>\n",
       "    <tr>\n",
       "      <th>0</th>\n",
       "      <td>.TOTAL ALIMENTACION</td>\n",
       "      <td>JANUARY</td>\n",
       "      <td>48.70</td>\n",
       "      <td>126.97</td>\n",
       "      <td>100.00</td>\n",
       "      <td>2.61</td>\n",
       "      <td>5,894,707.73</td>\n",
       "      <td>2,260,917.72</td>\n",
       "      <td>NaN</td>\n",
       "      <td>NaN</td>\n",
       "    </tr>\n",
       "    <tr>\n",
       "      <th>1</th>\n",
       "      <td>T.HUEVOS KGS</td>\n",
       "      <td>JANUARY</td>\n",
       "      <td>0.67</td>\n",
       "      <td>1.71</td>\n",
       "      <td>78.13</td>\n",
       "      <td>2.55</td>\n",
       "      <td>79,487.84</td>\n",
       "      <td>31,212.11</td>\n",
       "      <td>NaN</td>\n",
       "      <td>NaN</td>\n",
       "    </tr>\n",
       "    <tr>\n",
       "      <th>2</th>\n",
       "      <td>T.HUEVOS UNDS.</td>\n",
       "      <td>JANUARY</td>\n",
       "      <td>10.79</td>\n",
       "      <td>1.71</td>\n",
       "      <td>78.13</td>\n",
       "      <td>0.16</td>\n",
       "      <td>79,487.84</td>\n",
       "      <td>500,797.09</td>\n",
       "      <td>NaN</td>\n",
       "      <td>NaN</td>\n",
       "    </tr>\n",
       "    <tr>\n",
       "      <th>3</th>\n",
       "      <td>TOTAL HUEVOS GALLINA</td>\n",
       "      <td>JANUARY</td>\n",
       "      <td>10.45</td>\n",
       "      <td>1.68</td>\n",
       "      <td>77.84</td>\n",
       "      <td>0.16</td>\n",
       "      <td>78,214.53</td>\n",
       "      <td>485,261.80</td>\n",
       "      <td>NaN</td>\n",
       "      <td>NaN</td>\n",
       "    </tr>\n",
       "    <tr>\n",
       "      <th>4</th>\n",
       "      <td>OTRAS AVES</td>\n",
       "      <td>JANUARY</td>\n",
       "      <td>0.33</td>\n",
       "      <td>0.03</td>\n",
       "      <td>3.64</td>\n",
       "      <td>0.08</td>\n",
       "      <td>1,273.31</td>\n",
       "      <td>15,535.29</td>\n",
       "      <td>NaN</td>\n",
       "      <td>NaN</td>\n",
       "    </tr>\n",
       "    <tr>\n",
       "      <th>...</th>\n",
       "      <td>...</td>\n",
       "      <td>...</td>\n",
       "      <td>...</td>\n",
       "      <td>...</td>\n",
       "      <td>...</td>\n",
       "      <td>...</td>\n",
       "      <td>...</td>\n",
       "      <td>...</td>\n",
       "      <td>...</td>\n",
       "      <td>...</td>\n",
       "    </tr>\n",
       "    <tr>\n",
       "      <th>7497</th>\n",
       "      <td>NaN</td>\n",
       "      <td>NaN</td>\n",
       "      <td>NaN</td>\n",
       "      <td>NaN</td>\n",
       "      <td>NaN</td>\n",
       "      <td>NaN</td>\n",
       "      <td>NaN</td>\n",
       "      <td>NaN</td>\n",
       "      <td>4. Pasta chips</td>\n",
       "      <td>ACEITE</td>\n",
       "    </tr>\n",
       "    <tr>\n",
       "      <th>7498</th>\n",
       "      <td>NaN</td>\n",
       "      <td>NaN</td>\n",
       "      <td>NaN</td>\n",
       "      <td>NaN</td>\n",
       "      <td>NaN</td>\n",
       "      <td>NaN</td>\n",
       "      <td>NaN</td>\n",
       "      <td>NaN</td>\n",
       "      <td>5. Mug cake</td>\n",
       "      <td>CHOCOLATE</td>\n",
       "    </tr>\n",
       "    <tr>\n",
       "      <th>7499</th>\n",
       "      <td>NaN</td>\n",
       "      <td>NaN</td>\n",
       "      <td>NaN</td>\n",
       "      <td>NaN</td>\n",
       "      <td>NaN</td>\n",
       "      <td>NaN</td>\n",
       "      <td>NaN</td>\n",
       "      <td>NaN</td>\n",
       "      <td>5. Mug cake</td>\n",
       "      <td>MANTEQUILLA</td>\n",
       "    </tr>\n",
       "    <tr>\n",
       "      <th>7500</th>\n",
       "      <td>NaN</td>\n",
       "      <td>NaN</td>\n",
       "      <td>NaN</td>\n",
       "      <td>NaN</td>\n",
       "      <td>NaN</td>\n",
       "      <td>NaN</td>\n",
       "      <td>NaN</td>\n",
       "      <td>NaN</td>\n",
       "      <td>5. Mug cake</td>\n",
       "      <td>AZÚCAR</td>\n",
       "    </tr>\n",
       "    <tr>\n",
       "      <th>7501</th>\n",
       "      <td>NaN</td>\n",
       "      <td>NaN</td>\n",
       "      <td>NaN</td>\n",
       "      <td>NaN</td>\n",
       "      <td>NaN</td>\n",
       "      <td>NaN</td>\n",
       "      <td>NaN</td>\n",
       "      <td>NaN</td>\n",
       "      <td>5. Mug cake</td>\n",
       "      <td>HARINA</td>\n",
       "    </tr>\n",
       "  </tbody>\n",
       "</table>\n",
       "<p>7502 rows × 10 columns</p>\n",
       "</div>"
      ],
      "text/plain": [
       "             ALIMENT_GROUP    MONTH PER_CAPITA_CONSUMTION   \n",
       "0      .TOTAL ALIMENTACION  JANUARY                 48.70  \\\n",
       "1             T.HUEVOS KGS  JANUARY                  0.67   \n",
       "2           T.HUEVOS UNDS.  JANUARY                 10.79   \n",
       "3     TOTAL HUEVOS GALLINA  JANUARY                 10.45   \n",
       "4               OTRAS AVES  JANUARY                  0.33   \n",
       "...                    ...      ...                   ...   \n",
       "7497                   NaN      NaN                   NaN   \n",
       "7498                   NaN      NaN                   NaN   \n",
       "7499                   NaN      NaN                   NaN   \n",
       "7500                   NaN      NaN                   NaN   \n",
       "7501                   NaN      NaN                   NaN   \n",
       "\n",
       "     EXPENDITURE_PER_CAPITA PENETRATION(%) AVG VOLUMN(Kg. or l.)   \n",
       "0                    126.97         100.00                  2.61  \\\n",
       "1                      1.71          78.13                  2.55   \n",
       "2                      1.71          78.13                  0.16   \n",
       "3                      1.68          77.84                  0.16   \n",
       "4                      0.03           3.64                  0.08   \n",
       "...                     ...            ...                   ...   \n",
       "7497                    NaN            NaN                   NaN   \n",
       "7498                    NaN            NaN                   NaN   \n",
       "7499                    NaN            NaN                   NaN   \n",
       "7500                    NaN            NaN                   NaN   \n",
       "7501                    NaN            NaN                   NaN   \n",
       "\n",
       "             VALUE        VOLUME          Recipe  Ingredients  \n",
       "0     5,894,707.73  2,260,917.72             NaN          NaN  \n",
       "1        79,487.84     31,212.11             NaN          NaN  \n",
       "2        79,487.84    500,797.09             NaN          NaN  \n",
       "3        78,214.53    485,261.80             NaN          NaN  \n",
       "4         1,273.31     15,535.29             NaN          NaN  \n",
       "...            ...           ...             ...          ...  \n",
       "7497           NaN           NaN  4. Pasta chips       ACEITE  \n",
       "7498           NaN           NaN     5. Mug cake    CHOCOLATE  \n",
       "7499           NaN           NaN     5. Mug cake  MANTEQUILLA  \n",
       "7500           NaN           NaN     5. Mug cake       AZÚCAR  \n",
       "7501           NaN           NaN     5. Mug cake       HARINA  \n",
       "\n",
       "[7502 rows x 10 columns]"
      ]
     },
     "execution_count": 34,
     "metadata": {},
     "output_type": "execute_result"
    }
   ],
   "source": [
    "vol_ES_df = df.iloc[:, 0:8]\n",
    "df = pd.concat([vol_ES_df, df_recipes], ignore_index=True)\n",
    "df"
   ]
  },
  {
   "cell_type": "markdown",
   "id": "6629d690",
   "metadata": {},
   "source": [
    "changing data type"
   ]
  },
  {
   "cell_type": "code",
   "execution_count": 35,
   "id": "e0d317b9",
   "metadata": {},
   "outputs": [],
   "source": [
    "df['Ingredients'] = df['Ingredients'].astype(str)"
   ]
  },
  {
   "cell_type": "code",
   "execution_count": 36,
   "id": "8ff20333",
   "metadata": {},
   "outputs": [],
   "source": [
    "df['ALIMENT_GROUP'] = df['ALIMENT_GROUP'].astype(str)"
   ]
  },
  {
   "cell_type": "markdown",
   "id": "97a3f301",
   "metadata": {},
   "source": [
    "Creating a list to correlate each ingredient of the recipes with the aliment group in the data set. If the ingredint has correlation, we will add de Aliment Group in the column."
   ]
  },
  {
   "cell_type": "code",
   "execution_count": 37,
   "id": "843a9100",
   "metadata": {},
   "outputs": [],
   "source": [
    "ingredientes_dict = {'HUEVOS': 'T.HUEVOS KGS', 'LECHE': 'T.LECHE LT', 'ACEITE':'TOTAL ACEITE','QUESO':'QUESO','BICARBONATO':'ESPECIAS Y CONDIMENTO','AVENA':'CEREALES','PLÁTANO':'T.FRUTAS FRESCAS','CHÍA': 'CEREALES','VAINILLA':'ESPECIAS Y CONDIMENTO','SAL':'ESPECIAS Y CONDIMENTO','NUECES':'FRUTOS SEC.NUECES','ENCURTIDOS':'ENCURTIDOS','ARÁNDANOS':'T.FRUTAS FRESCAS','NARANJA':'T.FRUTAS FRESCAS','AZÚCAR':'AZUCAR','CARNES':'TOTAL CARNE','PAN':'PAN','GALLETAS':'GALLETAS','FRUTAS':'T.FRUTAS FRESCAS','ACEITUNAS':'ACEITUNAS','PASTA':'PASTAS ALIMENTICIAS','PIMIENTA':'ESPECIAS Y CONDIMENTO','CANELA':'ESPECIAS Y CONDIMENTO','AJO':'T.HORTALIZAS FRESCAS','CHILE':'T.FRUTAS FRESCAS','DULCE':'T.FRUTAS FRESCAS','ORÉGANO':'ESPECIAS Y CONDIMENTO','CHOCOLATE':'CHOCOLATES','MANTEQUILLA':'MANTEQUILLA','HARINA':'HARINAS Y SEMOLAS'}\n",
    "\n",
    "for index, row in df.iterrows():\n",
    "    for ingrediente, grupo in ingredientes_dict.items():\n",
    "        if ingrediente in row['Ingredients']:\n",
    "            df.at[index, 'ALIMENT_GROUP'] = grupo\n"
   ]
  },
  {
   "cell_type": "markdown",
   "id": "35f5dc37",
   "metadata": {},
   "source": [
    "Replace whitespaces i some rows in order to count as Null values to better filtering after:"
   ]
  },
  {
   "cell_type": "code",
   "execution_count": 38,
   "id": "728659b6",
   "metadata": {},
   "outputs": [],
   "source": [
    "import numpy as np\n",
    "\n",
    "df['Ingredients'].replace('', np.nan, inplace=True)\n",
    "subset = df.dropna(subset=['Ingredients'])\n"
   ]
  },
  {
   "cell_type": "code",
   "execution_count": 39,
   "id": "67452ca4",
   "metadata": {},
   "outputs": [],
   "source": [
    "import numpy as np\n",
    "\n",
    "df['Ingredients'].replace('nan', np.nan, inplace=True)\n",
    "subset = df.dropna(subset=['Ingredients'])\n"
   ]
  },
  {
   "cell_type": "markdown",
   "id": "24f55b27",
   "metadata": {},
   "source": [
    "We select only the value sthat we want to analyse. Therefore, only the aliment groups that are viral:"
   ]
  },
  {
   "cell_type": "code",
   "execution_count": 40,
   "id": "bc67126e",
   "metadata": {},
   "outputs": [
    {
     "data": {
      "text/html": [
       "<div>\n",
       "<style scoped>\n",
       "    .dataframe tbody tr th:only-of-type {\n",
       "        vertical-align: middle;\n",
       "    }\n",
       "\n",
       "    .dataframe tbody tr th {\n",
       "        vertical-align: top;\n",
       "    }\n",
       "\n",
       "    .dataframe thead th {\n",
       "        text-align: right;\n",
       "    }\n",
       "</style>\n",
       "<table border=\"1\" class=\"dataframe\">\n",
       "  <thead>\n",
       "    <tr style=\"text-align: right;\">\n",
       "      <th></th>\n",
       "      <th>ALIMENT_GROUP</th>\n",
       "      <th>MONTH</th>\n",
       "      <th>PER_CAPITA_CONSUMTION</th>\n",
       "      <th>EXPENDITURE_PER_CAPITA</th>\n",
       "      <th>PENETRATION(%)</th>\n",
       "      <th>AVG VOLUMN(Kg. or l.)</th>\n",
       "      <th>VALUE</th>\n",
       "      <th>VOLUME</th>\n",
       "      <th>Recipe</th>\n",
       "      <th>Ingredients</th>\n",
       "    </tr>\n",
       "  </thead>\n",
       "  <tbody>\n",
       "    <tr>\n",
       "      <th>1</th>\n",
       "      <td>T.HUEVOS KGS</td>\n",
       "      <td>JANUARY</td>\n",
       "      <td>0.67</td>\n",
       "      <td>1.71</td>\n",
       "      <td>78.13</td>\n",
       "      <td>2.55</td>\n",
       "      <td>79,487.84</td>\n",
       "      <td>31,212.11</td>\n",
       "      <td>NaN</td>\n",
       "      <td>NaN</td>\n",
       "    </tr>\n",
       "    <tr>\n",
       "      <th>8</th>\n",
       "      <td>TOTAL CARNE</td>\n",
       "      <td>JANUARY</td>\n",
       "      <td>3.55</td>\n",
       "      <td>25.54</td>\n",
       "      <td>97.38</td>\n",
       "      <td>7.19</td>\n",
       "      <td>1,185,557.68</td>\n",
       "      <td>164,861.56</td>\n",
       "      <td>NaN</td>\n",
       "      <td>NaN</td>\n",
       "    </tr>\n",
       "    <tr>\n",
       "      <th>222</th>\n",
       "      <td>MANTEQUILLA</td>\n",
       "      <td>JANUARY</td>\n",
       "      <td>0.03</td>\n",
       "      <td>0.26</td>\n",
       "      <td>20.36</td>\n",
       "      <td>8.14</td>\n",
       "      <td>12,165.60</td>\n",
       "      <td>1,494.92</td>\n",
       "      <td>NaN</td>\n",
       "      <td>NaN</td>\n",
       "    </tr>\n",
       "    <tr>\n",
       "      <th>225</th>\n",
       "      <td>QUESO</td>\n",
       "      <td>JANUARY</td>\n",
       "      <td>0.62</td>\n",
       "      <td>4.83</td>\n",
       "      <td>87.09</td>\n",
       "      <td>7.81</td>\n",
       "      <td>224,340.14</td>\n",
       "      <td>28,724.90</td>\n",
       "      <td>NaN</td>\n",
       "      <td>NaN</td>\n",
       "    </tr>\n",
       "    <tr>\n",
       "      <th>254</th>\n",
       "      <td>PAN</td>\n",
       "      <td>JANUARY</td>\n",
       "      <td>2.47</td>\n",
       "      <td>5.86</td>\n",
       "      <td>97.07</td>\n",
       "      <td>2.37</td>\n",
       "      <td>272,006.47</td>\n",
       "      <td>114,808.39</td>\n",
       "      <td>NaN</td>\n",
       "      <td>NaN</td>\n",
       "    </tr>\n",
       "    <tr>\n",
       "      <th>...</th>\n",
       "      <td>...</td>\n",
       "      <td>...</td>\n",
       "      <td>...</td>\n",
       "      <td>...</td>\n",
       "      <td>...</td>\n",
       "      <td>...</td>\n",
       "      <td>...</td>\n",
       "      <td>...</td>\n",
       "      <td>...</td>\n",
       "      <td>...</td>\n",
       "    </tr>\n",
       "    <tr>\n",
       "      <th>7243</th>\n",
       "      <td>T.FRUTAS FRESCAS</td>\n",
       "      <td>NOVEMBER</td>\n",
       "      <td>5.92</td>\n",
       "      <td>11.96</td>\n",
       "      <td>93.81</td>\n",
       "      <td>2.02</td>\n",
       "      <td>555,291.64</td>\n",
       "      <td>274,721.68</td>\n",
       "      <td>NaN</td>\n",
       "      <td>NaN</td>\n",
       "    </tr>\n",
       "    <tr>\n",
       "      <th>7291</th>\n",
       "      <td>FRUTOS SEC.NUECES</td>\n",
       "      <td>NOVEMBER</td>\n",
       "      <td>0.06</td>\n",
       "      <td>0.54</td>\n",
       "      <td>20.88</td>\n",
       "      <td>8.39</td>\n",
       "      <td>25,272.07</td>\n",
       "      <td>3,011.28</td>\n",
       "      <td>NaN</td>\n",
       "      <td>NaN</td>\n",
       "    </tr>\n",
       "    <tr>\n",
       "      <th>7399</th>\n",
       "      <td>HARINAS Y SEMOLAS</td>\n",
       "      <td>NOVEMBER</td>\n",
       "      <td>0.18</td>\n",
       "      <td>0.23</td>\n",
       "      <td>27.25</td>\n",
       "      <td>1.32</td>\n",
       "      <td>10,873.00</td>\n",
       "      <td>8,211.95</td>\n",
       "      <td>NaN</td>\n",
       "      <td>NaN</td>\n",
       "    </tr>\n",
       "    <tr>\n",
       "      <th>7400</th>\n",
       "      <td>ENCURTIDOS</td>\n",
       "      <td>NOVEMBER</td>\n",
       "      <td>0.04</td>\n",
       "      <td>0.16</td>\n",
       "      <td>14.62</td>\n",
       "      <td>3.70</td>\n",
       "      <td>7,610.45</td>\n",
       "      <td>2,058.40</td>\n",
       "      <td>NaN</td>\n",
       "      <td>NaN</td>\n",
       "    </tr>\n",
       "    <tr>\n",
       "      <th>7401</th>\n",
       "      <td>ESPECIAS Y CONDIMENTO</td>\n",
       "      <td>NOVEMBER</td>\n",
       "      <td>0.01</td>\n",
       "      <td>0.28</td>\n",
       "      <td>29.78</td>\n",
       "      <td>23.73</td>\n",
       "      <td>12,788.45</td>\n",
       "      <td>539.03</td>\n",
       "      <td>NaN</td>\n",
       "      <td>NaN</td>\n",
       "    </tr>\n",
       "  </tbody>\n",
       "</table>\n",
       "<p>187 rows × 10 columns</p>\n",
       "</div>"
      ],
      "text/plain": [
       "              ALIMENT_GROUP     MONTH PER_CAPITA_CONSUMTION   \n",
       "1              T.HUEVOS KGS   JANUARY                  0.67  \\\n",
       "8               TOTAL CARNE   JANUARY                  3.55   \n",
       "222             MANTEQUILLA   JANUARY                  0.03   \n",
       "225                   QUESO   JANUARY                  0.62   \n",
       "254                     PAN   JANUARY                  2.47   \n",
       "...                     ...       ...                   ...   \n",
       "7243       T.FRUTAS FRESCAS  NOVEMBER                  5.92   \n",
       "7291      FRUTOS SEC.NUECES  NOVEMBER                  0.06   \n",
       "7399      HARINAS Y SEMOLAS  NOVEMBER                  0.18   \n",
       "7400             ENCURTIDOS  NOVEMBER                  0.04   \n",
       "7401  ESPECIAS Y CONDIMENTO  NOVEMBER                  0.01   \n",
       "\n",
       "     EXPENDITURE_PER_CAPITA PENETRATION(%) AVG VOLUMN(Kg. or l.)   \n",
       "1                      1.71          78.13                  2.55  \\\n",
       "8                     25.54          97.38                  7.19   \n",
       "222                    0.26          20.36                  8.14   \n",
       "225                    4.83          87.09                  7.81   \n",
       "254                    5.86          97.07                  2.37   \n",
       "...                     ...            ...                   ...   \n",
       "7243                  11.96          93.81                  2.02   \n",
       "7291                   0.54          20.88                  8.39   \n",
       "7399                   0.23          27.25                  1.32   \n",
       "7400                   0.16          14.62                  3.70   \n",
       "7401                   0.28          29.78                 23.73   \n",
       "\n",
       "             VALUE      VOLUME Recipe Ingredients  \n",
       "1        79,487.84   31,212.11    NaN         NaN  \n",
       "8     1,185,557.68  164,861.56    NaN         NaN  \n",
       "222      12,165.60    1,494.92    NaN         NaN  \n",
       "225     224,340.14   28,724.90    NaN         NaN  \n",
       "254     272,006.47  114,808.39    NaN         NaN  \n",
       "...            ...         ...    ...         ...  \n",
       "7243    555,291.64  274,721.68    NaN         NaN  \n",
       "7291     25,272.07    3,011.28    NaN         NaN  \n",
       "7399     10,873.00    8,211.95    NaN         NaN  \n",
       "7400      7,610.45    2,058.40    NaN         NaN  \n",
       "7401     12,788.45      539.03    NaN         NaN  \n",
       "\n",
       "[187 rows x 10 columns]"
      ]
     },
     "execution_count": 40,
     "metadata": {},
     "output_type": "execute_result"
    }
   ],
   "source": [
    "ingredientes_dict = {\n",
    "    'T.HUEVOS KGS', 'T.LECHE LT', 'TOTAL ACEITE', 'QUESO', 'ESPECIAS Y CONDIMENTO', 'CEREALES',\n",
    "    'T.FRUTAS FRESCAS', 'FRUTOS SEC.NUECES', 'ENCURTIDOS', 'AZUCAR', 'TOTAL CARNE', 'PAN',\n",
    "    'GALLETAS', 'ACEITUNAS', 'PASTAS ALIMENTICIAS', 'CHOCOLATES', 'MANTEQUILLA', 'HARINAS Y SEMOLAS'\n",
    "}\n",
    "\n",
    "# Crear nuevo DataFrame solo con valores permitidos\n",
    "df_filtrado = df[df['ALIMENT_GROUP'].isin(ingredientes_dict)].copy()\n",
    "# Eliminar filas donde MONTH sea nulo\n",
    "df_filtrado.dropna(subset=['MONTH'], inplace=True)\n",
    "# Imprimir el nuevo DataFrame\n",
    "df_filtrado"
   ]
  },
  {
   "cell_type": "markdown",
   "id": "5439ad3e",
   "metadata": {},
   "source": [
    "# 3. VISUALIZATION"
   ]
  },
  {
   "cell_type": "markdown",
   "id": "f57c3eaf",
   "metadata": {},
   "source": [
    "Create a subset to visualizate the most viral group aliments"
   ]
  },
  {
   "cell_type": "code",
   "execution_count": 41,
   "id": "458323b0",
   "metadata": {},
   "outputs": [],
   "source": [
    "subset1 = df[df['Ingredients'].notnull()]\n"
   ]
  },
  {
   "cell_type": "code",
   "execution_count": 42,
   "id": "c5ce8ae5",
   "metadata": {},
   "outputs": [],
   "source": [
    "df_filtrado['VOLUME'] = df_filtrado['VOLUME'].astype(str).str.split('.', expand=True)[0]\n",
    "df_filtrado[\"VOLUME\"] = df_filtrado[\"VOLUME\"].str.replace(\",\", \"\").astype(int)\n",
    "df_filtrado[\"VOLUME\"] = df_filtrado[\"VOLUME\"].astype(int)\n"
   ]
  },
  {
   "cell_type": "code",
   "execution_count": 43,
   "id": "4bac46ba",
   "metadata": {},
   "outputs": [
    {
     "data": {
      "text/html": [
       "<div>\n",
       "<style scoped>\n",
       "    .dataframe tbody tr th:only-of-type {\n",
       "        vertical-align: middle;\n",
       "    }\n",
       "\n",
       "    .dataframe tbody tr th {\n",
       "        vertical-align: top;\n",
       "    }\n",
       "\n",
       "    .dataframe thead th {\n",
       "        text-align: right;\n",
       "    }\n",
       "</style>\n",
       "<table border=\"1\" class=\"dataframe\">\n",
       "  <thead>\n",
       "    <tr style=\"text-align: right;\">\n",
       "      <th></th>\n",
       "      <th>ALIMENT_GROUP</th>\n",
       "      <th>MONTH</th>\n",
       "      <th>PER_CAPITA_CONSUMTION</th>\n",
       "      <th>EXPENDITURE_PER_CAPITA</th>\n",
       "      <th>PENETRATION(%)</th>\n",
       "      <th>AVG VOLUMN(Kg. or l.)</th>\n",
       "      <th>VALUE</th>\n",
       "      <th>VOLUME</th>\n",
       "      <th>Recipe</th>\n",
       "      <th>Ingredients</th>\n",
       "    </tr>\n",
       "  </thead>\n",
       "  <tbody>\n",
       "    <tr>\n",
       "      <th>1</th>\n",
       "      <td>T.HUEVOS KGS</td>\n",
       "      <td>JANUARY</td>\n",
       "      <td>0.67</td>\n",
       "      <td>1.71</td>\n",
       "      <td>78.13</td>\n",
       "      <td>2.55</td>\n",
       "      <td>79487</td>\n",
       "      <td>31212</td>\n",
       "      <td>NaN</td>\n",
       "      <td>NaN</td>\n",
       "    </tr>\n",
       "    <tr>\n",
       "      <th>8</th>\n",
       "      <td>TOTAL CARNE</td>\n",
       "      <td>JANUARY</td>\n",
       "      <td>3.55</td>\n",
       "      <td>25.54</td>\n",
       "      <td>97.38</td>\n",
       "      <td>7.19</td>\n",
       "      <td>1185557</td>\n",
       "      <td>164861</td>\n",
       "      <td>NaN</td>\n",
       "      <td>NaN</td>\n",
       "    </tr>\n",
       "    <tr>\n",
       "      <th>222</th>\n",
       "      <td>MANTEQUILLA</td>\n",
       "      <td>JANUARY</td>\n",
       "      <td>0.03</td>\n",
       "      <td>0.26</td>\n",
       "      <td>20.36</td>\n",
       "      <td>8.14</td>\n",
       "      <td>12165</td>\n",
       "      <td>1494</td>\n",
       "      <td>NaN</td>\n",
       "      <td>NaN</td>\n",
       "    </tr>\n",
       "    <tr>\n",
       "      <th>225</th>\n",
       "      <td>QUESO</td>\n",
       "      <td>JANUARY</td>\n",
       "      <td>0.62</td>\n",
       "      <td>4.83</td>\n",
       "      <td>87.09</td>\n",
       "      <td>7.81</td>\n",
       "      <td>224340</td>\n",
       "      <td>28724</td>\n",
       "      <td>NaN</td>\n",
       "      <td>NaN</td>\n",
       "    </tr>\n",
       "    <tr>\n",
       "      <th>254</th>\n",
       "      <td>PAN</td>\n",
       "      <td>JANUARY</td>\n",
       "      <td>2.47</td>\n",
       "      <td>5.86</td>\n",
       "      <td>97.07</td>\n",
       "      <td>2.37</td>\n",
       "      <td>272006</td>\n",
       "      <td>114808</td>\n",
       "      <td>NaN</td>\n",
       "      <td>NaN</td>\n",
       "    </tr>\n",
       "    <tr>\n",
       "      <th>...</th>\n",
       "      <td>...</td>\n",
       "      <td>...</td>\n",
       "      <td>...</td>\n",
       "      <td>...</td>\n",
       "      <td>...</td>\n",
       "      <td>...</td>\n",
       "      <td>...</td>\n",
       "      <td>...</td>\n",
       "      <td>...</td>\n",
       "      <td>...</td>\n",
       "    </tr>\n",
       "    <tr>\n",
       "      <th>7243</th>\n",
       "      <td>T.FRUTAS FRESCAS</td>\n",
       "      <td>NOVEMBER</td>\n",
       "      <td>5.92</td>\n",
       "      <td>11.96</td>\n",
       "      <td>93.81</td>\n",
       "      <td>2.02</td>\n",
       "      <td>555291</td>\n",
       "      <td>274721</td>\n",
       "      <td>NaN</td>\n",
       "      <td>NaN</td>\n",
       "    </tr>\n",
       "    <tr>\n",
       "      <th>7291</th>\n",
       "      <td>FRUTOS SEC.NUECES</td>\n",
       "      <td>NOVEMBER</td>\n",
       "      <td>0.06</td>\n",
       "      <td>0.54</td>\n",
       "      <td>20.88</td>\n",
       "      <td>8.39</td>\n",
       "      <td>25272</td>\n",
       "      <td>3011</td>\n",
       "      <td>NaN</td>\n",
       "      <td>NaN</td>\n",
       "    </tr>\n",
       "    <tr>\n",
       "      <th>7399</th>\n",
       "      <td>HARINAS Y SEMOLAS</td>\n",
       "      <td>NOVEMBER</td>\n",
       "      <td>0.18</td>\n",
       "      <td>0.23</td>\n",
       "      <td>27.25</td>\n",
       "      <td>1.32</td>\n",
       "      <td>10873</td>\n",
       "      <td>8211</td>\n",
       "      <td>NaN</td>\n",
       "      <td>NaN</td>\n",
       "    </tr>\n",
       "    <tr>\n",
       "      <th>7400</th>\n",
       "      <td>ENCURTIDOS</td>\n",
       "      <td>NOVEMBER</td>\n",
       "      <td>0.04</td>\n",
       "      <td>0.16</td>\n",
       "      <td>14.62</td>\n",
       "      <td>3.70</td>\n",
       "      <td>7610</td>\n",
       "      <td>2058</td>\n",
       "      <td>NaN</td>\n",
       "      <td>NaN</td>\n",
       "    </tr>\n",
       "    <tr>\n",
       "      <th>7401</th>\n",
       "      <td>ESPECIAS Y CONDIMENTO</td>\n",
       "      <td>NOVEMBER</td>\n",
       "      <td>0.01</td>\n",
       "      <td>0.28</td>\n",
       "      <td>29.78</td>\n",
       "      <td>23.73</td>\n",
       "      <td>12788</td>\n",
       "      <td>539</td>\n",
       "      <td>NaN</td>\n",
       "      <td>NaN</td>\n",
       "    </tr>\n",
       "  </tbody>\n",
       "</table>\n",
       "<p>187 rows × 10 columns</p>\n",
       "</div>"
      ],
      "text/plain": [
       "              ALIMENT_GROUP     MONTH PER_CAPITA_CONSUMTION   \n",
       "1              T.HUEVOS KGS   JANUARY                  0.67  \\\n",
       "8               TOTAL CARNE   JANUARY                  3.55   \n",
       "222             MANTEQUILLA   JANUARY                  0.03   \n",
       "225                   QUESO   JANUARY                  0.62   \n",
       "254                     PAN   JANUARY                  2.47   \n",
       "...                     ...       ...                   ...   \n",
       "7243       T.FRUTAS FRESCAS  NOVEMBER                  5.92   \n",
       "7291      FRUTOS SEC.NUECES  NOVEMBER                  0.06   \n",
       "7399      HARINAS Y SEMOLAS  NOVEMBER                  0.18   \n",
       "7400             ENCURTIDOS  NOVEMBER                  0.04   \n",
       "7401  ESPECIAS Y CONDIMENTO  NOVEMBER                  0.01   \n",
       "\n",
       "     EXPENDITURE_PER_CAPITA PENETRATION(%) AVG VOLUMN(Kg. or l.)    VALUE   \n",
       "1                      1.71          78.13                  2.55    79487  \\\n",
       "8                     25.54          97.38                  7.19  1185557   \n",
       "222                    0.26          20.36                  8.14    12165   \n",
       "225                    4.83          87.09                  7.81   224340   \n",
       "254                    5.86          97.07                  2.37   272006   \n",
       "...                     ...            ...                   ...      ...   \n",
       "7243                  11.96          93.81                  2.02   555291   \n",
       "7291                   0.54          20.88                  8.39    25272   \n",
       "7399                   0.23          27.25                  1.32    10873   \n",
       "7400                   0.16          14.62                  3.70     7610   \n",
       "7401                   0.28          29.78                 23.73    12788   \n",
       "\n",
       "      VOLUME Recipe Ingredients  \n",
       "1      31212    NaN         NaN  \n",
       "8     164861    NaN         NaN  \n",
       "222     1494    NaN         NaN  \n",
       "225    28724    NaN         NaN  \n",
       "254   114808    NaN         NaN  \n",
       "...      ...    ...         ...  \n",
       "7243  274721    NaN         NaN  \n",
       "7291    3011    NaN         NaN  \n",
       "7399    8211    NaN         NaN  \n",
       "7400    2058    NaN         NaN  \n",
       "7401     539    NaN         NaN  \n",
       "\n",
       "[187 rows x 10 columns]"
      ]
     },
     "execution_count": 43,
     "metadata": {},
     "output_type": "execute_result"
    }
   ],
   "source": [
    "df_filtrado['VALUE'] = df_filtrado['VALUE'].astype(str).str.split('.', expand=True)[0]\n",
    "df_filtrado[\"VALUE\"] = df_filtrado[\"VALUE\"].str.replace(\",\", \"\").astype(int)\n",
    "df_filtrado[\"VALUE\"] = df_filtrado[\"VALUE\"].astype(int)\n",
    "df_filtrado"
   ]
  },
  {
   "cell_type": "code",
   "execution_count": 44,
   "id": "9b86c18a",
   "metadata": {},
   "outputs": [
    {
     "data": {
      "text/html": [
       "<div>\n",
       "<style scoped>\n",
       "    .dataframe tbody tr th:only-of-type {\n",
       "        vertical-align: middle;\n",
       "    }\n",
       "\n",
       "    .dataframe tbody tr th {\n",
       "        vertical-align: top;\n",
       "    }\n",
       "\n",
       "    .dataframe thead th {\n",
       "        text-align: right;\n",
       "    }\n",
       "</style>\n",
       "<table border=\"1\" class=\"dataframe\">\n",
       "  <thead>\n",
       "    <tr style=\"text-align: right;\">\n",
       "      <th></th>\n",
       "      <th>ALIMENT_GROUP</th>\n",
       "      <th>MONTH</th>\n",
       "      <th>PER_CAPITA_CONSUMTION</th>\n",
       "      <th>EXPENDITURE_PER_CAPITA</th>\n",
       "      <th>PENETRATION(%)</th>\n",
       "      <th>AVG VOLUMN(Kg. or l.)</th>\n",
       "      <th>VALUE</th>\n",
       "      <th>VOLUME</th>\n",
       "      <th>Recipe</th>\n",
       "      <th>Ingredients</th>\n",
       "    </tr>\n",
       "  </thead>\n",
       "  <tbody>\n",
       "    <tr>\n",
       "      <th>1</th>\n",
       "      <td>T.HUEVOS KGS</td>\n",
       "      <td>JANUARY</td>\n",
       "      <td>0.67</td>\n",
       "      <td>1.71</td>\n",
       "      <td>78</td>\n",
       "      <td>2.55</td>\n",
       "      <td>79487</td>\n",
       "      <td>31212</td>\n",
       "      <td>NaN</td>\n",
       "      <td>NaN</td>\n",
       "    </tr>\n",
       "    <tr>\n",
       "      <th>8</th>\n",
       "      <td>TOTAL CARNE</td>\n",
       "      <td>JANUARY</td>\n",
       "      <td>3.55</td>\n",
       "      <td>25.54</td>\n",
       "      <td>97</td>\n",
       "      <td>7.19</td>\n",
       "      <td>1185557</td>\n",
       "      <td>164861</td>\n",
       "      <td>NaN</td>\n",
       "      <td>NaN</td>\n",
       "    </tr>\n",
       "    <tr>\n",
       "      <th>222</th>\n",
       "      <td>MANTEQUILLA</td>\n",
       "      <td>JANUARY</td>\n",
       "      <td>0.03</td>\n",
       "      <td>0.26</td>\n",
       "      <td>20</td>\n",
       "      <td>8.14</td>\n",
       "      <td>12165</td>\n",
       "      <td>1494</td>\n",
       "      <td>NaN</td>\n",
       "      <td>NaN</td>\n",
       "    </tr>\n",
       "    <tr>\n",
       "      <th>225</th>\n",
       "      <td>QUESO</td>\n",
       "      <td>JANUARY</td>\n",
       "      <td>0.62</td>\n",
       "      <td>4.83</td>\n",
       "      <td>87</td>\n",
       "      <td>7.81</td>\n",
       "      <td>224340</td>\n",
       "      <td>28724</td>\n",
       "      <td>NaN</td>\n",
       "      <td>NaN</td>\n",
       "    </tr>\n",
       "    <tr>\n",
       "      <th>254</th>\n",
       "      <td>PAN</td>\n",
       "      <td>JANUARY</td>\n",
       "      <td>2.47</td>\n",
       "      <td>5.86</td>\n",
       "      <td>97</td>\n",
       "      <td>2.37</td>\n",
       "      <td>272006</td>\n",
       "      <td>114808</td>\n",
       "      <td>NaN</td>\n",
       "      <td>NaN</td>\n",
       "    </tr>\n",
       "    <tr>\n",
       "      <th>...</th>\n",
       "      <td>...</td>\n",
       "      <td>...</td>\n",
       "      <td>...</td>\n",
       "      <td>...</td>\n",
       "      <td>...</td>\n",
       "      <td>...</td>\n",
       "      <td>...</td>\n",
       "      <td>...</td>\n",
       "      <td>...</td>\n",
       "      <td>...</td>\n",
       "    </tr>\n",
       "    <tr>\n",
       "      <th>7243</th>\n",
       "      <td>T.FRUTAS FRESCAS</td>\n",
       "      <td>NOVEMBER</td>\n",
       "      <td>5.92</td>\n",
       "      <td>11.96</td>\n",
       "      <td>93</td>\n",
       "      <td>2.02</td>\n",
       "      <td>555291</td>\n",
       "      <td>274721</td>\n",
       "      <td>NaN</td>\n",
       "      <td>NaN</td>\n",
       "    </tr>\n",
       "    <tr>\n",
       "      <th>7291</th>\n",
       "      <td>FRUTOS SEC.NUECES</td>\n",
       "      <td>NOVEMBER</td>\n",
       "      <td>0.06</td>\n",
       "      <td>0.54</td>\n",
       "      <td>20</td>\n",
       "      <td>8.39</td>\n",
       "      <td>25272</td>\n",
       "      <td>3011</td>\n",
       "      <td>NaN</td>\n",
       "      <td>NaN</td>\n",
       "    </tr>\n",
       "    <tr>\n",
       "      <th>7399</th>\n",
       "      <td>HARINAS Y SEMOLAS</td>\n",
       "      <td>NOVEMBER</td>\n",
       "      <td>0.18</td>\n",
       "      <td>0.23</td>\n",
       "      <td>27</td>\n",
       "      <td>1.32</td>\n",
       "      <td>10873</td>\n",
       "      <td>8211</td>\n",
       "      <td>NaN</td>\n",
       "      <td>NaN</td>\n",
       "    </tr>\n",
       "    <tr>\n",
       "      <th>7400</th>\n",
       "      <td>ENCURTIDOS</td>\n",
       "      <td>NOVEMBER</td>\n",
       "      <td>0.04</td>\n",
       "      <td>0.16</td>\n",
       "      <td>14</td>\n",
       "      <td>3.70</td>\n",
       "      <td>7610</td>\n",
       "      <td>2058</td>\n",
       "      <td>NaN</td>\n",
       "      <td>NaN</td>\n",
       "    </tr>\n",
       "    <tr>\n",
       "      <th>7401</th>\n",
       "      <td>ESPECIAS Y CONDIMENTO</td>\n",
       "      <td>NOVEMBER</td>\n",
       "      <td>0.01</td>\n",
       "      <td>0.28</td>\n",
       "      <td>29</td>\n",
       "      <td>23.73</td>\n",
       "      <td>12788</td>\n",
       "      <td>539</td>\n",
       "      <td>NaN</td>\n",
       "      <td>NaN</td>\n",
       "    </tr>\n",
       "  </tbody>\n",
       "</table>\n",
       "<p>187 rows × 10 columns</p>\n",
       "</div>"
      ],
      "text/plain": [
       "              ALIMENT_GROUP     MONTH PER_CAPITA_CONSUMTION   \n",
       "1              T.HUEVOS KGS   JANUARY                  0.67  \\\n",
       "8               TOTAL CARNE   JANUARY                  3.55   \n",
       "222             MANTEQUILLA   JANUARY                  0.03   \n",
       "225                   QUESO   JANUARY                  0.62   \n",
       "254                     PAN   JANUARY                  2.47   \n",
       "...                     ...       ...                   ...   \n",
       "7243       T.FRUTAS FRESCAS  NOVEMBER                  5.92   \n",
       "7291      FRUTOS SEC.NUECES  NOVEMBER                  0.06   \n",
       "7399      HARINAS Y SEMOLAS  NOVEMBER                  0.18   \n",
       "7400             ENCURTIDOS  NOVEMBER                  0.04   \n",
       "7401  ESPECIAS Y CONDIMENTO  NOVEMBER                  0.01   \n",
       "\n",
       "     EXPENDITURE_PER_CAPITA  PENETRATION(%) AVG VOLUMN(Kg. or l.)    VALUE   \n",
       "1                      1.71              78                  2.55    79487  \\\n",
       "8                     25.54              97                  7.19  1185557   \n",
       "222                    0.26              20                  8.14    12165   \n",
       "225                    4.83              87                  7.81   224340   \n",
       "254                    5.86              97                  2.37   272006   \n",
       "...                     ...             ...                   ...      ...   \n",
       "7243                  11.96              93                  2.02   555291   \n",
       "7291                   0.54              20                  8.39    25272   \n",
       "7399                   0.23              27                  1.32    10873   \n",
       "7400                   0.16              14                  3.70     7610   \n",
       "7401                   0.28              29                 23.73    12788   \n",
       "\n",
       "      VOLUME Recipe Ingredients  \n",
       "1      31212    NaN         NaN  \n",
       "8     164861    NaN         NaN  \n",
       "222     1494    NaN         NaN  \n",
       "225    28724    NaN         NaN  \n",
       "254   114808    NaN         NaN  \n",
       "...      ...    ...         ...  \n",
       "7243  274721    NaN         NaN  \n",
       "7291    3011    NaN         NaN  \n",
       "7399    8211    NaN         NaN  \n",
       "7400    2058    NaN         NaN  \n",
       "7401     539    NaN         NaN  \n",
       "\n",
       "[187 rows x 10 columns]"
      ]
     },
     "execution_count": 44,
     "metadata": {},
     "output_type": "execute_result"
    }
   ],
   "source": [
    "df_filtrado['PENETRATION(%)'] = df_filtrado['PENETRATION(%)'].astype(str).str.split('.', expand=True)[0]\n",
    "df_filtrado[\"PENETRATION(%)\"] = df_filtrado[\"PENETRATION(%)\"].astype(int)\n",
    "df_filtrado"
   ]
  },
  {
   "cell_type": "code",
   "execution_count": 48,
   "id": "e6148a4e",
   "metadata": {},
   "outputs": [
    {
     "data": {
      "application/vnd.plotly.v1+json": {
       "config": {
        "plotlyServerURL": "https://plot.ly"
       },
       "data": [
        {
         "alignmentgroup": "True",
         "hovertemplate": "ALIMENT_GROUP=%{y}<br>count=%{x}<extra></extra>",
         "legendgroup": "ESPECIAS Y CONDIMENTO",
         "marker": {
          "color": "rgb(27,158,119)",
          "pattern": {
           "shape": ""
          }
         },
         "name": "ESPECIAS Y CONDIMENTO",
         "offsetgroup": "ESPECIAS Y CONDIMENTO",
         "orientation": "h",
         "showlegend": true,
         "textposition": "auto",
         "type": "bar",
         "x": [
          7
         ],
         "xaxis": "x",
         "y": [
          "ESPECIAS Y CONDIMENTO"
         ],
         "yaxis": "y"
        },
        {
         "alignmentgroup": "True",
         "hovertemplate": "ALIMENT_GROUP=%{y}<br>count=%{x}<extra></extra>",
         "legendgroup": "T.FRUTAS FRESCAS",
         "marker": {
          "color": "rgb(217,95,2)",
          "pattern": {
           "shape": ""
          }
         },
         "name": "T.FRUTAS FRESCAS",
         "offsetgroup": "T.FRUTAS FRESCAS",
         "orientation": "h",
         "showlegend": true,
         "textposition": "auto",
         "type": "bar",
         "x": [
          6
         ],
         "xaxis": "x",
         "y": [
          "T.FRUTAS FRESCAS"
         ],
         "yaxis": "y"
        },
        {
         "alignmentgroup": "True",
         "hovertemplate": "ALIMENT_GROUP=%{y}<br>count=%{x}<extra></extra>",
         "legendgroup": "QUESO",
         "marker": {
          "color": "rgb(117,112,179)",
          "pattern": {
           "shape": ""
          }
         },
         "name": "QUESO",
         "offsetgroup": "QUESO",
         "orientation": "h",
         "showlegend": true,
         "textposition": "auto",
         "type": "bar",
         "x": [
          3
         ],
         "xaxis": "x",
         "y": [
          "QUESO"
         ],
         "yaxis": "y"
        },
        {
         "alignmentgroup": "True",
         "hovertemplate": "ALIMENT_GROUP=%{y}<br>count=%{x}<extra></extra>",
         "legendgroup": "CEREALES",
         "marker": {
          "color": "rgb(231,41,138)",
          "pattern": {
           "shape": ""
          }
         },
         "name": "CEREALES",
         "offsetgroup": "CEREALES",
         "orientation": "h",
         "showlegend": true,
         "textposition": "auto",
         "type": "bar",
         "x": [
          2
         ],
         "xaxis": "x",
         "y": [
          "CEREALES"
         ],
         "yaxis": "y"
        },
        {
         "alignmentgroup": "True",
         "hovertemplate": "ALIMENT_GROUP=%{y}<br>count=%{x}<extra></extra>",
         "legendgroup": "FRUTOS SEC.NUECES",
         "marker": {
          "color": "rgb(102,166,30)",
          "pattern": {
           "shape": ""
          }
         },
         "name": "FRUTOS SEC.NUECES",
         "offsetgroup": "FRUTOS SEC.NUECES",
         "orientation": "h",
         "showlegend": true,
         "textposition": "auto",
         "type": "bar",
         "x": [
          2
         ],
         "xaxis": "x",
         "y": [
          "FRUTOS SEC.NUECES"
         ],
         "yaxis": "y"
        },
        {
         "alignmentgroup": "True",
         "hovertemplate": "ALIMENT_GROUP=%{y}<br>count=%{x}<extra></extra>",
         "legendgroup": "ACEITUNAS",
         "marker": {
          "color": "rgb(230,171,2)",
          "pattern": {
           "shape": ""
          }
         },
         "name": "ACEITUNAS",
         "offsetgroup": "ACEITUNAS",
         "orientation": "h",
         "showlegend": true,
         "textposition": "auto",
         "type": "bar",
         "x": [
          1
         ],
         "xaxis": "x",
         "y": [
          "ACEITUNAS"
         ],
         "yaxis": "y"
        },
        {
         "alignmentgroup": "True",
         "hovertemplate": "ALIMENT_GROUP=%{y}<br>count=%{x}<extra></extra>",
         "legendgroup": "PASTAS ALIMENTICIAS",
         "marker": {
          "color": "rgb(166,118,29)",
          "pattern": {
           "shape": ""
          }
         },
         "name": "PASTAS ALIMENTICIAS",
         "offsetgroup": "PASTAS ALIMENTICIAS",
         "orientation": "h",
         "showlegend": true,
         "textposition": "auto",
         "type": "bar",
         "x": [
          1
         ],
         "xaxis": "x",
         "y": [
          "PASTAS ALIMENTICIAS"
         ],
         "yaxis": "y"
        },
        {
         "alignmentgroup": "True",
         "hovertemplate": "ALIMENT_GROUP=%{y}<br>count=%{x}<extra></extra>",
         "legendgroup": "TOTAL ACEITE",
         "marker": {
          "color": "rgb(102,102,102)",
          "pattern": {
           "shape": ""
          }
         },
         "name": "TOTAL ACEITE",
         "offsetgroup": "TOTAL ACEITE",
         "orientation": "h",
         "showlegend": true,
         "textposition": "auto",
         "type": "bar",
         "x": [
          1
         ],
         "xaxis": "x",
         "y": [
          "TOTAL ACEITE"
         ],
         "yaxis": "y"
        },
        {
         "alignmentgroup": "True",
         "hovertemplate": "ALIMENT_GROUP=%{y}<br>count=%{x}<extra></extra>",
         "legendgroup": "T.HUEVOS KGS",
         "marker": {
          "color": "rgb(27,158,119)",
          "pattern": {
           "shape": ""
          }
         },
         "name": "T.HUEVOS KGS",
         "offsetgroup": "T.HUEVOS KGS",
         "orientation": "h",
         "showlegend": true,
         "textposition": "auto",
         "type": "bar",
         "x": [
          1
         ],
         "xaxis": "x",
         "y": [
          "T.HUEVOS KGS"
         ],
         "yaxis": "y"
        },
        {
         "alignmentgroup": "True",
         "hovertemplate": "ALIMENT_GROUP=%{y}<br>count=%{x}<extra></extra>",
         "legendgroup": "T.HORTALIZAS FRESCAS",
         "marker": {
          "color": "rgb(217,95,2)",
          "pattern": {
           "shape": ""
          }
         },
         "name": "T.HORTALIZAS FRESCAS",
         "offsetgroup": "T.HORTALIZAS FRESCAS",
         "orientation": "h",
         "showlegend": true,
         "textposition": "auto",
         "type": "bar",
         "x": [
          1
         ],
         "xaxis": "x",
         "y": [
          "T.HORTALIZAS FRESCAS"
         ],
         "yaxis": "y"
        },
        {
         "alignmentgroup": "True",
         "hovertemplate": "ALIMENT_GROUP=%{y}<br>count=%{x}<extra></extra>",
         "legendgroup": "MANTEQUILLA",
         "marker": {
          "color": "rgb(117,112,179)",
          "pattern": {
           "shape": ""
          }
         },
         "name": "MANTEQUILLA",
         "offsetgroup": "MANTEQUILLA",
         "orientation": "h",
         "showlegend": true,
         "textposition": "auto",
         "type": "bar",
         "x": [
          1
         ],
         "xaxis": "x",
         "y": [
          "MANTEQUILLA"
         ],
         "yaxis": "y"
        },
        {
         "alignmentgroup": "True",
         "hovertemplate": "ALIMENT_GROUP=%{y}<br>count=%{x}<extra></extra>",
         "legendgroup": "PAN",
         "marker": {
          "color": "rgb(231,41,138)",
          "pattern": {
           "shape": ""
          }
         },
         "name": "PAN",
         "offsetgroup": "PAN",
         "orientation": "h",
         "showlegend": true,
         "textposition": "auto",
         "type": "bar",
         "x": [
          1
         ],
         "xaxis": "x",
         "y": [
          "PAN"
         ],
         "yaxis": "y"
        },
        {
         "alignmentgroup": "True",
         "hovertemplate": "ALIMENT_GROUP=%{y}<br>count=%{x}<extra></extra>",
         "legendgroup": "AZUCAR",
         "marker": {
          "color": "rgb(102,166,30)",
          "pattern": {
           "shape": ""
          }
         },
         "name": "AZUCAR",
         "offsetgroup": "AZUCAR",
         "orientation": "h",
         "showlegend": true,
         "textposition": "auto",
         "type": "bar",
         "x": [
          1
         ],
         "xaxis": "x",
         "y": [
          "AZUCAR"
         ],
         "yaxis": "y"
        },
        {
         "alignmentgroup": "True",
         "hovertemplate": "ALIMENT_GROUP=%{y}<br>count=%{x}<extra></extra>",
         "legendgroup": "HARINAS Y SEMOLAS",
         "marker": {
          "color": "rgb(230,171,2)",
          "pattern": {
           "shape": ""
          }
         },
         "name": "HARINAS Y SEMOLAS",
         "offsetgroup": "HARINAS Y SEMOLAS",
         "orientation": "h",
         "showlegend": true,
         "textposition": "auto",
         "type": "bar",
         "x": [
          1
         ],
         "xaxis": "x",
         "y": [
          "HARINAS Y SEMOLAS"
         ],
         "yaxis": "y"
        },
        {
         "alignmentgroup": "True",
         "hovertemplate": "ALIMENT_GROUP=%{y}<br>count=%{x}<extra></extra>",
         "legendgroup": "GALLETAS",
         "marker": {
          "color": "rgb(166,118,29)",
          "pattern": {
           "shape": ""
          }
         },
         "name": "GALLETAS",
         "offsetgroup": "GALLETAS",
         "orientation": "h",
         "showlegend": true,
         "textposition": "auto",
         "type": "bar",
         "x": [
          1
         ],
         "xaxis": "x",
         "y": [
          "GALLETAS"
         ],
         "yaxis": "y"
        },
        {
         "alignmentgroup": "True",
         "hovertemplate": "ALIMENT_GROUP=%{y}<br>count=%{x}<extra></extra>",
         "legendgroup": "ENCURTIDOS",
         "marker": {
          "color": "rgb(102,102,102)",
          "pattern": {
           "shape": ""
          }
         },
         "name": "ENCURTIDOS",
         "offsetgroup": "ENCURTIDOS",
         "orientation": "h",
         "showlegend": true,
         "textposition": "auto",
         "type": "bar",
         "x": [
          1
         ],
         "xaxis": "x",
         "y": [
          "ENCURTIDOS"
         ],
         "yaxis": "y"
        },
        {
         "alignmentgroup": "True",
         "hovertemplate": "ALIMENT_GROUP=%{y}<br>count=%{x}<extra></extra>",
         "legendgroup": "CHOCOLATES",
         "marker": {
          "color": "rgb(27,158,119)",
          "pattern": {
           "shape": ""
          }
         },
         "name": "CHOCOLATES",
         "offsetgroup": "CHOCOLATES",
         "orientation": "h",
         "showlegend": true,
         "textposition": "auto",
         "type": "bar",
         "x": [
          1
         ],
         "xaxis": "x",
         "y": [
          "CHOCOLATES"
         ],
         "yaxis": "y"
        },
        {
         "alignmentgroup": "True",
         "hovertemplate": "ALIMENT_GROUP=%{y}<br>count=%{x}<extra></extra>",
         "legendgroup": "TOTAL CARNE",
         "marker": {
          "color": "rgb(217,95,2)",
          "pattern": {
           "shape": ""
          }
         },
         "name": "TOTAL CARNE",
         "offsetgroup": "TOTAL CARNE",
         "orientation": "h",
         "showlegend": true,
         "textposition": "auto",
         "type": "bar",
         "x": [
          1
         ],
         "xaxis": "x",
         "y": [
          "TOTAL CARNE"
         ],
         "yaxis": "y"
        }
       ],
       "layout": {
        "barmode": "relative",
        "legend": {
         "title": {
          "text": "ALIMENT_GROUP"
         },
         "tracegroupgap": 0
        },
        "margin": {
         "t": 60
        },
        "template": {
         "data": {
          "bar": [
           {
            "error_x": {
             "color": "#2a3f5f"
            },
            "error_y": {
             "color": "#2a3f5f"
            },
            "marker": {
             "line": {
              "color": "#E5ECF6",
              "width": 0.5
             },
             "pattern": {
              "fillmode": "overlay",
              "size": 10,
              "solidity": 0.2
             }
            },
            "type": "bar"
           }
          ],
          "barpolar": [
           {
            "marker": {
             "line": {
              "color": "#E5ECF6",
              "width": 0.5
             },
             "pattern": {
              "fillmode": "overlay",
              "size": 10,
              "solidity": 0.2
             }
            },
            "type": "barpolar"
           }
          ],
          "carpet": [
           {
            "aaxis": {
             "endlinecolor": "#2a3f5f",
             "gridcolor": "white",
             "linecolor": "white",
             "minorgridcolor": "white",
             "startlinecolor": "#2a3f5f"
            },
            "baxis": {
             "endlinecolor": "#2a3f5f",
             "gridcolor": "white",
             "linecolor": "white",
             "minorgridcolor": "white",
             "startlinecolor": "#2a3f5f"
            },
            "type": "carpet"
           }
          ],
          "choropleth": [
           {
            "colorbar": {
             "outlinewidth": 0,
             "ticks": ""
            },
            "type": "choropleth"
           }
          ],
          "contour": [
           {
            "colorbar": {
             "outlinewidth": 0,
             "ticks": ""
            },
            "colorscale": [
             [
              0,
              "#0d0887"
             ],
             [
              0.1111111111111111,
              "#46039f"
             ],
             [
              0.2222222222222222,
              "#7201a8"
             ],
             [
              0.3333333333333333,
              "#9c179e"
             ],
             [
              0.4444444444444444,
              "#bd3786"
             ],
             [
              0.5555555555555556,
              "#d8576b"
             ],
             [
              0.6666666666666666,
              "#ed7953"
             ],
             [
              0.7777777777777778,
              "#fb9f3a"
             ],
             [
              0.8888888888888888,
              "#fdca26"
             ],
             [
              1,
              "#f0f921"
             ]
            ],
            "type": "contour"
           }
          ],
          "contourcarpet": [
           {
            "colorbar": {
             "outlinewidth": 0,
             "ticks": ""
            },
            "type": "contourcarpet"
           }
          ],
          "heatmap": [
           {
            "colorbar": {
             "outlinewidth": 0,
             "ticks": ""
            },
            "colorscale": [
             [
              0,
              "#0d0887"
             ],
             [
              0.1111111111111111,
              "#46039f"
             ],
             [
              0.2222222222222222,
              "#7201a8"
             ],
             [
              0.3333333333333333,
              "#9c179e"
             ],
             [
              0.4444444444444444,
              "#bd3786"
             ],
             [
              0.5555555555555556,
              "#d8576b"
             ],
             [
              0.6666666666666666,
              "#ed7953"
             ],
             [
              0.7777777777777778,
              "#fb9f3a"
             ],
             [
              0.8888888888888888,
              "#fdca26"
             ],
             [
              1,
              "#f0f921"
             ]
            ],
            "type": "heatmap"
           }
          ],
          "heatmapgl": [
           {
            "colorbar": {
             "outlinewidth": 0,
             "ticks": ""
            },
            "colorscale": [
             [
              0,
              "#0d0887"
             ],
             [
              0.1111111111111111,
              "#46039f"
             ],
             [
              0.2222222222222222,
              "#7201a8"
             ],
             [
              0.3333333333333333,
              "#9c179e"
             ],
             [
              0.4444444444444444,
              "#bd3786"
             ],
             [
              0.5555555555555556,
              "#d8576b"
             ],
             [
              0.6666666666666666,
              "#ed7953"
             ],
             [
              0.7777777777777778,
              "#fb9f3a"
             ],
             [
              0.8888888888888888,
              "#fdca26"
             ],
             [
              1,
              "#f0f921"
             ]
            ],
            "type": "heatmapgl"
           }
          ],
          "histogram": [
           {
            "marker": {
             "pattern": {
              "fillmode": "overlay",
              "size": 10,
              "solidity": 0.2
             }
            },
            "type": "histogram"
           }
          ],
          "histogram2d": [
           {
            "colorbar": {
             "outlinewidth": 0,
             "ticks": ""
            },
            "colorscale": [
             [
              0,
              "#0d0887"
             ],
             [
              0.1111111111111111,
              "#46039f"
             ],
             [
              0.2222222222222222,
              "#7201a8"
             ],
             [
              0.3333333333333333,
              "#9c179e"
             ],
             [
              0.4444444444444444,
              "#bd3786"
             ],
             [
              0.5555555555555556,
              "#d8576b"
             ],
             [
              0.6666666666666666,
              "#ed7953"
             ],
             [
              0.7777777777777778,
              "#fb9f3a"
             ],
             [
              0.8888888888888888,
              "#fdca26"
             ],
             [
              1,
              "#f0f921"
             ]
            ],
            "type": "histogram2d"
           }
          ],
          "histogram2dcontour": [
           {
            "colorbar": {
             "outlinewidth": 0,
             "ticks": ""
            },
            "colorscale": [
             [
              0,
              "#0d0887"
             ],
             [
              0.1111111111111111,
              "#46039f"
             ],
             [
              0.2222222222222222,
              "#7201a8"
             ],
             [
              0.3333333333333333,
              "#9c179e"
             ],
             [
              0.4444444444444444,
              "#bd3786"
             ],
             [
              0.5555555555555556,
              "#d8576b"
             ],
             [
              0.6666666666666666,
              "#ed7953"
             ],
             [
              0.7777777777777778,
              "#fb9f3a"
             ],
             [
              0.8888888888888888,
              "#fdca26"
             ],
             [
              1,
              "#f0f921"
             ]
            ],
            "type": "histogram2dcontour"
           }
          ],
          "mesh3d": [
           {
            "colorbar": {
             "outlinewidth": 0,
             "ticks": ""
            },
            "type": "mesh3d"
           }
          ],
          "parcoords": [
           {
            "line": {
             "colorbar": {
              "outlinewidth": 0,
              "ticks": ""
             }
            },
            "type": "parcoords"
           }
          ],
          "pie": [
           {
            "automargin": true,
            "type": "pie"
           }
          ],
          "scatter": [
           {
            "fillpattern": {
             "fillmode": "overlay",
             "size": 10,
             "solidity": 0.2
            },
            "type": "scatter"
           }
          ],
          "scatter3d": [
           {
            "line": {
             "colorbar": {
              "outlinewidth": 0,
              "ticks": ""
             }
            },
            "marker": {
             "colorbar": {
              "outlinewidth": 0,
              "ticks": ""
             }
            },
            "type": "scatter3d"
           }
          ],
          "scattercarpet": [
           {
            "marker": {
             "colorbar": {
              "outlinewidth": 0,
              "ticks": ""
             }
            },
            "type": "scattercarpet"
           }
          ],
          "scattergeo": [
           {
            "marker": {
             "colorbar": {
              "outlinewidth": 0,
              "ticks": ""
             }
            },
            "type": "scattergeo"
           }
          ],
          "scattergl": [
           {
            "marker": {
             "colorbar": {
              "outlinewidth": 0,
              "ticks": ""
             }
            },
            "type": "scattergl"
           }
          ],
          "scattermapbox": [
           {
            "marker": {
             "colorbar": {
              "outlinewidth": 0,
              "ticks": ""
             }
            },
            "type": "scattermapbox"
           }
          ],
          "scatterpolar": [
           {
            "marker": {
             "colorbar": {
              "outlinewidth": 0,
              "ticks": ""
             }
            },
            "type": "scatterpolar"
           }
          ],
          "scatterpolargl": [
           {
            "marker": {
             "colorbar": {
              "outlinewidth": 0,
              "ticks": ""
             }
            },
            "type": "scatterpolargl"
           }
          ],
          "scatterternary": [
           {
            "marker": {
             "colorbar": {
              "outlinewidth": 0,
              "ticks": ""
             }
            },
            "type": "scatterternary"
           }
          ],
          "surface": [
           {
            "colorbar": {
             "outlinewidth": 0,
             "ticks": ""
            },
            "colorscale": [
             [
              0,
              "#0d0887"
             ],
             [
              0.1111111111111111,
              "#46039f"
             ],
             [
              0.2222222222222222,
              "#7201a8"
             ],
             [
              0.3333333333333333,
              "#9c179e"
             ],
             [
              0.4444444444444444,
              "#bd3786"
             ],
             [
              0.5555555555555556,
              "#d8576b"
             ],
             [
              0.6666666666666666,
              "#ed7953"
             ],
             [
              0.7777777777777778,
              "#fb9f3a"
             ],
             [
              0.8888888888888888,
              "#fdca26"
             ],
             [
              1,
              "#f0f921"
             ]
            ],
            "type": "surface"
           }
          ],
          "table": [
           {
            "cells": {
             "fill": {
              "color": "#EBF0F8"
             },
             "line": {
              "color": "white"
             }
            },
            "header": {
             "fill": {
              "color": "#C8D4E3"
             },
             "line": {
              "color": "white"
             }
            },
            "type": "table"
           }
          ]
         },
         "layout": {
          "annotationdefaults": {
           "arrowcolor": "#2a3f5f",
           "arrowhead": 0,
           "arrowwidth": 1
          },
          "autotypenumbers": "strict",
          "coloraxis": {
           "colorbar": {
            "outlinewidth": 0,
            "ticks": ""
           }
          },
          "colorscale": {
           "diverging": [
            [
             0,
             "#8e0152"
            ],
            [
             0.1,
             "#c51b7d"
            ],
            [
             0.2,
             "#de77ae"
            ],
            [
             0.3,
             "#f1b6da"
            ],
            [
             0.4,
             "#fde0ef"
            ],
            [
             0.5,
             "#f7f7f7"
            ],
            [
             0.6,
             "#e6f5d0"
            ],
            [
             0.7,
             "#b8e186"
            ],
            [
             0.8,
             "#7fbc41"
            ],
            [
             0.9,
             "#4d9221"
            ],
            [
             1,
             "#276419"
            ]
           ],
           "sequential": [
            [
             0,
             "#0d0887"
            ],
            [
             0.1111111111111111,
             "#46039f"
            ],
            [
             0.2222222222222222,
             "#7201a8"
            ],
            [
             0.3333333333333333,
             "#9c179e"
            ],
            [
             0.4444444444444444,
             "#bd3786"
            ],
            [
             0.5555555555555556,
             "#d8576b"
            ],
            [
             0.6666666666666666,
             "#ed7953"
            ],
            [
             0.7777777777777778,
             "#fb9f3a"
            ],
            [
             0.8888888888888888,
             "#fdca26"
            ],
            [
             1,
             "#f0f921"
            ]
           ],
           "sequentialminus": [
            [
             0,
             "#0d0887"
            ],
            [
             0.1111111111111111,
             "#46039f"
            ],
            [
             0.2222222222222222,
             "#7201a8"
            ],
            [
             0.3333333333333333,
             "#9c179e"
            ],
            [
             0.4444444444444444,
             "#bd3786"
            ],
            [
             0.5555555555555556,
             "#d8576b"
            ],
            [
             0.6666666666666666,
             "#ed7953"
            ],
            [
             0.7777777777777778,
             "#fb9f3a"
            ],
            [
             0.8888888888888888,
             "#fdca26"
            ],
            [
             1,
             "#f0f921"
            ]
           ]
          },
          "colorway": [
           "#636efa",
           "#EF553B",
           "#00cc96",
           "#ab63fa",
           "#FFA15A",
           "#19d3f3",
           "#FF6692",
           "#B6E880",
           "#FF97FF",
           "#FECB52"
          ],
          "font": {
           "color": "#2a3f5f"
          },
          "geo": {
           "bgcolor": "white",
           "lakecolor": "white",
           "landcolor": "#E5ECF6",
           "showlakes": true,
           "showland": true,
           "subunitcolor": "white"
          },
          "hoverlabel": {
           "align": "left"
          },
          "hovermode": "closest",
          "mapbox": {
           "style": "light"
          },
          "paper_bgcolor": "white",
          "plot_bgcolor": "#E5ECF6",
          "polar": {
           "angularaxis": {
            "gridcolor": "white",
            "linecolor": "white",
            "ticks": ""
           },
           "bgcolor": "#E5ECF6",
           "radialaxis": {
            "gridcolor": "white",
            "linecolor": "white",
            "ticks": ""
           }
          },
          "scene": {
           "xaxis": {
            "backgroundcolor": "#E5ECF6",
            "gridcolor": "white",
            "gridwidth": 2,
            "linecolor": "white",
            "showbackground": true,
            "ticks": "",
            "zerolinecolor": "white"
           },
           "yaxis": {
            "backgroundcolor": "#E5ECF6",
            "gridcolor": "white",
            "gridwidth": 2,
            "linecolor": "white",
            "showbackground": true,
            "ticks": "",
            "zerolinecolor": "white"
           },
           "zaxis": {
            "backgroundcolor": "#E5ECF6",
            "gridcolor": "white",
            "gridwidth": 2,
            "linecolor": "white",
            "showbackground": true,
            "ticks": "",
            "zerolinecolor": "white"
           }
          },
          "shapedefaults": {
           "line": {
            "color": "#2a3f5f"
           }
          },
          "ternary": {
           "aaxis": {
            "gridcolor": "white",
            "linecolor": "white",
            "ticks": ""
           },
           "baxis": {
            "gridcolor": "white",
            "linecolor": "white",
            "ticks": ""
           },
           "bgcolor": "#E5ECF6",
           "caxis": {
            "gridcolor": "white",
            "linecolor": "white",
            "ticks": ""
           }
          },
          "title": {
           "x": 0.05
          },
          "xaxis": {
           "automargin": true,
           "gridcolor": "white",
           "linecolor": "white",
           "ticks": "",
           "title": {
            "standoff": 15
           },
           "zerolinecolor": "white",
           "zerolinewidth": 2
          },
          "yaxis": {
           "automargin": true,
           "gridcolor": "white",
           "linecolor": "white",
           "ticks": "",
           "title": {
            "standoff": 15
           },
           "zerolinecolor": "white",
           "zerolinewidth": 2
          }
         }
        },
        "title": {
         "text": "Food ingredients presence"
        },
        "xaxis": {
         "anchor": "y",
         "domain": [
          0,
          1
         ],
         "title": {
          "text": "Frequency ingredient viral recipes"
         }
        },
        "yaxis": {
         "anchor": "x",
         "categoryarray": [
          "TOTAL CARNE",
          "CHOCOLATES",
          "ENCURTIDOS",
          "GALLETAS",
          "HARINAS Y SEMOLAS",
          "AZUCAR",
          "PAN",
          "MANTEQUILLA",
          "T.HORTALIZAS FRESCAS",
          "T.HUEVOS KGS",
          "TOTAL ACEITE",
          "PASTAS ALIMENTICIAS",
          "ACEITUNAS",
          "FRUTOS SEC.NUECES",
          "CEREALES",
          "QUESO",
          "T.FRUTAS FRESCAS",
          "ESPECIAS Y CONDIMENTO"
         ],
         "categoryorder": "array",
         "domain": [
          0,
          1
         ],
         "title": {
          "text": "Category food groups"
         }
        }
       }
      },
      "text/html": [
       "<div>                            <div id=\"f01fe4e8-3afe-4111-a912-06f7b52a522a\" class=\"plotly-graph-div\" style=\"height:525px; width:100%;\"></div>            <script type=\"text/javascript\">                require([\"plotly\"], function(Plotly) {                    window.PLOTLYENV=window.PLOTLYENV || {};                                    if (document.getElementById(\"f01fe4e8-3afe-4111-a912-06f7b52a522a\")) {                    Plotly.newPlot(                        \"f01fe4e8-3afe-4111-a912-06f7b52a522a\",                        [{\"alignmentgroup\":\"True\",\"hovertemplate\":\"ALIMENT_GROUP=%{y}<br>count=%{x}<extra></extra>\",\"legendgroup\":\"ESPECIAS Y CONDIMENTO\",\"marker\":{\"color\":\"rgb(27,158,119)\",\"pattern\":{\"shape\":\"\"}},\"name\":\"ESPECIAS Y CONDIMENTO\",\"offsetgroup\":\"ESPECIAS Y CONDIMENTO\",\"orientation\":\"h\",\"showlegend\":true,\"textposition\":\"auto\",\"x\":[7],\"xaxis\":\"x\",\"y\":[\"ESPECIAS Y CONDIMENTO\"],\"yaxis\":\"y\",\"type\":\"bar\"},{\"alignmentgroup\":\"True\",\"hovertemplate\":\"ALIMENT_GROUP=%{y}<br>count=%{x}<extra></extra>\",\"legendgroup\":\"T.FRUTAS FRESCAS\",\"marker\":{\"color\":\"rgb(217,95,2)\",\"pattern\":{\"shape\":\"\"}},\"name\":\"T.FRUTAS FRESCAS\",\"offsetgroup\":\"T.FRUTAS FRESCAS\",\"orientation\":\"h\",\"showlegend\":true,\"textposition\":\"auto\",\"x\":[6],\"xaxis\":\"x\",\"y\":[\"T.FRUTAS FRESCAS\"],\"yaxis\":\"y\",\"type\":\"bar\"},{\"alignmentgroup\":\"True\",\"hovertemplate\":\"ALIMENT_GROUP=%{y}<br>count=%{x}<extra></extra>\",\"legendgroup\":\"QUESO\",\"marker\":{\"color\":\"rgb(117,112,179)\",\"pattern\":{\"shape\":\"\"}},\"name\":\"QUESO\",\"offsetgroup\":\"QUESO\",\"orientation\":\"h\",\"showlegend\":true,\"textposition\":\"auto\",\"x\":[3],\"xaxis\":\"x\",\"y\":[\"QUESO\"],\"yaxis\":\"y\",\"type\":\"bar\"},{\"alignmentgroup\":\"True\",\"hovertemplate\":\"ALIMENT_GROUP=%{y}<br>count=%{x}<extra></extra>\",\"legendgroup\":\"CEREALES\",\"marker\":{\"color\":\"rgb(231,41,138)\",\"pattern\":{\"shape\":\"\"}},\"name\":\"CEREALES\",\"offsetgroup\":\"CEREALES\",\"orientation\":\"h\",\"showlegend\":true,\"textposition\":\"auto\",\"x\":[2],\"xaxis\":\"x\",\"y\":[\"CEREALES\"],\"yaxis\":\"y\",\"type\":\"bar\"},{\"alignmentgroup\":\"True\",\"hovertemplate\":\"ALIMENT_GROUP=%{y}<br>count=%{x}<extra></extra>\",\"legendgroup\":\"FRUTOS SEC.NUECES\",\"marker\":{\"color\":\"rgb(102,166,30)\",\"pattern\":{\"shape\":\"\"}},\"name\":\"FRUTOS SEC.NUECES\",\"offsetgroup\":\"FRUTOS SEC.NUECES\",\"orientation\":\"h\",\"showlegend\":true,\"textposition\":\"auto\",\"x\":[2],\"xaxis\":\"x\",\"y\":[\"FRUTOS SEC.NUECES\"],\"yaxis\":\"y\",\"type\":\"bar\"},{\"alignmentgroup\":\"True\",\"hovertemplate\":\"ALIMENT_GROUP=%{y}<br>count=%{x}<extra></extra>\",\"legendgroup\":\"ACEITUNAS\",\"marker\":{\"color\":\"rgb(230,171,2)\",\"pattern\":{\"shape\":\"\"}},\"name\":\"ACEITUNAS\",\"offsetgroup\":\"ACEITUNAS\",\"orientation\":\"h\",\"showlegend\":true,\"textposition\":\"auto\",\"x\":[1],\"xaxis\":\"x\",\"y\":[\"ACEITUNAS\"],\"yaxis\":\"y\",\"type\":\"bar\"},{\"alignmentgroup\":\"True\",\"hovertemplate\":\"ALIMENT_GROUP=%{y}<br>count=%{x}<extra></extra>\",\"legendgroup\":\"PASTAS ALIMENTICIAS\",\"marker\":{\"color\":\"rgb(166,118,29)\",\"pattern\":{\"shape\":\"\"}},\"name\":\"PASTAS ALIMENTICIAS\",\"offsetgroup\":\"PASTAS ALIMENTICIAS\",\"orientation\":\"h\",\"showlegend\":true,\"textposition\":\"auto\",\"x\":[1],\"xaxis\":\"x\",\"y\":[\"PASTAS ALIMENTICIAS\"],\"yaxis\":\"y\",\"type\":\"bar\"},{\"alignmentgroup\":\"True\",\"hovertemplate\":\"ALIMENT_GROUP=%{y}<br>count=%{x}<extra></extra>\",\"legendgroup\":\"TOTAL ACEITE\",\"marker\":{\"color\":\"rgb(102,102,102)\",\"pattern\":{\"shape\":\"\"}},\"name\":\"TOTAL ACEITE\",\"offsetgroup\":\"TOTAL ACEITE\",\"orientation\":\"h\",\"showlegend\":true,\"textposition\":\"auto\",\"x\":[1],\"xaxis\":\"x\",\"y\":[\"TOTAL ACEITE\"],\"yaxis\":\"y\",\"type\":\"bar\"},{\"alignmentgroup\":\"True\",\"hovertemplate\":\"ALIMENT_GROUP=%{y}<br>count=%{x}<extra></extra>\",\"legendgroup\":\"T.HUEVOS KGS\",\"marker\":{\"color\":\"rgb(27,158,119)\",\"pattern\":{\"shape\":\"\"}},\"name\":\"T.HUEVOS KGS\",\"offsetgroup\":\"T.HUEVOS KGS\",\"orientation\":\"h\",\"showlegend\":true,\"textposition\":\"auto\",\"x\":[1],\"xaxis\":\"x\",\"y\":[\"T.HUEVOS KGS\"],\"yaxis\":\"y\",\"type\":\"bar\"},{\"alignmentgroup\":\"True\",\"hovertemplate\":\"ALIMENT_GROUP=%{y}<br>count=%{x}<extra></extra>\",\"legendgroup\":\"T.HORTALIZAS FRESCAS\",\"marker\":{\"color\":\"rgb(217,95,2)\",\"pattern\":{\"shape\":\"\"}},\"name\":\"T.HORTALIZAS FRESCAS\",\"offsetgroup\":\"T.HORTALIZAS FRESCAS\",\"orientation\":\"h\",\"showlegend\":true,\"textposition\":\"auto\",\"x\":[1],\"xaxis\":\"x\",\"y\":[\"T.HORTALIZAS FRESCAS\"],\"yaxis\":\"y\",\"type\":\"bar\"},{\"alignmentgroup\":\"True\",\"hovertemplate\":\"ALIMENT_GROUP=%{y}<br>count=%{x}<extra></extra>\",\"legendgroup\":\"MANTEQUILLA\",\"marker\":{\"color\":\"rgb(117,112,179)\",\"pattern\":{\"shape\":\"\"}},\"name\":\"MANTEQUILLA\",\"offsetgroup\":\"MANTEQUILLA\",\"orientation\":\"h\",\"showlegend\":true,\"textposition\":\"auto\",\"x\":[1],\"xaxis\":\"x\",\"y\":[\"MANTEQUILLA\"],\"yaxis\":\"y\",\"type\":\"bar\"},{\"alignmentgroup\":\"True\",\"hovertemplate\":\"ALIMENT_GROUP=%{y}<br>count=%{x}<extra></extra>\",\"legendgroup\":\"PAN\",\"marker\":{\"color\":\"rgb(231,41,138)\",\"pattern\":{\"shape\":\"\"}},\"name\":\"PAN\",\"offsetgroup\":\"PAN\",\"orientation\":\"h\",\"showlegend\":true,\"textposition\":\"auto\",\"x\":[1],\"xaxis\":\"x\",\"y\":[\"PAN\"],\"yaxis\":\"y\",\"type\":\"bar\"},{\"alignmentgroup\":\"True\",\"hovertemplate\":\"ALIMENT_GROUP=%{y}<br>count=%{x}<extra></extra>\",\"legendgroup\":\"AZUCAR\",\"marker\":{\"color\":\"rgb(102,166,30)\",\"pattern\":{\"shape\":\"\"}},\"name\":\"AZUCAR\",\"offsetgroup\":\"AZUCAR\",\"orientation\":\"h\",\"showlegend\":true,\"textposition\":\"auto\",\"x\":[1],\"xaxis\":\"x\",\"y\":[\"AZUCAR\"],\"yaxis\":\"y\",\"type\":\"bar\"},{\"alignmentgroup\":\"True\",\"hovertemplate\":\"ALIMENT_GROUP=%{y}<br>count=%{x}<extra></extra>\",\"legendgroup\":\"HARINAS Y SEMOLAS\",\"marker\":{\"color\":\"rgb(230,171,2)\",\"pattern\":{\"shape\":\"\"}},\"name\":\"HARINAS Y SEMOLAS\",\"offsetgroup\":\"HARINAS Y SEMOLAS\",\"orientation\":\"h\",\"showlegend\":true,\"textposition\":\"auto\",\"x\":[1],\"xaxis\":\"x\",\"y\":[\"HARINAS Y SEMOLAS\"],\"yaxis\":\"y\",\"type\":\"bar\"},{\"alignmentgroup\":\"True\",\"hovertemplate\":\"ALIMENT_GROUP=%{y}<br>count=%{x}<extra></extra>\",\"legendgroup\":\"GALLETAS\",\"marker\":{\"color\":\"rgb(166,118,29)\",\"pattern\":{\"shape\":\"\"}},\"name\":\"GALLETAS\",\"offsetgroup\":\"GALLETAS\",\"orientation\":\"h\",\"showlegend\":true,\"textposition\":\"auto\",\"x\":[1],\"xaxis\":\"x\",\"y\":[\"GALLETAS\"],\"yaxis\":\"y\",\"type\":\"bar\"},{\"alignmentgroup\":\"True\",\"hovertemplate\":\"ALIMENT_GROUP=%{y}<br>count=%{x}<extra></extra>\",\"legendgroup\":\"ENCURTIDOS\",\"marker\":{\"color\":\"rgb(102,102,102)\",\"pattern\":{\"shape\":\"\"}},\"name\":\"ENCURTIDOS\",\"offsetgroup\":\"ENCURTIDOS\",\"orientation\":\"h\",\"showlegend\":true,\"textposition\":\"auto\",\"x\":[1],\"xaxis\":\"x\",\"y\":[\"ENCURTIDOS\"],\"yaxis\":\"y\",\"type\":\"bar\"},{\"alignmentgroup\":\"True\",\"hovertemplate\":\"ALIMENT_GROUP=%{y}<br>count=%{x}<extra></extra>\",\"legendgroup\":\"CHOCOLATES\",\"marker\":{\"color\":\"rgb(27,158,119)\",\"pattern\":{\"shape\":\"\"}},\"name\":\"CHOCOLATES\",\"offsetgroup\":\"CHOCOLATES\",\"orientation\":\"h\",\"showlegend\":true,\"textposition\":\"auto\",\"x\":[1],\"xaxis\":\"x\",\"y\":[\"CHOCOLATES\"],\"yaxis\":\"y\",\"type\":\"bar\"},{\"alignmentgroup\":\"True\",\"hovertemplate\":\"ALIMENT_GROUP=%{y}<br>count=%{x}<extra></extra>\",\"legendgroup\":\"TOTAL CARNE\",\"marker\":{\"color\":\"rgb(217,95,2)\",\"pattern\":{\"shape\":\"\"}},\"name\":\"TOTAL CARNE\",\"offsetgroup\":\"TOTAL CARNE\",\"orientation\":\"h\",\"showlegend\":true,\"textposition\":\"auto\",\"x\":[1],\"xaxis\":\"x\",\"y\":[\"TOTAL CARNE\"],\"yaxis\":\"y\",\"type\":\"bar\"}],                        {\"template\":{\"data\":{\"histogram2dcontour\":[{\"type\":\"histogram2dcontour\",\"colorbar\":{\"outlinewidth\":0,\"ticks\":\"\"},\"colorscale\":[[0.0,\"#0d0887\"],[0.1111111111111111,\"#46039f\"],[0.2222222222222222,\"#7201a8\"],[0.3333333333333333,\"#9c179e\"],[0.4444444444444444,\"#bd3786\"],[0.5555555555555556,\"#d8576b\"],[0.6666666666666666,\"#ed7953\"],[0.7777777777777778,\"#fb9f3a\"],[0.8888888888888888,\"#fdca26\"],[1.0,\"#f0f921\"]]}],\"choropleth\":[{\"type\":\"choropleth\",\"colorbar\":{\"outlinewidth\":0,\"ticks\":\"\"}}],\"histogram2d\":[{\"type\":\"histogram2d\",\"colorbar\":{\"outlinewidth\":0,\"ticks\":\"\"},\"colorscale\":[[0.0,\"#0d0887\"],[0.1111111111111111,\"#46039f\"],[0.2222222222222222,\"#7201a8\"],[0.3333333333333333,\"#9c179e\"],[0.4444444444444444,\"#bd3786\"],[0.5555555555555556,\"#d8576b\"],[0.6666666666666666,\"#ed7953\"],[0.7777777777777778,\"#fb9f3a\"],[0.8888888888888888,\"#fdca26\"],[1.0,\"#f0f921\"]]}],\"heatmap\":[{\"type\":\"heatmap\",\"colorbar\":{\"outlinewidth\":0,\"ticks\":\"\"},\"colorscale\":[[0.0,\"#0d0887\"],[0.1111111111111111,\"#46039f\"],[0.2222222222222222,\"#7201a8\"],[0.3333333333333333,\"#9c179e\"],[0.4444444444444444,\"#bd3786\"],[0.5555555555555556,\"#d8576b\"],[0.6666666666666666,\"#ed7953\"],[0.7777777777777778,\"#fb9f3a\"],[0.8888888888888888,\"#fdca26\"],[1.0,\"#f0f921\"]]}],\"heatmapgl\":[{\"type\":\"heatmapgl\",\"colorbar\":{\"outlinewidth\":0,\"ticks\":\"\"},\"colorscale\":[[0.0,\"#0d0887\"],[0.1111111111111111,\"#46039f\"],[0.2222222222222222,\"#7201a8\"],[0.3333333333333333,\"#9c179e\"],[0.4444444444444444,\"#bd3786\"],[0.5555555555555556,\"#d8576b\"],[0.6666666666666666,\"#ed7953\"],[0.7777777777777778,\"#fb9f3a\"],[0.8888888888888888,\"#fdca26\"],[1.0,\"#f0f921\"]]}],\"contourcarpet\":[{\"type\":\"contourcarpet\",\"colorbar\":{\"outlinewidth\":0,\"ticks\":\"\"}}],\"contour\":[{\"type\":\"contour\",\"colorbar\":{\"outlinewidth\":0,\"ticks\":\"\"},\"colorscale\":[[0.0,\"#0d0887\"],[0.1111111111111111,\"#46039f\"],[0.2222222222222222,\"#7201a8\"],[0.3333333333333333,\"#9c179e\"],[0.4444444444444444,\"#bd3786\"],[0.5555555555555556,\"#d8576b\"],[0.6666666666666666,\"#ed7953\"],[0.7777777777777778,\"#fb9f3a\"],[0.8888888888888888,\"#fdca26\"],[1.0,\"#f0f921\"]]}],\"surface\":[{\"type\":\"surface\",\"colorbar\":{\"outlinewidth\":0,\"ticks\":\"\"},\"colorscale\":[[0.0,\"#0d0887\"],[0.1111111111111111,\"#46039f\"],[0.2222222222222222,\"#7201a8\"],[0.3333333333333333,\"#9c179e\"],[0.4444444444444444,\"#bd3786\"],[0.5555555555555556,\"#d8576b\"],[0.6666666666666666,\"#ed7953\"],[0.7777777777777778,\"#fb9f3a\"],[0.8888888888888888,\"#fdca26\"],[1.0,\"#f0f921\"]]}],\"mesh3d\":[{\"type\":\"mesh3d\",\"colorbar\":{\"outlinewidth\":0,\"ticks\":\"\"}}],\"scatter\":[{\"fillpattern\":{\"fillmode\":\"overlay\",\"size\":10,\"solidity\":0.2},\"type\":\"scatter\"}],\"parcoords\":[{\"type\":\"parcoords\",\"line\":{\"colorbar\":{\"outlinewidth\":0,\"ticks\":\"\"}}}],\"scatterpolargl\":[{\"type\":\"scatterpolargl\",\"marker\":{\"colorbar\":{\"outlinewidth\":0,\"ticks\":\"\"}}}],\"bar\":[{\"error_x\":{\"color\":\"#2a3f5f\"},\"error_y\":{\"color\":\"#2a3f5f\"},\"marker\":{\"line\":{\"color\":\"#E5ECF6\",\"width\":0.5},\"pattern\":{\"fillmode\":\"overlay\",\"size\":10,\"solidity\":0.2}},\"type\":\"bar\"}],\"scattergeo\":[{\"type\":\"scattergeo\",\"marker\":{\"colorbar\":{\"outlinewidth\":0,\"ticks\":\"\"}}}],\"scatterpolar\":[{\"type\":\"scatterpolar\",\"marker\":{\"colorbar\":{\"outlinewidth\":0,\"ticks\":\"\"}}}],\"histogram\":[{\"marker\":{\"pattern\":{\"fillmode\":\"overlay\",\"size\":10,\"solidity\":0.2}},\"type\":\"histogram\"}],\"scattergl\":[{\"type\":\"scattergl\",\"marker\":{\"colorbar\":{\"outlinewidth\":0,\"ticks\":\"\"}}}],\"scatter3d\":[{\"type\":\"scatter3d\",\"line\":{\"colorbar\":{\"outlinewidth\":0,\"ticks\":\"\"}},\"marker\":{\"colorbar\":{\"outlinewidth\":0,\"ticks\":\"\"}}}],\"scattermapbox\":[{\"type\":\"scattermapbox\",\"marker\":{\"colorbar\":{\"outlinewidth\":0,\"ticks\":\"\"}}}],\"scatterternary\":[{\"type\":\"scatterternary\",\"marker\":{\"colorbar\":{\"outlinewidth\":0,\"ticks\":\"\"}}}],\"scattercarpet\":[{\"type\":\"scattercarpet\",\"marker\":{\"colorbar\":{\"outlinewidth\":0,\"ticks\":\"\"}}}],\"carpet\":[{\"aaxis\":{\"endlinecolor\":\"#2a3f5f\",\"gridcolor\":\"white\",\"linecolor\":\"white\",\"minorgridcolor\":\"white\",\"startlinecolor\":\"#2a3f5f\"},\"baxis\":{\"endlinecolor\":\"#2a3f5f\",\"gridcolor\":\"white\",\"linecolor\":\"white\",\"minorgridcolor\":\"white\",\"startlinecolor\":\"#2a3f5f\"},\"type\":\"carpet\"}],\"table\":[{\"cells\":{\"fill\":{\"color\":\"#EBF0F8\"},\"line\":{\"color\":\"white\"}},\"header\":{\"fill\":{\"color\":\"#C8D4E3\"},\"line\":{\"color\":\"white\"}},\"type\":\"table\"}],\"barpolar\":[{\"marker\":{\"line\":{\"color\":\"#E5ECF6\",\"width\":0.5},\"pattern\":{\"fillmode\":\"overlay\",\"size\":10,\"solidity\":0.2}},\"type\":\"barpolar\"}],\"pie\":[{\"automargin\":true,\"type\":\"pie\"}]},\"layout\":{\"autotypenumbers\":\"strict\",\"colorway\":[\"#636efa\",\"#EF553B\",\"#00cc96\",\"#ab63fa\",\"#FFA15A\",\"#19d3f3\",\"#FF6692\",\"#B6E880\",\"#FF97FF\",\"#FECB52\"],\"font\":{\"color\":\"#2a3f5f\"},\"hovermode\":\"closest\",\"hoverlabel\":{\"align\":\"left\"},\"paper_bgcolor\":\"white\",\"plot_bgcolor\":\"#E5ECF6\",\"polar\":{\"bgcolor\":\"#E5ECF6\",\"angularaxis\":{\"gridcolor\":\"white\",\"linecolor\":\"white\",\"ticks\":\"\"},\"radialaxis\":{\"gridcolor\":\"white\",\"linecolor\":\"white\",\"ticks\":\"\"}},\"ternary\":{\"bgcolor\":\"#E5ECF6\",\"aaxis\":{\"gridcolor\":\"white\",\"linecolor\":\"white\",\"ticks\":\"\"},\"baxis\":{\"gridcolor\":\"white\",\"linecolor\":\"white\",\"ticks\":\"\"},\"caxis\":{\"gridcolor\":\"white\",\"linecolor\":\"white\",\"ticks\":\"\"}},\"coloraxis\":{\"colorbar\":{\"outlinewidth\":0,\"ticks\":\"\"}},\"colorscale\":{\"sequential\":[[0.0,\"#0d0887\"],[0.1111111111111111,\"#46039f\"],[0.2222222222222222,\"#7201a8\"],[0.3333333333333333,\"#9c179e\"],[0.4444444444444444,\"#bd3786\"],[0.5555555555555556,\"#d8576b\"],[0.6666666666666666,\"#ed7953\"],[0.7777777777777778,\"#fb9f3a\"],[0.8888888888888888,\"#fdca26\"],[1.0,\"#f0f921\"]],\"sequentialminus\":[[0.0,\"#0d0887\"],[0.1111111111111111,\"#46039f\"],[0.2222222222222222,\"#7201a8\"],[0.3333333333333333,\"#9c179e\"],[0.4444444444444444,\"#bd3786\"],[0.5555555555555556,\"#d8576b\"],[0.6666666666666666,\"#ed7953\"],[0.7777777777777778,\"#fb9f3a\"],[0.8888888888888888,\"#fdca26\"],[1.0,\"#f0f921\"]],\"diverging\":[[0,\"#8e0152\"],[0.1,\"#c51b7d\"],[0.2,\"#de77ae\"],[0.3,\"#f1b6da\"],[0.4,\"#fde0ef\"],[0.5,\"#f7f7f7\"],[0.6,\"#e6f5d0\"],[0.7,\"#b8e186\"],[0.8,\"#7fbc41\"],[0.9,\"#4d9221\"],[1,\"#276419\"]]},\"xaxis\":{\"gridcolor\":\"white\",\"linecolor\":\"white\",\"ticks\":\"\",\"title\":{\"standoff\":15},\"zerolinecolor\":\"white\",\"automargin\":true,\"zerolinewidth\":2},\"yaxis\":{\"gridcolor\":\"white\",\"linecolor\":\"white\",\"ticks\":\"\",\"title\":{\"standoff\":15},\"zerolinecolor\":\"white\",\"automargin\":true,\"zerolinewidth\":2},\"scene\":{\"xaxis\":{\"backgroundcolor\":\"#E5ECF6\",\"gridcolor\":\"white\",\"linecolor\":\"white\",\"showbackground\":true,\"ticks\":\"\",\"zerolinecolor\":\"white\",\"gridwidth\":2},\"yaxis\":{\"backgroundcolor\":\"#E5ECF6\",\"gridcolor\":\"white\",\"linecolor\":\"white\",\"showbackground\":true,\"ticks\":\"\",\"zerolinecolor\":\"white\",\"gridwidth\":2},\"zaxis\":{\"backgroundcolor\":\"#E5ECF6\",\"gridcolor\":\"white\",\"linecolor\":\"white\",\"showbackground\":true,\"ticks\":\"\",\"zerolinecolor\":\"white\",\"gridwidth\":2}},\"shapedefaults\":{\"line\":{\"color\":\"#2a3f5f\"}},\"annotationdefaults\":{\"arrowcolor\":\"#2a3f5f\",\"arrowhead\":0,\"arrowwidth\":1},\"geo\":{\"bgcolor\":\"white\",\"landcolor\":\"#E5ECF6\",\"subunitcolor\":\"white\",\"showland\":true,\"showlakes\":true,\"lakecolor\":\"white\"},\"title\":{\"x\":0.05},\"mapbox\":{\"style\":\"light\"}}},\"xaxis\":{\"anchor\":\"y\",\"domain\":[0.0,1.0],\"title\":{\"text\":\"Frequency ingredient viral recipes\"}},\"yaxis\":{\"anchor\":\"x\",\"domain\":[0.0,1.0],\"title\":{\"text\":\"Category food groups\"},\"categoryorder\":\"array\",\"categoryarray\":[\"TOTAL CARNE\",\"CHOCOLATES\",\"ENCURTIDOS\",\"GALLETAS\",\"HARINAS Y SEMOLAS\",\"AZUCAR\",\"PAN\",\"MANTEQUILLA\",\"T.HORTALIZAS FRESCAS\",\"T.HUEVOS KGS\",\"TOTAL ACEITE\",\"PASTAS ALIMENTICIAS\",\"ACEITUNAS\",\"FRUTOS SEC.NUECES\",\"CEREALES\",\"QUESO\",\"T.FRUTAS FRESCAS\",\"ESPECIAS Y CONDIMENTO\"]},\"legend\":{\"title\":{\"text\":\"ALIMENT_GROUP\"},\"tracegroupgap\":0},\"margin\":{\"t\":60},\"barmode\":\"relative\",\"title\":{\"text\":\"Food ingredients presence\"}},                        {\"responsive\": true}                    ).then(function(){\n",
       "                            \n",
       "var gd = document.getElementById('f01fe4e8-3afe-4111-a912-06f7b52a522a');\n",
       "var x = new MutationObserver(function (mutations, observer) {{\n",
       "        var display = window.getComputedStyle(gd).display;\n",
       "        if (!display || display === 'none') {{\n",
       "            console.log([gd, 'removed!']);\n",
       "            Plotly.purge(gd);\n",
       "            observer.disconnect();\n",
       "        }}\n",
       "}});\n",
       "\n",
       "// Listen for the removal of the full notebook cells\n",
       "var notebookContainer = gd.closest('#notebook-container');\n",
       "if (notebookContainer) {{\n",
       "    x.observe(notebookContainer, {childList: true});\n",
       "}}\n",
       "\n",
       "// Listen for the clearing of the current output cell\n",
       "var outputEl = gd.closest('.output');\n",
       "if (outputEl) {{\n",
       "    x.observe(outputEl, {childList: true});\n",
       "}}\n",
       "\n",
       "                        })                };                });            </script>        </div>"
      ]
     },
     "metadata": {},
     "output_type": "display_data"
    }
   ],
   "source": [
    "import plotly.express as px\n",
    "import plotly.io as pio\n",
    "pio.write_html(fig, file='frequency.html', auto_open=True)\n",
    "counts = subset1.groupby(\"ALIMENT_GROUP\").size().reset_index(name=\"count\")\n",
    "counts = counts.sort_values('count', ascending=False)  \n",
    "fig = px.bar(counts, x=\"count\", y=\"ALIMENT_GROUP\", orientation=\"h\", color=\"ALIMENT_GROUP\",\n",
    "             color_discrete_sequence=px.colors.qualitative.Dark2)\n",
    "fig.update_layout(\n",
    "    title=\"Food ingredients presence\",\n",
    "    xaxis_title=\"Frequency ingredient viral recipes\",\n",
    "    yaxis_title=\"Category food groups\"\n",
    ")\n",
    "fig.show()\n"
   ]
  },
  {
   "cell_type": "code",
   "execution_count": 49,
   "id": "91e571f2",
   "metadata": {},
   "outputs": [],
   "source": [
    "subset_pan = df_filtrado[df_filtrado['ALIMENT_GROUP'].isin(['ESPECIAS Y CONDIMENTO', 'T.HUEVOS KGS', 'QUESO'])]\n"
   ]
  },
  {
   "cell_type": "code",
   "execution_count": 51,
   "id": "097824bb",
   "metadata": {},
   "outputs": [
    {
     "data": {
      "application/vnd.plotly.v1+json": {
       "config": {
        "plotlyServerURL": "https://plot.ly"
       },
       "data": [
        {
         "marker": {
          "color": [
           "#636EFA",
           "#EF553B",
           "#00CC96",
           "#AB63FA",
           "#FFA15A",
           "#19D3F3",
           "#FF6692",
           "#B6E880",
           "#FF97FF",
           "#FECB52"
          ]
         },
         "type": "bar",
         "x": [
          "T.FRUTAS FRESCAS",
          "TOTAL CARNE",
          "PAN",
          "TOTAL ACEITE",
          "T.HUEVOS KGS",
          "QUESO",
          "GALLETAS",
          "PASTAS ALIMENTICIAS",
          "AZUCAR",
          "ACEITUNAS",
          "HARINAS Y SEMOLAS",
          "CEREALES",
          "CHOCOLATES",
          "ENCURTIDOS",
          "FRUTOS SEC.NUECES",
          "MANTEQUILLA",
          "ESPECIAS Y CONDIMENTO"
         ],
         "y": [
          3468978,
          1631633,
          1183435,
          440181,
          341137,
          312898,
          209704,
          172267,
          109433,
          102105,
          90011,
          67500,
          47850,
          24639,
          23444,
          14752,
          5372
         ]
        }
       ],
       "layout": {
        "template": {
         "data": {
          "bar": [
           {
            "error_x": {
             "color": "#2a3f5f"
            },
            "error_y": {
             "color": "#2a3f5f"
            },
            "marker": {
             "line": {
              "color": "#E5ECF6",
              "width": 0.5
             },
             "pattern": {
              "fillmode": "overlay",
              "size": 10,
              "solidity": 0.2
             }
            },
            "type": "bar"
           }
          ],
          "barpolar": [
           {
            "marker": {
             "line": {
              "color": "#E5ECF6",
              "width": 0.5
             },
             "pattern": {
              "fillmode": "overlay",
              "size": 10,
              "solidity": 0.2
             }
            },
            "type": "barpolar"
           }
          ],
          "carpet": [
           {
            "aaxis": {
             "endlinecolor": "#2a3f5f",
             "gridcolor": "white",
             "linecolor": "white",
             "minorgridcolor": "white",
             "startlinecolor": "#2a3f5f"
            },
            "baxis": {
             "endlinecolor": "#2a3f5f",
             "gridcolor": "white",
             "linecolor": "white",
             "minorgridcolor": "white",
             "startlinecolor": "#2a3f5f"
            },
            "type": "carpet"
           }
          ],
          "choropleth": [
           {
            "colorbar": {
             "outlinewidth": 0,
             "ticks": ""
            },
            "type": "choropleth"
           }
          ],
          "contour": [
           {
            "colorbar": {
             "outlinewidth": 0,
             "ticks": ""
            },
            "colorscale": [
             [
              0,
              "#0d0887"
             ],
             [
              0.1111111111111111,
              "#46039f"
             ],
             [
              0.2222222222222222,
              "#7201a8"
             ],
             [
              0.3333333333333333,
              "#9c179e"
             ],
             [
              0.4444444444444444,
              "#bd3786"
             ],
             [
              0.5555555555555556,
              "#d8576b"
             ],
             [
              0.6666666666666666,
              "#ed7953"
             ],
             [
              0.7777777777777778,
              "#fb9f3a"
             ],
             [
              0.8888888888888888,
              "#fdca26"
             ],
             [
              1,
              "#f0f921"
             ]
            ],
            "type": "contour"
           }
          ],
          "contourcarpet": [
           {
            "colorbar": {
             "outlinewidth": 0,
             "ticks": ""
            },
            "type": "contourcarpet"
           }
          ],
          "heatmap": [
           {
            "colorbar": {
             "outlinewidth": 0,
             "ticks": ""
            },
            "colorscale": [
             [
              0,
              "#0d0887"
             ],
             [
              0.1111111111111111,
              "#46039f"
             ],
             [
              0.2222222222222222,
              "#7201a8"
             ],
             [
              0.3333333333333333,
              "#9c179e"
             ],
             [
              0.4444444444444444,
              "#bd3786"
             ],
             [
              0.5555555555555556,
              "#d8576b"
             ],
             [
              0.6666666666666666,
              "#ed7953"
             ],
             [
              0.7777777777777778,
              "#fb9f3a"
             ],
             [
              0.8888888888888888,
              "#fdca26"
             ],
             [
              1,
              "#f0f921"
             ]
            ],
            "type": "heatmap"
           }
          ],
          "heatmapgl": [
           {
            "colorbar": {
             "outlinewidth": 0,
             "ticks": ""
            },
            "colorscale": [
             [
              0,
              "#0d0887"
             ],
             [
              0.1111111111111111,
              "#46039f"
             ],
             [
              0.2222222222222222,
              "#7201a8"
             ],
             [
              0.3333333333333333,
              "#9c179e"
             ],
             [
              0.4444444444444444,
              "#bd3786"
             ],
             [
              0.5555555555555556,
              "#d8576b"
             ],
             [
              0.6666666666666666,
              "#ed7953"
             ],
             [
              0.7777777777777778,
              "#fb9f3a"
             ],
             [
              0.8888888888888888,
              "#fdca26"
             ],
             [
              1,
              "#f0f921"
             ]
            ],
            "type": "heatmapgl"
           }
          ],
          "histogram": [
           {
            "marker": {
             "pattern": {
              "fillmode": "overlay",
              "size": 10,
              "solidity": 0.2
             }
            },
            "type": "histogram"
           }
          ],
          "histogram2d": [
           {
            "colorbar": {
             "outlinewidth": 0,
             "ticks": ""
            },
            "colorscale": [
             [
              0,
              "#0d0887"
             ],
             [
              0.1111111111111111,
              "#46039f"
             ],
             [
              0.2222222222222222,
              "#7201a8"
             ],
             [
              0.3333333333333333,
              "#9c179e"
             ],
             [
              0.4444444444444444,
              "#bd3786"
             ],
             [
              0.5555555555555556,
              "#d8576b"
             ],
             [
              0.6666666666666666,
              "#ed7953"
             ],
             [
              0.7777777777777778,
              "#fb9f3a"
             ],
             [
              0.8888888888888888,
              "#fdca26"
             ],
             [
              1,
              "#f0f921"
             ]
            ],
            "type": "histogram2d"
           }
          ],
          "histogram2dcontour": [
           {
            "colorbar": {
             "outlinewidth": 0,
             "ticks": ""
            },
            "colorscale": [
             [
              0,
              "#0d0887"
             ],
             [
              0.1111111111111111,
              "#46039f"
             ],
             [
              0.2222222222222222,
              "#7201a8"
             ],
             [
              0.3333333333333333,
              "#9c179e"
             ],
             [
              0.4444444444444444,
              "#bd3786"
             ],
             [
              0.5555555555555556,
              "#d8576b"
             ],
             [
              0.6666666666666666,
              "#ed7953"
             ],
             [
              0.7777777777777778,
              "#fb9f3a"
             ],
             [
              0.8888888888888888,
              "#fdca26"
             ],
             [
              1,
              "#f0f921"
             ]
            ],
            "type": "histogram2dcontour"
           }
          ],
          "mesh3d": [
           {
            "colorbar": {
             "outlinewidth": 0,
             "ticks": ""
            },
            "type": "mesh3d"
           }
          ],
          "parcoords": [
           {
            "line": {
             "colorbar": {
              "outlinewidth": 0,
              "ticks": ""
             }
            },
            "type": "parcoords"
           }
          ],
          "pie": [
           {
            "automargin": true,
            "type": "pie"
           }
          ],
          "scatter": [
           {
            "fillpattern": {
             "fillmode": "overlay",
             "size": 10,
             "solidity": 0.2
            },
            "type": "scatter"
           }
          ],
          "scatter3d": [
           {
            "line": {
             "colorbar": {
              "outlinewidth": 0,
              "ticks": ""
             }
            },
            "marker": {
             "colorbar": {
              "outlinewidth": 0,
              "ticks": ""
             }
            },
            "type": "scatter3d"
           }
          ],
          "scattercarpet": [
           {
            "marker": {
             "colorbar": {
              "outlinewidth": 0,
              "ticks": ""
             }
            },
            "type": "scattercarpet"
           }
          ],
          "scattergeo": [
           {
            "marker": {
             "colorbar": {
              "outlinewidth": 0,
              "ticks": ""
             }
            },
            "type": "scattergeo"
           }
          ],
          "scattergl": [
           {
            "marker": {
             "colorbar": {
              "outlinewidth": 0,
              "ticks": ""
             }
            },
            "type": "scattergl"
           }
          ],
          "scattermapbox": [
           {
            "marker": {
             "colorbar": {
              "outlinewidth": 0,
              "ticks": ""
             }
            },
            "type": "scattermapbox"
           }
          ],
          "scatterpolar": [
           {
            "marker": {
             "colorbar": {
              "outlinewidth": 0,
              "ticks": ""
             }
            },
            "type": "scatterpolar"
           }
          ],
          "scatterpolargl": [
           {
            "marker": {
             "colorbar": {
              "outlinewidth": 0,
              "ticks": ""
             }
            },
            "type": "scatterpolargl"
           }
          ],
          "scatterternary": [
           {
            "marker": {
             "colorbar": {
              "outlinewidth": 0,
              "ticks": ""
             }
            },
            "type": "scatterternary"
           }
          ],
          "surface": [
           {
            "colorbar": {
             "outlinewidth": 0,
             "ticks": ""
            },
            "colorscale": [
             [
              0,
              "#0d0887"
             ],
             [
              0.1111111111111111,
              "#46039f"
             ],
             [
              0.2222222222222222,
              "#7201a8"
             ],
             [
              0.3333333333333333,
              "#9c179e"
             ],
             [
              0.4444444444444444,
              "#bd3786"
             ],
             [
              0.5555555555555556,
              "#d8576b"
             ],
             [
              0.6666666666666666,
              "#ed7953"
             ],
             [
              0.7777777777777778,
              "#fb9f3a"
             ],
             [
              0.8888888888888888,
              "#fdca26"
             ],
             [
              1,
              "#f0f921"
             ]
            ],
            "type": "surface"
           }
          ],
          "table": [
           {
            "cells": {
             "fill": {
              "color": "#EBF0F8"
             },
             "line": {
              "color": "white"
             }
            },
            "header": {
             "fill": {
              "color": "#C8D4E3"
             },
             "line": {
              "color": "white"
             }
            },
            "type": "table"
           }
          ]
         },
         "layout": {
          "annotationdefaults": {
           "arrowcolor": "#2a3f5f",
           "arrowhead": 0,
           "arrowwidth": 1
          },
          "autotypenumbers": "strict",
          "coloraxis": {
           "colorbar": {
            "outlinewidth": 0,
            "ticks": ""
           }
          },
          "colorscale": {
           "diverging": [
            [
             0,
             "#8e0152"
            ],
            [
             0.1,
             "#c51b7d"
            ],
            [
             0.2,
             "#de77ae"
            ],
            [
             0.3,
             "#f1b6da"
            ],
            [
             0.4,
             "#fde0ef"
            ],
            [
             0.5,
             "#f7f7f7"
            ],
            [
             0.6,
             "#e6f5d0"
            ],
            [
             0.7,
             "#b8e186"
            ],
            [
             0.8,
             "#7fbc41"
            ],
            [
             0.9,
             "#4d9221"
            ],
            [
             1,
             "#276419"
            ]
           ],
           "sequential": [
            [
             0,
             "#0d0887"
            ],
            [
             0.1111111111111111,
             "#46039f"
            ],
            [
             0.2222222222222222,
             "#7201a8"
            ],
            [
             0.3333333333333333,
             "#9c179e"
            ],
            [
             0.4444444444444444,
             "#bd3786"
            ],
            [
             0.5555555555555556,
             "#d8576b"
            ],
            [
             0.6666666666666666,
             "#ed7953"
            ],
            [
             0.7777777777777778,
             "#fb9f3a"
            ],
            [
             0.8888888888888888,
             "#fdca26"
            ],
            [
             1,
             "#f0f921"
            ]
           ],
           "sequentialminus": [
            [
             0,
             "#0d0887"
            ],
            [
             0.1111111111111111,
             "#46039f"
            ],
            [
             0.2222222222222222,
             "#7201a8"
            ],
            [
             0.3333333333333333,
             "#9c179e"
            ],
            [
             0.4444444444444444,
             "#bd3786"
            ],
            [
             0.5555555555555556,
             "#d8576b"
            ],
            [
             0.6666666666666666,
             "#ed7953"
            ],
            [
             0.7777777777777778,
             "#fb9f3a"
            ],
            [
             0.8888888888888888,
             "#fdca26"
            ],
            [
             1,
             "#f0f921"
            ]
           ]
          },
          "colorway": [
           "#636efa",
           "#EF553B",
           "#00cc96",
           "#ab63fa",
           "#FFA15A",
           "#19d3f3",
           "#FF6692",
           "#B6E880",
           "#FF97FF",
           "#FECB52"
          ],
          "font": {
           "color": "#2a3f5f"
          },
          "geo": {
           "bgcolor": "white",
           "lakecolor": "white",
           "landcolor": "#E5ECF6",
           "showlakes": true,
           "showland": true,
           "subunitcolor": "white"
          },
          "hoverlabel": {
           "align": "left"
          },
          "hovermode": "closest",
          "mapbox": {
           "style": "light"
          },
          "paper_bgcolor": "white",
          "plot_bgcolor": "#E5ECF6",
          "polar": {
           "angularaxis": {
            "gridcolor": "white",
            "linecolor": "white",
            "ticks": ""
           },
           "bgcolor": "#E5ECF6",
           "radialaxis": {
            "gridcolor": "white",
            "linecolor": "white",
            "ticks": ""
           }
          },
          "scene": {
           "xaxis": {
            "backgroundcolor": "#E5ECF6",
            "gridcolor": "white",
            "gridwidth": 2,
            "linecolor": "white",
            "showbackground": true,
            "ticks": "",
            "zerolinecolor": "white"
           },
           "yaxis": {
            "backgroundcolor": "#E5ECF6",
            "gridcolor": "white",
            "gridwidth": 2,
            "linecolor": "white",
            "showbackground": true,
            "ticks": "",
            "zerolinecolor": "white"
           },
           "zaxis": {
            "backgroundcolor": "#E5ECF6",
            "gridcolor": "white",
            "gridwidth": 2,
            "linecolor": "white",
            "showbackground": true,
            "ticks": "",
            "zerolinecolor": "white"
           }
          },
          "shapedefaults": {
           "line": {
            "color": "#2a3f5f"
           }
          },
          "ternary": {
           "aaxis": {
            "gridcolor": "white",
            "linecolor": "white",
            "ticks": ""
           },
           "baxis": {
            "gridcolor": "white",
            "linecolor": "white",
            "ticks": ""
           },
           "bgcolor": "#E5ECF6",
           "caxis": {
            "gridcolor": "white",
            "linecolor": "white",
            "ticks": ""
           }
          },
          "title": {
           "x": 0.05
          },
          "xaxis": {
           "automargin": true,
           "gridcolor": "white",
           "linecolor": "white",
           "ticks": "",
           "title": {
            "standoff": 15
           },
           "zerolinecolor": "white",
           "zerolinewidth": 2
          },
          "yaxis": {
           "automargin": true,
           "gridcolor": "white",
           "linecolor": "white",
           "ticks": "",
           "title": {
            "standoff": 15
           },
           "zerolinecolor": "white",
           "zerolinewidth": 2
          }
         }
        },
        "title": {
         "text": "Annual consumption x aliment group"
        },
        "xaxis": {
         "tickangle": -90,
         "title": {
          "text": "Food category"
         }
        },
        "yaxis": {
         "title": {
          "text": "Volum (Thousand of Kg. o L)"
         }
        }
       }
      },
      "text/html": [
       "<div>                            <div id=\"336cbfe2-826f-45f6-b6dc-753fbee160e1\" class=\"plotly-graph-div\" style=\"height:525px; width:100%;\"></div>            <script type=\"text/javascript\">                require([\"plotly\"], function(Plotly) {                    window.PLOTLYENV=window.PLOTLYENV || {};                                    if (document.getElementById(\"336cbfe2-826f-45f6-b6dc-753fbee160e1\")) {                    Plotly.newPlot(                        \"336cbfe2-826f-45f6-b6dc-753fbee160e1\",                        [{\"marker\":{\"color\":[\"#636EFA\",\"#EF553B\",\"#00CC96\",\"#AB63FA\",\"#FFA15A\",\"#19D3F3\",\"#FF6692\",\"#B6E880\",\"#FF97FF\",\"#FECB52\"]},\"x\":[\"T.FRUTAS FRESCAS\",\"TOTAL CARNE\",\"PAN\",\"TOTAL ACEITE\",\"T.HUEVOS KGS\",\"QUESO\",\"GALLETAS\",\"PASTAS ALIMENTICIAS\",\"AZUCAR\",\"ACEITUNAS\",\"HARINAS Y SEMOLAS\",\"CEREALES\",\"CHOCOLATES\",\"ENCURTIDOS\",\"FRUTOS SEC.NUECES\",\"MANTEQUILLA\",\"ESPECIAS Y CONDIMENTO\"],\"y\":[3468978,1631633,1183435,440181,341137,312898,209704,172267,109433,102105,90011,67500,47850,24639,23444,14752,5372],\"type\":\"bar\"}],                        {\"template\":{\"data\":{\"histogram2dcontour\":[{\"type\":\"histogram2dcontour\",\"colorbar\":{\"outlinewidth\":0,\"ticks\":\"\"},\"colorscale\":[[0.0,\"#0d0887\"],[0.1111111111111111,\"#46039f\"],[0.2222222222222222,\"#7201a8\"],[0.3333333333333333,\"#9c179e\"],[0.4444444444444444,\"#bd3786\"],[0.5555555555555556,\"#d8576b\"],[0.6666666666666666,\"#ed7953\"],[0.7777777777777778,\"#fb9f3a\"],[0.8888888888888888,\"#fdca26\"],[1.0,\"#f0f921\"]]}],\"choropleth\":[{\"type\":\"choropleth\",\"colorbar\":{\"outlinewidth\":0,\"ticks\":\"\"}}],\"histogram2d\":[{\"type\":\"histogram2d\",\"colorbar\":{\"outlinewidth\":0,\"ticks\":\"\"},\"colorscale\":[[0.0,\"#0d0887\"],[0.1111111111111111,\"#46039f\"],[0.2222222222222222,\"#7201a8\"],[0.3333333333333333,\"#9c179e\"],[0.4444444444444444,\"#bd3786\"],[0.5555555555555556,\"#d8576b\"],[0.6666666666666666,\"#ed7953\"],[0.7777777777777778,\"#fb9f3a\"],[0.8888888888888888,\"#fdca26\"],[1.0,\"#f0f921\"]]}],\"heatmap\":[{\"type\":\"heatmap\",\"colorbar\":{\"outlinewidth\":0,\"ticks\":\"\"},\"colorscale\":[[0.0,\"#0d0887\"],[0.1111111111111111,\"#46039f\"],[0.2222222222222222,\"#7201a8\"],[0.3333333333333333,\"#9c179e\"],[0.4444444444444444,\"#bd3786\"],[0.5555555555555556,\"#d8576b\"],[0.6666666666666666,\"#ed7953\"],[0.7777777777777778,\"#fb9f3a\"],[0.8888888888888888,\"#fdca26\"],[1.0,\"#f0f921\"]]}],\"heatmapgl\":[{\"type\":\"heatmapgl\",\"colorbar\":{\"outlinewidth\":0,\"ticks\":\"\"},\"colorscale\":[[0.0,\"#0d0887\"],[0.1111111111111111,\"#46039f\"],[0.2222222222222222,\"#7201a8\"],[0.3333333333333333,\"#9c179e\"],[0.4444444444444444,\"#bd3786\"],[0.5555555555555556,\"#d8576b\"],[0.6666666666666666,\"#ed7953\"],[0.7777777777777778,\"#fb9f3a\"],[0.8888888888888888,\"#fdca26\"],[1.0,\"#f0f921\"]]}],\"contourcarpet\":[{\"type\":\"contourcarpet\",\"colorbar\":{\"outlinewidth\":0,\"ticks\":\"\"}}],\"contour\":[{\"type\":\"contour\",\"colorbar\":{\"outlinewidth\":0,\"ticks\":\"\"},\"colorscale\":[[0.0,\"#0d0887\"],[0.1111111111111111,\"#46039f\"],[0.2222222222222222,\"#7201a8\"],[0.3333333333333333,\"#9c179e\"],[0.4444444444444444,\"#bd3786\"],[0.5555555555555556,\"#d8576b\"],[0.6666666666666666,\"#ed7953\"],[0.7777777777777778,\"#fb9f3a\"],[0.8888888888888888,\"#fdca26\"],[1.0,\"#f0f921\"]]}],\"surface\":[{\"type\":\"surface\",\"colorbar\":{\"outlinewidth\":0,\"ticks\":\"\"},\"colorscale\":[[0.0,\"#0d0887\"],[0.1111111111111111,\"#46039f\"],[0.2222222222222222,\"#7201a8\"],[0.3333333333333333,\"#9c179e\"],[0.4444444444444444,\"#bd3786\"],[0.5555555555555556,\"#d8576b\"],[0.6666666666666666,\"#ed7953\"],[0.7777777777777778,\"#fb9f3a\"],[0.8888888888888888,\"#fdca26\"],[1.0,\"#f0f921\"]]}],\"mesh3d\":[{\"type\":\"mesh3d\",\"colorbar\":{\"outlinewidth\":0,\"ticks\":\"\"}}],\"scatter\":[{\"fillpattern\":{\"fillmode\":\"overlay\",\"size\":10,\"solidity\":0.2},\"type\":\"scatter\"}],\"parcoords\":[{\"type\":\"parcoords\",\"line\":{\"colorbar\":{\"outlinewidth\":0,\"ticks\":\"\"}}}],\"scatterpolargl\":[{\"type\":\"scatterpolargl\",\"marker\":{\"colorbar\":{\"outlinewidth\":0,\"ticks\":\"\"}}}],\"bar\":[{\"error_x\":{\"color\":\"#2a3f5f\"},\"error_y\":{\"color\":\"#2a3f5f\"},\"marker\":{\"line\":{\"color\":\"#E5ECF6\",\"width\":0.5},\"pattern\":{\"fillmode\":\"overlay\",\"size\":10,\"solidity\":0.2}},\"type\":\"bar\"}],\"scattergeo\":[{\"type\":\"scattergeo\",\"marker\":{\"colorbar\":{\"outlinewidth\":0,\"ticks\":\"\"}}}],\"scatterpolar\":[{\"type\":\"scatterpolar\",\"marker\":{\"colorbar\":{\"outlinewidth\":0,\"ticks\":\"\"}}}],\"histogram\":[{\"marker\":{\"pattern\":{\"fillmode\":\"overlay\",\"size\":10,\"solidity\":0.2}},\"type\":\"histogram\"}],\"scattergl\":[{\"type\":\"scattergl\",\"marker\":{\"colorbar\":{\"outlinewidth\":0,\"ticks\":\"\"}}}],\"scatter3d\":[{\"type\":\"scatter3d\",\"line\":{\"colorbar\":{\"outlinewidth\":0,\"ticks\":\"\"}},\"marker\":{\"colorbar\":{\"outlinewidth\":0,\"ticks\":\"\"}}}],\"scattermapbox\":[{\"type\":\"scattermapbox\",\"marker\":{\"colorbar\":{\"outlinewidth\":0,\"ticks\":\"\"}}}],\"scatterternary\":[{\"type\":\"scatterternary\",\"marker\":{\"colorbar\":{\"outlinewidth\":0,\"ticks\":\"\"}}}],\"scattercarpet\":[{\"type\":\"scattercarpet\",\"marker\":{\"colorbar\":{\"outlinewidth\":0,\"ticks\":\"\"}}}],\"carpet\":[{\"aaxis\":{\"endlinecolor\":\"#2a3f5f\",\"gridcolor\":\"white\",\"linecolor\":\"white\",\"minorgridcolor\":\"white\",\"startlinecolor\":\"#2a3f5f\"},\"baxis\":{\"endlinecolor\":\"#2a3f5f\",\"gridcolor\":\"white\",\"linecolor\":\"white\",\"minorgridcolor\":\"white\",\"startlinecolor\":\"#2a3f5f\"},\"type\":\"carpet\"}],\"table\":[{\"cells\":{\"fill\":{\"color\":\"#EBF0F8\"},\"line\":{\"color\":\"white\"}},\"header\":{\"fill\":{\"color\":\"#C8D4E3\"},\"line\":{\"color\":\"white\"}},\"type\":\"table\"}],\"barpolar\":[{\"marker\":{\"line\":{\"color\":\"#E5ECF6\",\"width\":0.5},\"pattern\":{\"fillmode\":\"overlay\",\"size\":10,\"solidity\":0.2}},\"type\":\"barpolar\"}],\"pie\":[{\"automargin\":true,\"type\":\"pie\"}]},\"layout\":{\"autotypenumbers\":\"strict\",\"colorway\":[\"#636efa\",\"#EF553B\",\"#00cc96\",\"#ab63fa\",\"#FFA15A\",\"#19d3f3\",\"#FF6692\",\"#B6E880\",\"#FF97FF\",\"#FECB52\"],\"font\":{\"color\":\"#2a3f5f\"},\"hovermode\":\"closest\",\"hoverlabel\":{\"align\":\"left\"},\"paper_bgcolor\":\"white\",\"plot_bgcolor\":\"#E5ECF6\",\"polar\":{\"bgcolor\":\"#E5ECF6\",\"angularaxis\":{\"gridcolor\":\"white\",\"linecolor\":\"white\",\"ticks\":\"\"},\"radialaxis\":{\"gridcolor\":\"white\",\"linecolor\":\"white\",\"ticks\":\"\"}},\"ternary\":{\"bgcolor\":\"#E5ECF6\",\"aaxis\":{\"gridcolor\":\"white\",\"linecolor\":\"white\",\"ticks\":\"\"},\"baxis\":{\"gridcolor\":\"white\",\"linecolor\":\"white\",\"ticks\":\"\"},\"caxis\":{\"gridcolor\":\"white\",\"linecolor\":\"white\",\"ticks\":\"\"}},\"coloraxis\":{\"colorbar\":{\"outlinewidth\":0,\"ticks\":\"\"}},\"colorscale\":{\"sequential\":[[0.0,\"#0d0887\"],[0.1111111111111111,\"#46039f\"],[0.2222222222222222,\"#7201a8\"],[0.3333333333333333,\"#9c179e\"],[0.4444444444444444,\"#bd3786\"],[0.5555555555555556,\"#d8576b\"],[0.6666666666666666,\"#ed7953\"],[0.7777777777777778,\"#fb9f3a\"],[0.8888888888888888,\"#fdca26\"],[1.0,\"#f0f921\"]],\"sequentialminus\":[[0.0,\"#0d0887\"],[0.1111111111111111,\"#46039f\"],[0.2222222222222222,\"#7201a8\"],[0.3333333333333333,\"#9c179e\"],[0.4444444444444444,\"#bd3786\"],[0.5555555555555556,\"#d8576b\"],[0.6666666666666666,\"#ed7953\"],[0.7777777777777778,\"#fb9f3a\"],[0.8888888888888888,\"#fdca26\"],[1.0,\"#f0f921\"]],\"diverging\":[[0,\"#8e0152\"],[0.1,\"#c51b7d\"],[0.2,\"#de77ae\"],[0.3,\"#f1b6da\"],[0.4,\"#fde0ef\"],[0.5,\"#f7f7f7\"],[0.6,\"#e6f5d0\"],[0.7,\"#b8e186\"],[0.8,\"#7fbc41\"],[0.9,\"#4d9221\"],[1,\"#276419\"]]},\"xaxis\":{\"gridcolor\":\"white\",\"linecolor\":\"white\",\"ticks\":\"\",\"title\":{\"standoff\":15},\"zerolinecolor\":\"white\",\"automargin\":true,\"zerolinewidth\":2},\"yaxis\":{\"gridcolor\":\"white\",\"linecolor\":\"white\",\"ticks\":\"\",\"title\":{\"standoff\":15},\"zerolinecolor\":\"white\",\"automargin\":true,\"zerolinewidth\":2},\"scene\":{\"xaxis\":{\"backgroundcolor\":\"#E5ECF6\",\"gridcolor\":\"white\",\"linecolor\":\"white\",\"showbackground\":true,\"ticks\":\"\",\"zerolinecolor\":\"white\",\"gridwidth\":2},\"yaxis\":{\"backgroundcolor\":\"#E5ECF6\",\"gridcolor\":\"white\",\"linecolor\":\"white\",\"showbackground\":true,\"ticks\":\"\",\"zerolinecolor\":\"white\",\"gridwidth\":2},\"zaxis\":{\"backgroundcolor\":\"#E5ECF6\",\"gridcolor\":\"white\",\"linecolor\":\"white\",\"showbackground\":true,\"ticks\":\"\",\"zerolinecolor\":\"white\",\"gridwidth\":2}},\"shapedefaults\":{\"line\":{\"color\":\"#2a3f5f\"}},\"annotationdefaults\":{\"arrowcolor\":\"#2a3f5f\",\"arrowhead\":0,\"arrowwidth\":1},\"geo\":{\"bgcolor\":\"white\",\"landcolor\":\"#E5ECF6\",\"subunitcolor\":\"white\",\"showland\":true,\"showlakes\":true,\"lakecolor\":\"white\"},\"title\":{\"x\":0.05},\"mapbox\":{\"style\":\"light\"}}},\"xaxis\":{\"title\":{\"text\":\"Food category\"},\"tickangle\":-90},\"title\":{\"text\":\"Annual consumption x aliment group\"},\"yaxis\":{\"title\":{\"text\":\"Volum (Thousand of Kg. o L)\"}}},                        {\"responsive\": true}                    ).then(function(){\n",
       "                            \n",
       "var gd = document.getElementById('336cbfe2-826f-45f6-b6dc-753fbee160e1');\n",
       "var x = new MutationObserver(function (mutations, observer) {{\n",
       "        var display = window.getComputedStyle(gd).display;\n",
       "        if (!display || display === 'none') {{\n",
       "            console.log([gd, 'removed!']);\n",
       "            Plotly.purge(gd);\n",
       "            observer.disconnect();\n",
       "        }}\n",
       "}});\n",
       "\n",
       "// Listen for the removal of the full notebook cells\n",
       "var notebookContainer = gd.closest('#notebook-container');\n",
       "if (notebookContainer) {{\n",
       "    x.observe(notebookContainer, {childList: true});\n",
       "}}\n",
       "\n",
       "// Listen for the clearing of the current output cell\n",
       "var outputEl = gd.closest('.output');\n",
       "if (outputEl) {{\n",
       "    x.observe(outputEl, {childList: true});\n",
       "}}\n",
       "\n",
       "                        })                };                });            </script>        </div>"
      ]
     },
     "metadata": {},
     "output_type": "display_data"
    }
   ],
   "source": [
    "import plotly.graph_objs as go\n",
    "import plotly.express as px\n",
    "import plotly.io as pio\n",
    "pio.write_html(fig, file='annual consumption.html', auto_open=True)\n",
    "grouped = df_filtrado.groupby(['ALIMENT_GROUP'])['VOLUME'].sum().sort_values(ascending=False)\n",
    "colors = px.colors.qualitative.Plotly\n",
    "fig = go.Figure([go.Bar(x=grouped.index, y=grouped.values, marker_color=colors)])\n",
    "fig.update_layout(title='Annual consumption x aliment group', xaxis_title='Food category',\n",
    "                  yaxis_title='Volum (Thousand of Kg. o L)', xaxis_tickangle=-90)\n",
    "\n"
   ]
  },
  {
   "cell_type": "code",
   "execution_count": 53,
   "id": "500d2310",
   "metadata": {},
   "outputs": [],
   "source": [
    "import plotly.express as px\n",
    "\n",
    "fig = px.scatter(df_filtrado, x=\"VALUE\", y=\"VOLUME\", color=\"ALIMENT_GROUP\", size=\"VOLUME\",\n",
    "                 color_discrete_sequence=px.colors.qualitative.Alphabet)\n"
   ]
  },
  {
   "cell_type": "code",
   "execution_count": null,
   "id": "58b78329",
   "metadata": {},
   "outputs": [],
   "source": [
    "import plotly.express as px\n",
    "import plotly.io as pio\n",
    "pio.write_html(fig, file='monthly consumption.htlm', auto_open=True)\n",
    "fig = px.line(df_filtrado, x=\"MONTH\", y=\"VOLUME\", color=\"ALIMENT_GROUP\")\n",
    "fig.update_layout(\n",
    "    title=\"Monthy Consumption\",\n",
    "    xaxis_title=\"Month\",\n",
    "    yaxis_title=\"Volume (Kg or L)\",\n",
    "    legend=dict(\n",
    "        x=1.02,\n",
    "        y=1,\n",
    "        traceorder=\"normal\",\n",
    "        font=dict(\n",
    "            family=\"sans-serif\",\n",
    "            size=12,\n",
    "            color=\"black\"\n",
    "        ),\n",
    "        bgcolor=\"White\",\n",
    "        bordercolor=\"Grey\",\n",
    "        borderwidth=2\n",
    "    ),\n",
    "    xaxis=dict(tickangle=-90)\n",
    ")\n",
    "\n",
    "fig.show()\n"
   ]
  },
  {
   "cell_type": "code",
   "execution_count": null,
   "id": "77cc080d",
   "metadata": {},
   "outputs": [],
   "source": [
    "import pandas as pd\n",
    "import plotly.express as px\n",
    "import plotly.io as pio\n",
    "pio.write_html(fig,file=\"penetration.html\",auto_open=True)\n",
    "df_filtrado['MONTH'] = pd.to_datetime(df_filtrado['MONTH'], format='%B') #Convert to datatime\n",
    "\n",
    "df_filtrado = df_filtrado.sort_values('MONTH') #Order by month\n",
    "\n",
    "# Group by \"ALIMENT_GROUP\" and \"MONTH\" calculate mean of penetration\n",
    "grouped = df_filtrado.groupby(['ALIMENT_GROUP', 'MONTH'])['PENETRATION(%)'].mean().reset_index()\n",
    "\n",
    "# Plotly\n",
    "fig = px.line(grouped, x='MONTH', y='PENETRATION(%)', color='ALIMENT_GROUP', \n",
    "              title='% Monthly Market penetration vs Aliments Group')\n",
    "\n",
    "fig.update_xaxes(\n",
    "    tickangle=-45,\n",
    "    tickformat='%B'\n",
    ")\n",
    "plt.savefig('figures/penetration.png')\n",
    "os.system(\"start figures/penetration.png\")\n",
    "fig.show()\n"
   ]
  },
  {
   "cell_type": "markdown",
   "id": "89de679b",
   "metadata": {},
   "source": [
    "# 4. GOOGLE TRENDS"
   ]
  },
  {
   "cell_type": "markdown",
   "id": "90c2d024",
   "metadata": {},
   "source": [
    "Hereby we are going to compare the google search for the top1 viral recipe. The words searched will be in engligh and spanish:\n",
    "- Pan nube\n",
    "- Cloud bread"
   ]
  },
  {
   "cell_type": "code",
   "execution_count": null,
   "id": "3a5b835a",
   "metadata": {
    "scrolled": true
   },
   "outputs": [],
   "source": [
    "df_nube=pd.read_csv('data/trends_pannube.csv')"
   ]
  },
  {
   "cell_type": "markdown",
   "id": "7bf118ef",
   "metadata": {},
   "source": [
    "We will transfor the csv from Google trens, renaming columns and swithching weeks into months"
   ]
  },
  {
   "cell_type": "code",
   "execution_count": null,
   "id": "ebaeedad",
   "metadata": {},
   "outputs": [],
   "source": [
    "df_nube=pd.read_csv('data/pannube_cloudbread.csv')\n",
    "df_nube= df_nube.rename(columns={\n",
    "                        'Categoría: Todas las categorías': 'Cloud bread'})\n",
    "df_nube.reset_index(inplace=True)\n",
    "df_nube.rename(columns={'index': 'Weeks'}, inplace=True)\n",
    "df_nube = df_nube.drop(0)\n",
    "new_names = {'level_0': 'Weeks_', 'level_1': 'Search_pan_nube', 'Categoría: Todas las categorías': 'Cloud bread'}\n",
    "df_nube = df_nube.rename(columns=new_names)\n",
    "df_nube['Search_pan_nube'] = df_nube['Search_pan_nube'].astype(int)\n",
    "print(df_nube['Search_pan_nube'].dtype)\n",
    "df_nube['Cloud bread'] = df_nube['Cloud bread'].astype(int)\n",
    "print(df_nube['Cloud bread'].dtype)\n",
    "df_nube['Weeks_'] = pd.to_datetime(df_nube['Weeks_'])\n",
    "df_nube['Month'] = df_nube['Weeks_'].dt.month_name()\n",
    "df_nube_month = df_nube.groupby('Month', as_index=False)[['Search_pan_nube', 'Cloud bread']].sum()\n",
    "df_nube_month"
   ]
  },
  {
   "cell_type": "code",
   "execution_count": null,
   "id": "40c3cd32",
   "metadata": {},
   "outputs": [],
   "source": [
    "# Convert the column month in an ordered categorical column \n",
    "month_order = ['January', 'February', 'March', 'April', 'May', 'June', 'July', 'August', 'September', 'October', 'November', 'December']\n",
    "df_nube_month['Month'] = pd.Categorical(df_nube_month['Month'], categories=month_order, ordered=True)\n",
    "# order df\n",
    "df_nube_month = df_nube_month.sort_values('Month')\n",
    "fig = go.Figure()\n",
    "fig.add_trace(go.Scatter(x=df_nube_month['Month'], y=df_nube_month['Search_pan_nube'], mode='lines', fill='tozeroy', name='Search_pan_nube'))\n",
    "fig.add_trace(go.Scatter(x=df_nube_month['Month'], y=df_nube_month['Cloud bread'], mode='lines', fill='tozeroy', name='Cloud bread'))\n",
    "fig.update_layout(title='Monthly Searches for \"Pan Nube\" and \"Cloud Bread\"',\n",
    "                  xaxis_title='Month',\n",
    "                  yaxis_title='Searches')\n",
    "fig.show()\n"
   ]
  }
 ],
 "metadata": {
  "kernelspec": {
   "display_name": "ironhack",
   "language": "python",
   "name": "ironhack"
  },
  "language_info": {
   "codemirror_mode": {
    "name": "ipython",
    "version": 3
   },
   "file_extension": ".py",
   "mimetype": "text/x-python",
   "name": "python",
   "nbconvert_exporter": "python",
   "pygments_lexer": "ipython3",
   "version": "3.10.9"
  }
 },
 "nbformat": 4,
 "nbformat_minor": 5
}
